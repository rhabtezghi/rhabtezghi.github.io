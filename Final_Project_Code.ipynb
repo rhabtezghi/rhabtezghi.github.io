{
 "cells": [
  {
   "cell_type": "markdown",
   "source": "## Introduction",
   "metadata": {
    "cell_id": "4ef4b2e9d16a4a32a147701150e1f7c7",
    "tags": [],
    "is_collapsed": false,
    "deepnote_cell_type": "text-cell-h2"
   }
  },
  {
   "cell_type": "markdown",
   "source": "The following code entails all the function and methods we used to create our final project. It is currently run on an example dataset of size 50. \\\nThe dataset used in this project can be found under https://www.agriculture-vision.com/agriculture-vision-2021/dataset-2021 and can be downloaded via the aws cli. ",
   "metadata": {
    "cell_id": "bcdf5a7076ff4cf08f918c83fe42fafb",
    "tags": [],
    "deepnote_cell_type": "markdown",
    "deepnote_cell_height": 119.59375
   }
  },
  {
   "cell_type": "markdown",
   "source": "### Packages &amp; Directories",
   "metadata": {
    "cell_id": "ca6629d905304ead837df80f327ff36a",
    "tags": [],
    "is_collapsed": false,
    "deepnote_cell_type": "text-cell-h3"
   }
  },
  {
   "cell_type": "code",
   "metadata": {
    "cell_id": "6a41daaa-cfbe-4485-8688-4344816b6b4b",
    "deepnote_cell_type": "code",
    "deepnote_cell_height": 156
   },
   "source": "!pip install pandas\n!pip install sklearn\n!pip install tensorflow==2.7\n!pip install keras==2.7\n!pip install scipy\n!pip install tensorflow-addons",
   "execution_count": null,
   "outputs": []
  },
  {
   "cell_type": "code",
   "metadata": {
    "cell_id": "00001-dea4e125-8f95-4a5d-a20d-7bfc6214ca46",
    "deepnote_cell_type": "code",
    "deepnote_cell_height": 462
   },
   "source": "# Packages\nimport os\nimport time\nimport numpy as np\nimport pandas as pd \nfrom PIL import Image\nimport matplotlib.pyplot as plt\nfrom scipy.stats import randint as sp_randint\n\nfrom sklearn.decomposition import PCA\nfrom sklearn.model_selection import RandomizedSearchCV\nfrom sklearn.ensemble import RandomForestClassifier\nfrom sklearn.metrics import accuracy_score\n\nimport keras\nfrom tensorflow import keras\nimport keras.layers as layers\nfrom keras.models import Sequential,Input,Model\nfrom keras.layers import Dense, Dropout, Flatten\nfrom keras.layers import Conv2D, MaxPooling2D\nfrom keras.layers.advanced_activations import LeakyReLU\nimport tensorflow as tf\nimport tensorflow_addons as tfa",
   "execution_count": 1,
   "outputs": []
  },
  {
   "cell_type": "code",
   "metadata": {
    "cell_id": "00002-8ffe8349-1242-4f28-a1b5-166f7900ce22",
    "deepnote_cell_type": "code",
    "deepnote_cell_height": 282
   },
   "source": "# Different directory variables depending on stage of training/testing change to fit your environment\n\ndirectory_image_train = \"train/images/rgb\"\ndirectory_mask_train = \"train/masks\"\ndirectory_boundaries_train = \"train/boundaries\"\ndirectory_labels_train = \"train/labels/\"\n\ndirectory_image_validation = \"val/images/rgb\"\ndirectory_mask_validation = \"val/masks\"\ndirectory_boundaries_validation = \"val/boundaries\"\ndirectory_labels_validation = \"val/labels/\"\n\nsize = 50 #use to limit dataset size",
   "execution_count": 53,
   "outputs": []
  },
  {
   "cell_type": "markdown",
   "source": "### Labeling the dataset",
   "metadata": {
    "cell_id": "00003-730a5c14-c528-4987-8e8e-53ff38de55c1",
    "deepnote_cell_type": "markdown",
    "deepnote_cell_height": 62
   }
  },
  {
   "cell_type": "code",
   "metadata": {
    "cell_id": "00004-b629d916-34ad-4a47-a185-0576de32f494",
    "deepnote_cell_type": "code",
    "deepnote_cell_height": 1326
   },
   "source": "def labeling_picture(directory, size): \n    '''\n    Takes in a directory and a size of the data set to be labelled.\n    Returns: labeled pictures\n    '''\n    \n    # (1) 'label_list' gets the files in the inputted directory and returns a list of files in that directory.\n        # So if we put the 'labels' folder as directory, it will list the 9 labels (or folders) that are in there.\n    # (2) '_label' is the numerical value that we will give to the category/label \n    # (3) 'categories_df' is an empty list ...\n    # (4) 'pictures' is an empty list where the pictures will be added that we loop through below.\n    \n    label_list = os.listdir(directory)\n    _label = 0 \n    categories_df = []\n    pictures = []\n    _break = 0\n\n    # Looping through the labels (folder level)\n    # For each label or folder in this list that we retrieved in the previous step:\n    # (1) print the label\n    # (2) '_picture' is the number of the picture in the sorted list\n    # (3) 'category' is a list long enough to hold all picture labels to be appended to a dataframe\n    # (4) 'pic_list' is a variable which returns a list of files in the folders of the label (so one level deeper) and store it in pic_list\n    \n    for label in sorted(label_list):\n\n        if _break == size: \n            break\n        \n        pic_list = os.listdir(directory+label)\n        print(label) \n        _picture = 0 \n        category = [None] * size # or len(pic_list) if run on all data\n        \n        #looping through the pictures in the label folder\n        for picture in sorted(pic_list):\n            \n            if _break == size: \n                break\n            pictures.append(picture)\n            #check if picture has two colors by checking if all pixesl are on average black(0)\n            img = Image.open(directory+label+\"/\"+picture)\n            if np.average(img) != 0: \n\n                #add label to category matrix   \n                category[_picture] = 1\n            else: \n                category[_picture] = 0 \n            _picture += 1\n            _break += 1\n\n        _break = 0\n        _label += 1 \n        categories_df.append(category)\n\n    # Create a dataframe with all labeled pictures \n    y = pd.DataFrame({\n                \"double_plant\": categories_df[0],\n                \"drydown\": categories_df[1],\n                \"endrow\": categories_df[2],\n                \"nutrient_deficiency\": categories_df[3],\n                \"planter_skip\": categories_df[4],\n                \"storm_damage\": categories_df[5],\n                \"water\": categories_df[6],\n                \"waterway\": categories_df[7], \n                \"weed_cluster\": categories_df[8], \n                 }, \n                 index = np.unique(pictures))\n\n    return y",
   "execution_count": 54,
   "outputs": []
  },
  {
   "cell_type": "code",
   "metadata": {
    "cell_id": "00005-96add974-7480-4684-8fcd-4f2ef467c87c",
    "deepnote_cell_type": "code",
    "deepnote_cell_height": 518.515625
   },
   "source": "#getting the labeled data for training\ny_train_full = labeling_picture(directory_labels_train, size)\n#labelling the validation & test data \ny_val_and_test = labeling_picture(directory_labels_validation, size)\n",
   "execution_count": 55,
   "outputs": [
    {
     "name": "stdout",
     "output_type": "stream",
     "text": "double_plant\ndrydown\nendrow\nnutrient_deficiency\nplanter_skip\nstorm_damage\nwater\nwaterway\nweed_cluster\ndouble_plant\ndrydown\nendrow\nnutrient_deficiency\nplanter_skip\nstorm_damage\nwater\nwaterway\nweed_cluster\n"
    }
   ]
  },
  {
   "cell_type": "markdown",
   "source": "### Data preprocessing and cleaning",
   "metadata": {
    "cell_id": "00006-39198a7d-eb0a-41ad-8d9d-271cfeae89dc",
    "deepnote_cell_type": "markdown",
    "deepnote_cell_height": 62
   }
  },
  {
   "cell_type": "code",
   "metadata": {
    "cell_id": "00007-0b5b24c2-3848-46e7-80c5-3156b9287743",
    "deepnote_cell_type": "code",
    "deepnote_cell_height": 210
   },
   "source": "# This function takes the arrays of the RGB image, the boundary and the mask as input\n# It returns the product of the three arrays, meaning these images will be the final input\n\ndef masking_bounding (np_image, np_bound, np_mask):\n    '''\n    Return the image RBG values after multiplication with boundary and mask values. \n    '''\n    masked_np = np.multiply(np_image, np_bound, np_mask)\n    return masked_np",
   "execution_count": 56,
   "outputs": []
  },
  {
   "cell_type": "code",
   "metadata": {
    "cell_id": "00008-c49116ae-716c-4be6-ac3f-7ba19e354239",
    "deepnote_cell_type": "code",
    "deepnote_cell_height": 426
   },
   "source": "# This function is used to filter out the distorted/invalid pictures that should not be used for input\n# The function returns a list of three elements corresponding to avg RBG values respectivly. If these exceed the limits, then the image will be considered non-usable.\n\ndef filter_rbg(image_value, image_number):\n    \"\"\"\n    Takes in the np_image variable from calc_masked_boundaries and returns average RBG values. After \n    that it checks for anomialies and returns a list of the distorted pictures. \n    \"\"\"\n    avg_val = np.average(image_value, axis = (1, 2)) # returns a list of three elements corresponding to avg RBG values respectivly\n\n    upper = 250 # upper limit\n    lower = 5 # lower limit\n    filter_TF = False\n\n    for val in avg_val:\n        if val < lower or val > upper:\n            filter_TF = True\n            break\n\n\n    return filter_TF, image_number",
   "execution_count": 57,
   "outputs": []
  },
  {
   "cell_type": "code",
   "metadata": {
    "cell_id": "00009-d99bc56c-97b5-4d58-a20d-93ed76f58e27",
    "deepnote_cell_type": "code",
    "deepnote_cell_height": 1362
   },
   "source": "def calc_masked_boundaries(image_path, mask_path, boundaries_path, size):\n    \"\"\"\n    Taking the raw pictures as input and outputting them as input format for PCA/Alexnet.\n    The funciton also calls the filetering function (filter_rbg) to filter out bad pictures. \n    After that it scales the pixels values to a range between 0 and 1. \n\n    Returns a tuple of an array and a tensor that needs to be unpacked into two variables \n    before it can be used in either PCA or Alexnet. The array is located at position 0 and\n    is used for the random forrest and the tensor is located at position 1 and is used for\n    the AlexNet.\n\n    \"\"\"\n\n    #creating a list of the images to be processed \n    image_lst = os.listdir(image_path)\n\n    #creating a list of the images & necessary variables\n    X = []\n    image_num = 0 \n    distorted_pics = []\n    _break = 0\n\n    #looping through the pictures\n    for image in sorted(image_lst):\n\n        if _break == size: \n            break\n\n        image = image[:-4]\n\n        #access the mask \n        mask_img = Image.open(mask_path+\"/\"+ image + \".png\").convert(\"RGB\")\n\n        #access the boundaries \n        boundaries_img = Image.open(boundaries_path + \"/\" + image + \".png\").convert(\"RGB\")\n\n        #accessing the image \n        image_img = Image.open(image_path + \"/\" + image +\".jpg\").convert(\"RGB\")\n\n        #numpy conversion\n        np_image = np.asarray(image_img)\n        np_mask = np.asarray(mask_img)\n        np_boundaries = np.asarray(boundaries_img)\n\n        #Filter picture in order to make sure that RBG values are not distorted\n        filter_TF, img_index = filter_rbg(np_image, image_num)\n        if filter_TF == True:\n            distorted_pics.append(img_index)\n            image_num += 1\n            _break += 1\n        else: \n            #apply mask and boundary to original image\n            masked_bound_img = masking_bounding(np_image, np_boundaries, np_mask)\n\n            #normalizing the image         \n            norm_img = tf.image.resize(masked_bound_img, (277,277))\n\n            #standardizing the image to values between 0 - 1\n            norm_img = norm_img / 255\n\n            #appending normalised picture to the array\n            X.append(norm_img)\n            \n            #necessary variables to check if dataset size is reached and keep count of \n            _break += 1\n            print(image_num)\n            image_num += 1\n    \n    #creating the Random Forest and CNN input\n    X_rf = np.array(X) # Random Forest\n    X = tf.convert_to_tensor(X) # CNN\n    \n    return X_rf, X, distorted_pics",
   "execution_count": 58,
   "outputs": []
  },
  {
   "cell_type": "code",
   "metadata": {
    "cell_id": "00010-249455ea-31c3-4945-a581-7b565456c21b",
    "deepnote_cell_type": "code",
    "deepnote_cell_height": 1758
   },
   "source": "def calc_masked_boundaries_val_test(image_path, mask_path, boundaries_path, y_val_test, size):\n    \"\"\"\n    Taking the raw pictures as input and outputting them as validation & test input format for PCA/Alexnet.\n    The funciton also calls the filetering function (filter_rbg) to filter out bad pictures.\n    After that it scales the pixels values to a range between 0 and 1.\n\n    Returns a tuple of an array and a tensor that needs to be unpacked into two variables\n    before it can be used in either PCA or Alexnet. The array is located at position 0 and\n    is used for the random forrest and the tensor is located at position 1 and is used for\n    the AlexNet.\n\n    \"\"\"\n\n    # creating a list of the images to be processed\n    image_lst = os.listdir(image_path)\n\n    # creating a list of the images & necessary variables\n    X_val = [] #holding image details of validation data\n    X_test = [] #holding image details of test data\n    image_num = 0 #image number \n    _break = 0 #use for limited data set if no limit then comment out\n    distorted_pics = [] #list of distorted pics (indicies)\n    df_y_val = pd.DataFrame() #Dataframe holding all validation data labels\n    df_y_test = pd.DataFrame() #Dataframe holding all test data labels\n\n    # looping through the pictures\n    for image in sorted(image_lst):\n\n        if _break == size:\n         break\n\n        image = image[:-4]\n\n        # access the mask\n        mask_img = Image.open(mask_path + \"/\" + image + \".png\").convert(\"RGB\")\n\n        # access the boundaries\n        boundaries_img = Image.open(boundaries_path + \"/\" + image + \".png\").convert(\n            \"RGB\"\n        )\n\n        # accessing the image\n        image_img = Image.open(image_path + \"/\" + image + \".jpg\").convert(\"RGB\")\n\n        # numpy conversion\n        np_image = np.asarray(image_img)\n        np_mask = np.asarray(mask_img)\n        np_boundaries = np.asarray(boundaries_img)\n\n        # Filter picture in order to make sure that RBG values are not distorted\n        filter_TF, img_index = filter_rbg(np_image, image_num)\n        if filter_TF == True:\n            distorted_pics.append(img_index)\n            image_num += 1\n            _break += 1\n        else:\n\n            # calculating the masked and boundaries imgs for validation & test\n            masked_np = np.multiply(np_image, np_mask)\n            bound_masked_np = np.multiply(np_image, np_boundaries, np_mask)\n\n            # normalizing the images for the two sets\n            norm_img_test = tf.image.resize(masked_np, (277, 277))\n            norm_img_val = tf.image.resize(bound_masked_np, (277, 277))\n\n            # standardizing the image to values between 0 - 1\n            norm_img_test = norm_img_test / 255\n            norm_img_val = norm_img_val / 255\n\n            # appending normalised picture to the array of validation & test data\n            if image_num % 2 == 0:\n                X_val.append(norm_img_val)\n                entry = y_val_test.loc[image + \".png\"]\n                df_y_val = pd.concat([df_y_val, entry], axis=1)\n\n            else:\n                X_test.append(norm_img_test)\n                entry = y_val_test.loc[image + \".png\"]\n                df_y_test = pd.concat([df_y_test, entry], axis=1)\n\n            # necessary variables to check if dataset size is reached and keep count of\n            _break += 1\n            image_num += 1\n        # print(image_num)\n        mask_img.close()\n        boundaries_img.close()\n        image_img.close()\n\n    # creating the Random Forest and CNN input\n    X_rf_val = np.array(X_val)\n    X_rf_test = np.array(X_test)\n    X_val = tf.convert_to_tensor(X_val)\n    X_test = tf.convert_to_tensor(X_test)\n\n    return X_rf_val, X_rf_test, X_val, X_test, distorted_pics, df_y_val, df_y_test",
   "execution_count": 59,
   "outputs": []
  },
  {
   "cell_type": "code",
   "metadata": {
    "cell_id": "00011-c2c17c1b-185d-482e-9dd7-9fd936accd59",
    "deepnote_cell_type": "code",
    "deepnote_cell_height": 773
   },
   "source": "# This cell tests the calc_masked_boundaries function.\n# It unpacks the tuple (immutable list) of the three arrays and assigns them to the three variables respectively\n\nX_rf_train, X_cnn_train, distort_pics = calc_masked_boundaries(directory_image_train,directory_mask_train, directory_boundaries_train, size)\nprint(\"Filtered pictures: \",len(distort_pics))",
   "execution_count": 60,
   "outputs": [
    {
     "name": "stdout",
     "output_type": "stream",
     "text": "0\n1\n2\n3\n4\n5\n6\n7\n8\n9\n10\n11\n12\n13\n14\n15\n16\n17\n18\n19\n20\n21\n22\n23\n24\n25\n26\n27\n28\n29\n30\n31\n32\n34\n35\n37\n38\n39\n40\n41\n42\n45\n46\n47\n48\n49\nFiltered pictures:  4\n"
    }
   ]
  },
  {
   "cell_type": "code",
   "metadata": {
    "cell_id": "00012-43bc9b5a-4bb3-4288-94e2-e4f675f484d0",
    "deepnote_cell_type": "code",
    "deepnote_cell_height": 138
   },
   "source": "# This cell drops the filtered datapoints of the training set.\n# It goes into the dataframe of labels for the training set and drops the distorted pictures.\n# We use \"inplace = True\" so the data is modified in place and nothing is returned. It merely updates the dataframe. \n\ny_train_full.drop(y_train_full.index[distort_pics], inplace = True )",
   "execution_count": 61,
   "outputs": []
  },
  {
   "cell_type": "code",
   "metadata": {
    "cell_id": "00013-687d3c11-f6fc-4085-879e-5a75c011a97c",
    "deepnote_cell_type": "code",
    "deepnote_cell_height": 102
   },
   "source": "# This cell tests the calc_maskes_boundaries_val_train function\n# It unpacks the tuple (immutable list) of the five arrays and assigns them to the five variables respectively\nX_rf_val, X_rf_test, X_val, X_test, distorted_pics, df_y_val, df_y_test= calc_masked_boundaries_val_test(directory_image_validation,directory_mask_validation, directory_boundaries_validation, y_val_and_test, size)",
   "execution_count": 62,
   "outputs": []
  },
  {
   "cell_type": "code",
   "metadata": {
    "cell_id": "00014-af02a42a-b212-457d-bae5-8485703f580e",
    "deepnote_cell_type": "code",
    "deepnote_cell_height": 408.171875
   },
   "source": "print(X_cnn_train.shape)\nprint(y_train_full.shape)\nprint(X_val.shape)\ny_val = df_y_val.transpose()\ny_val = np.array(y_val).astype(\"int\") \ny_val = tf.convert_to_tensor(y_val)\nprint(y_val.shape)\ny_test = df_y_test.transpose()\ny_test = np.array(y_test).astype(\"int\") \ny_test = tf.convert_to_tensor(y_test)\nprint(y_test.shape) \nprint(X_test.shape)",
   "execution_count": 63,
   "outputs": [
    {
     "name": "stdout",
     "output_type": "stream",
     "text": "(46, 277, 277, 3)\n(46, 9)\n(25, 277, 277, 3)\n(25, 9)\n(25, 9)\n(25, 277, 277, 3)\n"
    }
   ]
  },
  {
   "cell_type": "markdown",
   "source": "### AlexNet unmodified",
   "metadata": {
    "cell_id": "00015-3b1fc9ef-4a5a-4544-a329-b1b1b3fcf138",
    "deepnote_cell_type": "markdown",
    "deepnote_cell_height": 62
   }
  },
  {
   "cell_type": "code",
   "metadata": {
    "cell_id": "00016-52b7e21c-9ce5-468f-8bda-31a1a104b382",
    "deepnote_cell_type": "code",
    "deepnote_cell_height": 984
   },
   "source": "# AlexNet model unmodified\n# In order to use AlexNet we use the TensorFlow library. \n# On top of the Tensorflow libarary AlexNet uses the Keras library/API to build its architecture. \n\n# The basic AlexNet model is a sequential model which is appropriate for stacking layers. We create this model here. \nmodel = keras.Sequential()\n\n# The basic AlexNet model has 5 convolutional layers (Conv2D) which use the relu activation function (using this function speeds up the training process).\n# Filters: the number of filters used in the convolutional layers changes throughout the network. As we go deeper the number of filters is increasing, meaning it is extracting more features as we go through the network. \n# Kernel size: the kernel size also varies throughout the architecture. The kernel size decreases the deeper we go into the network, decreasing the size of the shape of the feature map. \n# Strides: the stride controls how the filter convolves around the input volume and represents how much the filter shifts. In AlexNet this decreases for 4 to 1, becoming more precise. \n# Input shape: the input shape of our images. \n# Padding: Layers 2-5 include padding to prevent the size of the feature maps from reducing drastically\n\n# After each new layer, BatchNormalization is applied to avoid the gradient becoming too small. \n\n# After the first two and the last convolutional layer, a pooling layer is included to summarize the learned learned image features in the previous layer. \n# Pool size: this says something about how big the region is that the maximum will be taken from. The smaller the size, the more specific it is. \n# Strides: represents how big the area shifts with each step.\n\n# Flatten: The five convolutional layers are followed by a flatten layer which converts all the 2d arrays that resulted from the pooled feature maps into one long linear vector. This is needed to push the input through to the fully connected layers\n# Next up we have two fully connected layers which include 4096 neurons and have the relu function as the activation function. \n# Dropout: 0.5 means that in training a neuron will be connected to only half as many input neurons as it would when testing.\n# The final activation function is the softmax function, which has proved to work well with multiclass classification. \nmodel.add(layers.Conv2D(filters=96, kernel_size=(11, 11), \n                        strides=(4, 4), activation=\"relu\", \n                        input_shape=(277, 277, 3)))\nmodel.add(layers.BatchNormalization())\nmodel.add(layers.MaxPool2D(pool_size=(3, 3), strides= (2, 2)))\nmodel.add(layers.Conv2D(filters=256, kernel_size=(5, 5), \n                        strides=(1, 1), activation=\"relu\", \n                        padding=\"same\"))\nmodel.add(layers.BatchNormalization())\nmodel.add(layers.MaxPool2D(pool_size=(3, 3), strides=(2, 2)))\nmodel.add(layers.Conv2D(filters=384, kernel_size=(3, 3), \n                        strides=(1, 1), activation=\"relu\", \n                        padding=\"same\"))\nmodel.add(layers.BatchNormalization())\nmodel.add(layers.Conv2D(filters=384, kernel_size=(3, 3), \n                        strides=(1, 1), activation=\"relu\", \n                        padding=\"same\"))\nmodel.add(layers.BatchNormalization())\nmodel.add(layers.Conv2D(filters=256, kernel_size=(3, 3), \n                        strides=(1, 1), activation=\"relu\", \n                        padding=\"same\"))\nmodel.add(layers.BatchNormalization())\nmodel.add(layers.MaxPool2D(pool_size=(3, 3), strides=(2, 2)))\nmodel.add(layers.Flatten())\nmodel.add(layers.Dense(4096, activation=\"relu\"))\nmodel.add(layers.Dense(4096, activation=\"relu\"))\nmodel.add(layers.Dropout(0.5))\nmodel.add(layers.Dense(9, activation=\"softmax\"))",
   "execution_count": 64,
   "outputs": []
  },
  {
   "cell_type": "code",
   "metadata": {
    "cell_id": "00017-ceeb0cf9-0c07-4ecd-8ba2-b25fa08dff18",
    "deepnote_cell_type": "code",
    "deepnote_cell_height": 932.890625
   },
   "source": "# In this cell we configure the model with the loss functions, optimizers and the metrics.\n# The standard loss function of AlexNet is the BinaryCrossentropy\n# from_logits = False since we want a proabability (i.e. a value between [0,1])\n# We use the Stochastic Gradient Descent as optimizer.\n# The metric we use to evaluate our model is the MeanIoU\n\nmodel.compile(loss=tf.keras.losses.BinaryCrossentropy(from_logits=False), \n              optimizer=tf.optimizers.SGD(lr=0.001),\n              metrics=[tf.keras.metrics.MeanIoU(num_classes=9)])\nmodel.summary()",
   "execution_count": 65,
   "outputs": [
    {
     "name": "stdout",
     "output_type": "stream",
     "text": "Model: \"sequential_2\"\n_________________________________________________________________\n Layer (type)                Output Shape              Param #   \n=================================================================\n conv2d_10 (Conv2D)          (None, 67, 67, 96)        34944     \n                                                                 \n batch_normalization_10 (Bat  (None, 67, 67, 96)       384       \n chNormalization)                                                \n                                                                 \n max_pooling2d_6 (MaxPooling  (None, 33, 33, 96)       0         \n 2D)                                                             \n                                                                 \n conv2d_11 (Conv2D)          (None, 33, 33, 256)       614656    \n                                                                 \n batch_normalization_11 (Bat  (None, 33, 33, 256)      1024      \n chNormalization)                                                \n                                                                 \n max_pooling2d_7 (MaxPooling  (None, 16, 16, 256)      0         \n 2D)                                                             \n                                                                 \n conv2d_12 (Conv2D)          (None, 16, 16, 384)       885120    \n                                                                 \n batch_normalization_12 (Bat  (None, 16, 16, 384)      1536      \n chNormalization)                                                \n                                                                 \n conv2d_13 (Conv2D)          (None, 16, 16, 384)       1327488   \n                                                                 \n batch_normalization_13 (Bat  (None, 16, 16, 384)      1536      \n chNormalization)                                                \n                                                                 \n conv2d_14 (Conv2D)          (None, 16, 16, 256)       884992    \n                                                                 \n batch_normalization_14 (Bat  (None, 16, 16, 256)      1024      \n chNormalization)                                                \n                                                                 \n max_pooling2d_8 (MaxPooling  (None, 7, 7, 256)        0         \n 2D)                                                             \n                                                                 \n flatten_2 (Flatten)         (None, 12544)             0         \n                                                                 \n dense_6 (Dense)             (None, 4096)              51384320  \n                                                                 \n dense_7 (Dense)             (None, 4096)              16781312  \n                                                                 \n dropout_2 (Dropout)         (None, 4096)              0         \n                                                                 \n dense_8 (Dense)             (None, 9)                 36873     \n                                                                 \n=================================================================\nTotal params: 71,955,209\nTrainable params: 71,952,457\nNon-trainable params: 2,752\n_________________________________________________________________\n"
    },
    {
     "name": "stderr",
     "output_type": "stream",
     "text": "/usr/local/lib/python3.9/site-packages/keras/optimizer_v2/gradient_descent.py:102: UserWarning: The `lr` argument is deprecated, use `learning_rate` instead.\n  super(SGD, self).__init__(name, **kwargs)\n"
    }
   ]
  },
  {
   "cell_type": "code",
   "metadata": {
    "cell_id": "00018-19e629c5-df65-4cb2-ac9c-b056a900427f",
    "deepnote_cell_type": "code",
    "deepnote_cell_height": 446.96875
   },
   "source": "# In this cell we train our model on the training set. \n# We track how much time it takes to train\n# We specify that the algorithm will work through the entire training set 50 times. \n# We specify the data on which to evaluate the loss at the end of each epoch\n# We instruct it to first shuffle our entire dataset and to then make batches of size 64 --> we ise 64 training examples for each step in SGD. \n\nstart = time.time()\nmodel.fit(X_cnn_train,y_train_full,\n          epochs=2,\n          validation_data=(X_val,y_val),\n          validation_freq=1, \n          shuffle = True, \n          batch_size = 64)\nend = time.time()\nprint(end-start)",
   "execution_count": 66,
   "outputs": [
    {
     "name": "stdout",
     "output_type": "stream",
     "text": "Epoch 1/2\n1/1 [==============================] - 4s 4s/step - loss: 1.2024 - mean_io_u_2: 0.4444 - val_loss: 0.6958 - val_mean_io_u_2: 0.4356\nEpoch 2/2\n1/1 [==============================] - 3s 3s/step - loss: 0.8585 - mean_io_u_2: 0.4444 - val_loss: 0.6948 - val_mean_io_u_2: 0.4356\n6.900047063827515\n"
    }
   ]
  },
  {
   "cell_type": "code",
   "metadata": {
    "cell_id": "00019-ac844477-fd23-40be-8c4c-1c018613143d",
    "deepnote_cell_type": "code",
    "deepnote_cell_height": 181.875,
    "deepnote_output_heights": [
     null,
     21.1875
    ]
   },
   "source": "# In this cell we evaluate the performance of our model based on the predefined metrics\nmodel.evaluate(X_test,y_test)",
   "execution_count": 67,
   "outputs": [
    {
     "name": "stdout",
     "output_type": "stream",
     "text": "1/1 [==============================] - 0s 369ms/step - loss: 0.6951 - mean_io_u_2: 0.4422\n"
    },
    {
     "data": {
      "text/plain": "[0.6950905323028564, 0.4422222077846527]"
     },
     "execution_count": 67,
     "metadata": {},
     "output_type": "execute_result"
    }
   ]
  },
  {
   "cell_type": "markdown",
   "source": "### AlexNet modified",
   "metadata": {
    "cell_id": "00020-454531c3-95f2-4ba2-8d95-9fc2644bfe5a",
    "deepnote_cell_type": "markdown",
    "deepnote_cell_height": 62
   }
  },
  {
   "cell_type": "code",
   "metadata": {
    "cell_id": "00021-f0ad2adb-6e1b-4033-8687-2f6e426c2280",
    "deepnote_cell_type": "code",
    "deepnote_cell_height": 660
   },
   "source": "# AlexNet model modified\n\n# In this cell we re-define the AlexNet architecture. \n\nmodel_AN = keras.Sequential()\n\nmodel_AN.add(layers.Conv2D(filters=96, kernel_size=(11, 11), \n                        strides=(4, 4), activation=\"relu\", \n                        input_shape=(277, 277, 3)))\nmodel_AN.add(layers.BatchNormalization())\nmodel_AN.add(layers.MaxPool2D(pool_size=(3, 3), strides= (2, 2)))\nmodel_AN.add(layers.Conv2D(filters=256, kernel_size=(5, 5), \n                        strides=(1, 1), activation=\"relu\", \n                        padding=\"same\"))\nmodel_AN.add(layers.BatchNormalization())\nmodel_AN.add(layers.MaxPool2D(pool_size=(3, 3), strides=(2, 2)))\nmodel_AN.add(layers.Conv2D(filters=384, kernel_size=(3, 3), \n                        strides=(1, 1), activation=\"relu\", \n                        padding=\"same\"))\nmodel_AN.add(layers.BatchNormalization())\nmodel_AN.add(layers.Conv2D(filters=384, kernel_size=(3, 3), \n                        strides=(1, 1), activation=\"relu\", \n                        padding=\"same\"))\nmodel_AN.add(layers.BatchNormalization())\nmodel_AN.add(layers.Conv2D(filters=256, kernel_size=(3, 3), \n                        strides=(1, 1), activation=\"relu\", \n                        padding=\"same\"))\nmodel_AN.add(layers.BatchNormalization())\nmodel_AN.add(layers.MaxPool2D(pool_size=(3, 3), strides=(2, 2)))\nmodel_AN.add(layers.Flatten())\nmodel_AN.add(layers.Dense(4096, activation=\"relu\"))\nmodel_AN.add(layers.Dense(4096, activation=\"relu\"))\nmodel_AN.add(layers.Dropout(0.5))\nmodel_AN.add(layers.Dense(9, activation=\"softmax\"))",
   "execution_count": 68,
   "outputs": []
  },
  {
   "cell_type": "code",
   "metadata": {
    "cell_id": "00022-a1f4fdff-2f76-4771-8688-38bf386510b0",
    "deepnote_cell_type": "code",
    "deepnote_cell_height": 1022.890625
   },
   "source": "# In this cell we configure the model with the loss functions, optimizers and the metrics.\n# Modification: we use the SigmoidFocalCrossEntropy loss function since it has shown to be extremely useful to deal with class imbalance\n# Alpha: this is the balancing factor. We have 9 different categories and the numbers represent their respective percentage of the whole. \n# Gamma: this is the modulating factor. It is standard to take a value of 2.  \n# SGD: We still use SGD, but now we introduce a learning rate in combination with nesterov accelerated learning and a decay rate. This is chosen to both optimize and generalize the process.  \n\n#including a learning rate schedule to have a decay in learning rate\nlearning_rate = 0.1\nepochs = 50\ndecay_rate = learning_rate / epochs\n\nmodel_AN.compile(loss=tfa.losses.SigmoidFocalCrossEntropy(alpha=[.1, .30, .04, .22, .04, .01,.04,.06,.19], gamma=2),\n              optimizer=tf.optimizers.SGD(lr=learning_rate, nesterov = True, decay = decay_rate),\n              metrics=[tf.keras.metrics.MeanIoU(num_classes=9)])\nmodel_AN.summary()",
   "execution_count": 69,
   "outputs": [
    {
     "name": "stdout",
     "output_type": "stream",
     "text": "Model: \"sequential_3\"\n_________________________________________________________________\n Layer (type)                Output Shape              Param #   \n=================================================================\n conv2d_15 (Conv2D)          (None, 67, 67, 96)        34944     \n                                                                 \n batch_normalization_15 (Bat  (None, 67, 67, 96)       384       \n chNormalization)                                                \n                                                                 \n max_pooling2d_9 (MaxPooling  (None, 33, 33, 96)       0         \n 2D)                                                             \n                                                                 \n conv2d_16 (Conv2D)          (None, 33, 33, 256)       614656    \n                                                                 \n batch_normalization_16 (Bat  (None, 33, 33, 256)      1024      \n chNormalization)                                                \n                                                                 \n max_pooling2d_10 (MaxPoolin  (None, 16, 16, 256)      0         \n g2D)                                                            \n                                                                 \n conv2d_17 (Conv2D)          (None, 16, 16, 384)       885120    \n                                                                 \n batch_normalization_17 (Bat  (None, 16, 16, 384)      1536      \n chNormalization)                                                \n                                                                 \n conv2d_18 (Conv2D)          (None, 16, 16, 384)       1327488   \n                                                                 \n batch_normalization_18 (Bat  (None, 16, 16, 384)      1536      \n chNormalization)                                                \n                                                                 \n conv2d_19 (Conv2D)          (None, 16, 16, 256)       884992    \n                                                                 \n batch_normalization_19 (Bat  (None, 16, 16, 256)      1024      \n chNormalization)                                                \n                                                                 \n max_pooling2d_11 (MaxPoolin  (None, 7, 7, 256)        0         \n g2D)                                                            \n                                                                 \n flatten_3 (Flatten)         (None, 12544)             0         \n                                                                 \n dense_9 (Dense)             (None, 4096)              51384320  \n                                                                 \n dense_10 (Dense)            (None, 4096)              16781312  \n                                                                 \n dropout_3 (Dropout)         (None, 4096)              0         \n                                                                 \n dense_11 (Dense)            (None, 9)                 36873     \n                                                                 \n=================================================================\nTotal params: 71,955,209\nTrainable params: 71,952,457\nNon-trainable params: 2,752\n_________________________________________________________________\n"
    },
    {
     "name": "stderr",
     "output_type": "stream",
     "text": "/usr/local/lib/python3.9/site-packages/keras/optimizer_v2/gradient_descent.py:102: UserWarning: The `lr` argument is deprecated, use `learning_rate` instead.\n  super(SGD, self).__init__(name, **kwargs)\n"
    }
   ]
  },
  {
   "cell_type": "code",
   "metadata": {
    "cell_id": "00023-45847d71-cb60-49d1-a74d-515ecc683dc0",
    "deepnote_cell_type": "code",
    "deepnote_cell_height": 428.96875
   },
   "source": "# In this cell we train our model on the training set. \n\nstart = time.time()\n\nmodel_AN.fit(X_cnn_train,y_train_full,\n                     epochs=2,\n                     validation_data=(X_val,y_val),\n                     validation_freq=1, \n                     shuffle = True,\n                     batch_size = 64\n                     )\n\nend = time.time() \nprint(end-start)",
   "execution_count": 71,
   "outputs": [
    {
     "name": "stdout",
     "output_type": "stream",
     "text": "Epoch 1/2\n1/1 [==============================] - 3s 3s/step - loss: 4.1749 - mean_io_u_3: 0.7455 - val_loss: 16.8772 - val_mean_io_u_3: 0.3800\nEpoch 2/2\n1/1 [==============================] - 3s 3s/step - loss: 4.1749 - mean_io_u_3: 0.7455 - val_loss: 16.8772 - val_mean_io_u_3: 0.3800\n5.865911960601807\n"
    }
   ]
  },
  {
   "cell_type": "code",
   "metadata": {
    "cell_id": "00024-60315811-db38-44ea-a3dd-74860cb5c6ab",
    "deepnote_cell_type": "code",
    "deepnote_cell_height": 181.875,
    "deepnote_output_heights": [
     null,
     21.1875
    ]
   },
   "source": "# In this cell we evaluate the performance of our model based on the predefined metrics\nmodel_AN.evaluate(X_test,y_test)",
   "execution_count": 72,
   "outputs": [
    {
     "name": "stdout",
     "output_type": "stream",
     "text": "1/1 [==============================] - 0s 387ms/step - loss: 16.6242 - mean_io_u_3: 0.3867\n"
    },
    {
     "data": {
      "text/plain": "[16.624202728271484, 0.3866666555404663]"
     },
     "execution_count": 72,
     "metadata": {},
     "output_type": "execute_result"
    }
   ]
  },
  {
   "cell_type": "markdown",
   "source": "### Random Forest \n",
   "metadata": {
    "cell_id": "00025-9a1340aa-1e85-43d4-882a-c53c94a12423",
    "deepnote_cell_type": "markdown",
    "deepnote_cell_height": 62
   }
  },
  {
   "cell_type": "code",
   "metadata": {
    "cell_id": "00026-1b660f53-ddb1-4f10-8f7c-178f7a0358ae",
    "deepnote_cell_type": "code",
    "deepnote_cell_height": 408
   },
   "source": "# We will be using the random forest classifier from the sklearn package. \n# For this the input must be reshaped from a 4D shape to a 2D shape. We must therefore reshape our input and we do that below. \n# We reshape from a by (1) extracting the arrays from the shape tuple and \n# (2) multiply the dimensions of the images with each other to form form one dimension.\n\n# nsamples = amount of images\n# nx = number of x pixels (277)\n# ny = number of y pixels (277)\n# nrgb = number of colour streams (3)\n\n# Changing the shape of the train set \nnsamples, nx, ny, nrgb = X_rf_train.shape\nX_rf_train2 = X_rf_train.reshape((nsamples,nx*ny*nrgb))\n# Changing the shape of the validation set\nnsamples, nx, ny, nrgb = X_rf_val.shape\nX_rf_val2 = X_rf_val.reshape((nsamples,nx*ny*nrgb))\n# Changing the shape of the test set\nnsamples, nx, ny, nrgb = X_rf_test.shape\nX_rf_test2 = X_rf_test.reshape((nsamples,nx*ny*nrgb))\n",
   "execution_count": 73,
   "outputs": []
  },
  {
   "cell_type": "code",
   "metadata": {
    "cell_id": "00027-3ce73be7-8fa9-4fd8-ab10-ac402a09801f",
    "deepnote_cell_type": "code",
    "deepnote_cell_height": 701.1875,
    "deepnote_output_heights": [
     21.1875,
     264
    ]
   },
   "source": "# In this cell we perform PCA to reduce dimensionality and increase the speed of the runs\n\npca = PCA(n_components=19) #if size is used then n_components must be adjusted\nX_train_pca = pca.fit_transform(X_rf_train2)\nX_val_pca = pca.fit_transform(X_rf_val2)\nX_test_pca = pca.fit_transform(X_rf_test2)\n\n# Make the scree plot to see how well PCA captures the variance of the data. It is a plot of how much variance is explained.\n# Look for where the drop is, or where it does not improve much more. \nplt.grid()\nplt.plot(np.cumsum(pca.explained_variance_ratio_ * 100))\nplt.xlabel('Number of components')\nplt.ylabel('Explained variance')\nplt.savefig('Scree plot.png')\n\n# See how much variance is explained with the amount of components\nnp.cumsum(pca.explained_variance_ratio_ * 100)[-1]",
   "execution_count": 78,
   "outputs": [
    {
     "data": {
      "text/plain": "96.72356"
     },
     "execution_count": 78,
     "metadata": {},
     "output_type": "execute_result"
    },
    {
     "data": {
      "image/png": "[encoded data removed]",
      "text/plain": "<Figure size 432x288 with 1 Axes>"
     },
     "metadata": {
      "needs_background": "light",
      "image/png": {
       "width": 382,
       "height": 262
      }
     },
     "output_type": "display_data"
    }
   ]
  },
  {
   "cell_type": "code",
   "metadata": {
    "cell_id": "00028-4a94daf2-4663-43fd-b3aa-3b844a1e38bd",
    "deepnote_cell_type": "code",
    "deepnote_cell_height": 298.46875
   },
   "source": "# We also need to change the shape of the y_val. It is not possible to transform a dataframe in a tensor, so this is a workaround\n\nprint(y_train_full.shape)\nprint(X_rf_test.shape)\nprint(y_test.shape)\nprint(X_test_pca.shape)\nprint(y_val.shape)",
   "execution_count": 80,
   "outputs": [
    {
     "name": "stdout",
     "output_type": "stream",
     "text": "(46, 9)\n(25, 277, 277, 3)\n(25, 9)\n(25, 19)\n(25, 9)\n"
    }
   ]
  },
  {
   "cell_type": "code",
   "metadata": {
    "cell_id": "00029-e8ca6b1d-4dd3-42c1-a86b-32f6ce8de193",
    "deepnote_cell_type": "code",
    "deepnote_cell_height": 102
   },
   "source": "# Initialise a random forest classifyer\nrfc = RandomForestClassifier(bootstrap=True,\n                              random_state=1)",
   "execution_count": 81,
   "outputs": []
  },
  {
   "cell_type": "code",
   "metadata": {
    "cell_id": "00030-f5275a0b-d1b9-4dcd-af1f-24ce35ff4b46",
    "deepnote_cell_type": "code",
    "deepnote_cell_height": 318
   },
   "source": "# Specify parameters and distributions to sample from\n\n# max_depth: The maximum depth of the tree. It will take a random integer between 1 and 300.\n# max_features: The number of features to consider when looking for the best split. It will take a random integer between 1 and 11.\n# min_samples_split: The minimum number of samples required to split an internal node. It will take a random integer between 1 and 11.\n# min_samples_leaf: The minimum number of samples required to be at a leaf node. It will take a random integer between 1 and 11.\n# bootstrap: Whether bootstrap samples are used when building trees. Will it randomly choose now?\n# criterion: The function to measure the impurity of the split. “gini” for the Gini impurity and “entropy” for the Shannon information gain\n\nparam_dist = {\"max_depth\": sp_randint(1, 300), \n              \"max_features\": sp_randint(1, 11),\n              \"min_samples_split\": sp_randint(2, 11),\n              \"min_samples_leaf\": sp_randint(1, 11),\n              \"bootstrap\": [True, False],\n              \"criterion\": [\"gini\", \"entropy\"]}",
   "execution_count": 82,
   "outputs": []
  },
  {
   "cell_type": "code",
   "metadata": {
    "cell_id": "00031-8eb5aca4-05ab-490c-97a9-f52524ec1a47",
    "deepnote_cell_type": "code",
    "deepnote_cell_height": 192
   },
   "source": "# In this cell we perform a random search for the best values of the hyperparameters.\n\n# The input of the randomized search is the Random Forest Classifier.\n# param_distributions: takes a dictionary of parameter names that it needs to try. We want it to do it for the parameters we specified in the cell above.\n# n_iter: Number of parameter settings that are sampled. n_iter trades off runtime vs quality of the solution. We chose it randomly ?? What happens if we increase/decrease it?\n\nrandom_search_clf = RandomizedSearchCV(rfc, param_distributions=param_dist,\n                                   n_iter=20)",
   "execution_count": 83,
   "outputs": []
  },
  {
   "cell_type": "code",
   "metadata": {
    "cell_id": "00032-6c6f8634-fbcc-4c69-9cc9-72feecc0ccae",
    "deepnote_cell_type": "code",
    "deepnote_cell_height": 255.6875
   },
   "source": "start = time.time()\n\n# Fit the model with the best hyperparameters to our training data\nrandom_search_clf.fit(X_train_pca, y_train_full)\n\nend = time.time() \n\n# Print how much time it takes\nprint(end-start)",
   "execution_count": 84,
   "outputs": [
    {
     "name": "stdout",
     "output_type": "stream",
     "text": "12.266495943069458\n"
    }
   ]
  },
  {
   "cell_type": "code",
   "metadata": {
    "cell_id": "00033-a0e6b6a8-7d0e-4580-a611-2b0ce7964fc4",
    "deepnote_cell_type": "code",
    "deepnote_cell_height": 232.171875,
    "deepnote_output_heights": [
     117.171875
    ]
   },
   "source": "#returning the best parameters\nrandom_search_clf.best_params_",
   "execution_count": 85,
   "outputs": [
    {
     "data": {
      "text/plain": "{'bootstrap': False,\n 'criterion': 'gini',\n 'max_depth': 142,\n 'max_features': 9,\n 'min_samples_leaf': 2,\n 'min_samples_split': 6}"
     },
     "execution_count": 85,
     "metadata": {},
     "output_type": "execute_result"
    }
   ]
  },
  {
   "cell_type": "code",
   "metadata": {
    "cell_id": "00034-502c31ef-98a6-486f-af24-e3ed759e5660",
    "deepnote_cell_type": "code",
    "deepnote_cell_height": 167.390625
   },
   "source": "# Checking if the shapes are similar\nprint(X_test_pca.shape)\nprint(y_test.shape)",
   "execution_count": 86,
   "outputs": [
    {
     "name": "stdout",
     "output_type": "stream",
     "text": "(25, 19)\n(25, 9)\n"
    }
   ]
  },
  {
   "cell_type": "code",
   "metadata": {
    "cell_id": "00035-2bbb2bef-17e9-489e-b679-9bb4e2ddfce4",
    "deepnote_cell_type": "code",
    "deepnote_cell_height": 325.875,
    "deepnote_output_heights": [
     null,
     21.1875
    ]
   },
   "source": "# Print accuracy of the random forest classifier\n# We will not look at this metric\npreds = random_search_clf.predict(X_test_pca)\nprint(\"Accuracy of the Random Forest: \", accuracy_score(y_test, preds))\n\n# Print the mean IoU metric\n# We will use this one\nmetric = tf.keras.metrics.MeanIoU(num_classes=9)\nmetric.update_state(y_test, preds)\nmetric.result().numpy",
   "execution_count": 87,
   "outputs": [
    {
     "name": "stdout",
     "output_type": "stream",
     "text": "Accuracy of the Random Forest:  0.0\n"
    },
    {
     "data": {
      "text/plain": "<bound method _EagerTensorBase.numpy of <tf.Tensor: shape=(), dtype=float32, numpy=0.39333335>>"
     },
     "execution_count": 87,
     "metadata": {},
     "output_type": "execute_result"
    }
   ]
  },
  {
   "cell_type": "code",
   "metadata": {
    "cell_id": "00036-75bce26c-45d6-4bfe-a75d-5aa79886fb79",
    "deepnote_cell_type": "code",
    "deepnote_cell_height": 66
   },
   "source": "",
   "execution_count": null,
   "outputs": []
  },
  {
   "cell_type": "markdown",
   "source": "<a style='text-decoration:none;line-height:16px;display:flex;color:#5B5B62;padding:10px;justify-content:end;' href='https://deepnote.com?utm_source=created-in-deepnote-cell&projectId=53d0d428-af3f-4841-98f7-12269979931d' target=\"_blank\">\n<img alt='Created in deepnote.com' style='display:inline;max-height:16px;margin:0px;margin-right:7.5px;' src='data:image/svg+xml;base64,PD94bWwgdmVyc2lvbj0iMS4wIiBlbmNvZGluZz0iVVRGLTgiPz4KPHN2ZyB3aWR0aD0iODBweCIgaGVpZ2h0PSI4MHB4IiB2aWV3Qm94PSIwIDAgODAgODAiIHZlcnNpb249IjEuMSIgeG1sbnM9Imh0dHA6Ly93d3cudzMub3JnLzIwMDAvc3ZnIiB4bWxuczp4bGluaz0iaHR0cDovL3d3dy53My5vcmcvMTk5OS94bGluayI+CiAgICA8IS0tIEdlbmVyYXRvcjogU2tldGNoIDU0LjEgKDc2NDkwKSAtIGh0dHBzOi8vc2tldGNoYXBwLmNvbSAtLT4KICAgIDx0aXRsZT5Hcm91cCAzPC90aXRsZT4KICAgIDxkZXNjPkNyZWF0ZWQgd2l0aCBTa2V0Y2guPC9kZXNjPgogICAgPGcgaWQ9IkxhbmRpbmciIHN0cm9rZT0ibm9uZSIgc3Ryb2tlLXdpZHRoPSIxIiBmaWxsPSJub25lIiBmaWxsLXJ1bGU9ImV2ZW5vZGQiPgogICAgICAgIDxnIGlkPSJBcnRib2FyZCIgdHJhbnNmb3JtPSJ0cmFuc2xhdGUoLTEyMzUuMDAwMDAwLCAtNzkuMDAwMDAwKSI+CiAgICAgICAgICAgIDxnIGlkPSJHcm91cC0zIiB0cmFuc2Zvcm09InRyYW5zbGF0ZSgxMjM1LjAwMDAwMCwgNzkuMDAwMDAwKSI+CiAgICAgICAgICAgICAgICA8cG9seWdvbiBpZD0iUGF0aC0yMCIgZmlsbD0iIzAyNjVCNCIgcG9pbnRzPSIyLjM3NjIzNzYyIDgwIDM4LjA0NzY2NjcgODAgNTcuODIxNzgyMiA3My44MDU3NTkyIDU3LjgyMTc4MjIgMzIuNzU5MjczOSAzOS4xNDAyMjc4IDMxLjY4MzE2ODMiPjwvcG9seWdvbj4KICAgICAgICAgICAgICAgIDxwYXRoIGQ9Ik0zNS4wMDc3MTgsODAgQzQyLjkwNjIwMDcsNzYuNDU0OTM1OCA0Ny41NjQ5MTY3LDcxLjU0MjI2NzEgNDguOTgzODY2LDY1LjI2MTk5MzkgQzUxLjExMjI4OTksNTUuODQxNTg0MiA0MS42NzcxNzk1LDQ5LjIxMjIyODQgMjUuNjIzOTg0Niw0OS4yMTIyMjg0IEMyNS40ODQ5Mjg5LDQ5LjEyNjg0NDggMjkuODI2MTI5Niw0My4yODM4MjQ4IDM4LjY0NzU4NjksMzEuNjgzMTY4MyBMNzIuODcxMjg3MSwzMi41NTQ0MjUgTDY1LjI4MDk3Myw2Ny42NzYzNDIxIEw1MS4xMTIyODk5LDc3LjM3NjE0NCBMMzUuMDA3NzE4LDgwIFoiIGlkPSJQYXRoLTIyIiBmaWxsPSIjMDAyODY4Ij48L3BhdGg+CiAgICAgICAgICAgICAgICA8cGF0aCBkPSJNMCwzNy43MzA0NDA1IEwyNy4xMTQ1MzcsMC4yNTcxMTE0MzYgQzYyLjM3MTUxMjMsLTEuOTkwNzE3MDEgODAsMTAuNTAwMzkyNyA4MCwzNy43MzA0NDA1IEM4MCw2NC45NjA0ODgyIDY0Ljc3NjUwMzgsNzkuMDUwMzQxNCAzNC4zMjk1MTEzLDgwIEM0Ny4wNTUzNDg5LDc3LjU2NzA4MDggNTMuNDE4MjY3Nyw3MC4zMTM2MTAzIDUzLjQxODI2NzcsNTguMjM5NTg4NSBDNTMuNDE4MjY3Nyw0MC4xMjg1NTU3IDM2LjMwMzk1NDQsMzcuNzMwNDQwNSAyNS4yMjc0MTcsMzcuNzMwNDQwNSBDMTcuODQzMDU4NiwzNy43MzA0NDA1IDkuNDMzOTE5NjYsMzcuNzMwNDQwNSAwLDM3LjczMDQ0MDUgWiIgaWQ9IlBhdGgtMTkiIGZpbGw9IiMzNzkzRUYiPjwvcGF0aD4KICAgICAgICAgICAgPC9nPgogICAgICAgIDwvZz4KICAgIDwvZz4KPC9zdmc+' > </img>\nCreated in <span style='font-weight:600;margin-left:4px;'>Deepnote</span></a>",
   "metadata": {
    "tags": [],
    "created_in_deepnote_cell": true,
    "deepnote_cell_type": "markdown"
   }
  }
 ],
 "nbformat": 4,
 "nbformat_minor": 2,
 "metadata": {
  "interpreter": {
   "hash": "aee8b7b246df8f9039afb4144a1f6fd8d2ca17a180786b69acc140d282b71a49"
  },
  "kernelspec": {
   "display_name": "Python 3.9.5 64-bit",
   "language": "python",
   "name": "python3"
  },
  "language_info": {
   "codemirror_mode": {
    "name": "ipython",
    "version": 3
   },
   "file_extension": ".py",
   "mimetype": "text/x-python",
   "name": "python",
   "nbconvert_exporter": "python",
   "pygments_lexer": "ipython3",
   "version": "3.9.5"
  },
  "orig_nbformat": 4,
  "deepnote_notebook_id": "b87113e4-72c8-4734-add2-ac7ae2eed040",
  "deepnote": {},
  "deepnote_execution_queue": []
 }
}