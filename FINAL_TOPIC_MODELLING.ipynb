{
 "cells": [
  {
   "cell_type": "code",
   "execution_count": null,
   "metadata": {},
   "outputs": [],
   "source": [
    "!pip install -U tensorflow-text==2.6.0\n",
    "!pip install tensorflow_hub\n",
    "!pip install --user -U nltk\n",
    "!pip install contractions"
   ]
  },
  {
   "cell_type": "code",
   "execution_count": 1,
   "metadata": {},
   "outputs": [
    {
     "name": "stderr",
     "output_type": "stream",
     "text": [
      "[nltk_data] Downloading package punkt to /Users/marinmes/nltk_data...\n",
      "[nltk_data]   Package punkt is already up-to-date!\n",
      "[nltk_data] Downloading package stopwords to\n",
      "[nltk_data]     /Users/marinmes/nltk_data...\n",
      "[nltk_data]   Package stopwords is already up-to-date!\n",
      "[nltk_data] Downloading package wordnet to\n",
      "[nltk_data]     /Users/marinmes/nltk_data...\n",
      "[nltk_data]   Package wordnet is already up-to-date!\n",
      "[nltk_data] Downloading package omw-1.4 to\n",
      "[nltk_data]     /Users/marinmes/nltk_data...\n",
      "[nltk_data]   Package omw-1.4 is already up-to-date!\n"
     ]
    },
    {
     "name": "stdout",
     "output_type": "stream",
     "text": [
      "Successfully imported all packages\n"
     ]
    }
   ],
   "source": [
    "# Install needed libraries\n",
    "import pandas as pd \n",
    "import numpy as np\n",
    "from sklearn.model_selection import train_test_split\n",
    "from sklearn import metrics\n",
    "from sklearn.svm import LinearSVC\n",
    "from sklearn.metrics import accuracy_score\n",
    "from sklearn.metrics import precision_score, recall_score, f1_score, accuracy_score\n",
    "from sklearn.feature_extraction.text import TfidfTransformer\n",
    "from sklearn.feature_extraction.text import CountVectorizer\n",
    "from sklearn.pipeline import Pipeline\n",
    "from sklearn.utils import shuffle\n",
    "from sklearn.linear_model import LogisticRegression\n",
    "from sklearn.naive_bayes import MultinomialNB\n",
    "from nltk.tokenize import word_tokenize\n",
    "from nltk.corpus import stopwords\n",
    "from nltk.stem import PorterStemmer\n",
    "from nltk.stem import WordNetLemmatizer\n",
    "\n",
    "import os\n",
    "import shutil\n",
    "import string\n",
    "import contractions\n",
    "\n",
    "import tensorflow as tf\n",
    "import tensorflow_hub as hub\n",
    "import tensorflow_text as text\n",
    "\n",
    "import matplotlib.pyplot as plt\n",
    "\n",
    "# Gensim and LDA\n",
    "import nltk\n",
    "nltk.download('punkt')\n",
    "nltk.download('stopwords')\n",
    "nltk.download('wordnet')\n",
    "nltk.download('omw-1.4')\n",
    "import gensim\n",
    "import gensim.corpora as corpora\n",
    "from gensim.utils import simple_preprocess\n",
    "from gensim.models import CoherenceModel\n",
    "from gensim.parsing.preprocessing import STOPWORDS\n",
    "import pyLDAvis\n",
    "import pyLDAvis.gensim_models \n",
    "\n",
    "print(\"Successfully imported all packages\")"
   ]
  },
  {
   "cell_type": "code",
   "execution_count": 2,
   "metadata": {},
   "outputs": [
    {
     "name": "stderr",
     "output_type": "stream",
     "text": [
      "/opt/anaconda3/lib/python3.8/site-packages/ipykernel/ipkernel.py:287: DeprecationWarning: `should_run_async` will not call `transform_cell` automatically in the future. Please pass the result to `transformed_cell` argument and any exception that happen during thetransform in `preprocessing_exc_tuple` in IPython 7.17 and above.\n",
      "  and should_run_async(code)\n"
     ]
    },
    {
     "data": {
      "text/plain": [
       "(10876, 7)"
      ]
     },
     "execution_count": 2,
     "metadata": {},
     "output_type": "execute_result"
    }
   ],
   "source": [
    "# Loading the data\n",
    "data = pd.read_csv('socialmedia-disaster-tweets-DFE 3.csv', error_bad_lines=False)\n",
    "data = data.drop(columns=[\"_unit_id\", \"_golden\", \"_unit_state\", \"_trusted_judgments\",\"choose_one:confidence\", \"choose_one_gold\", \"_last_judgment_at\"])\n",
    "data[\"target\"] = data.apply(lambda row: 1 if row[\"choose_one\"]== \"Relevant\" else 0 ,axis =1)\n",
    "data.shape"
   ]
  },
  {
   "cell_type": "code",
   "execution_count": 3,
   "metadata": {},
   "outputs": [
    {
     "name": "stderr",
     "output_type": "stream",
     "text": [
      "/opt/anaconda3/lib/python3.8/site-packages/ipykernel/ipkernel.py:287: DeprecationWarning: `should_run_async` will not call `transform_cell` automatically in the future. Please pass the result to `transformed_cell` argument and any exception that happen during thetransform in `preprocessing_exc_tuple` in IPython 7.17 and above.\n",
      "  and should_run_async(code)\n"
     ]
    },
    {
     "data": {
      "text/plain": [
       "(4673, 7)"
      ]
     },
     "execution_count": 3,
     "metadata": {},
     "output_type": "execute_result"
    }
   ],
   "source": [
    "# Filtering on the emergent tweets\n",
    "data_emergencies = data[data.target != 0]\n",
    "data_emergencies.head()\n",
    "data_emergencies.shape"
   ]
  },
  {
   "cell_type": "code",
   "execution_count": 4,
   "metadata": {},
   "outputs": [
    {
     "name": "stderr",
     "output_type": "stream",
     "text": [
      "/opt/anaconda3/lib/python3.8/site-packages/ipykernel/ipkernel.py:287: DeprecationWarning: `should_run_async` will not call `transform_cell` automatically in the future. Please pass the result to `transformed_cell` argument and any exception that happen during thetransform in `preprocessing_exc_tuple` in IPython 7.17 and above.\n",
      "  and should_run_async(code)\n"
     ]
    }
   ],
   "source": [
    "# A function for all preprocessing steps\n",
    "\n",
    "def preprocess_topic_modelling(data_emergencies):\n",
    "    \n",
    "    \"\"\"\n",
    "    \n",
    "    This function will execute all the necessary preprocessing steps for\n",
    "    the topic modelling of our dataset. \n",
    "    \n",
    "    It includes removing emojis, expanding contractions (I'm -> I am), removing punctuation, \n",
    "    removing stop words, lemmatization, stemming, removing short words (< 3 characters) and tokenizing.\n",
    "\n",
    "    Args:\n",
    "        You must input your data\n",
    "    \n",
    "    \"\"\"\n",
    "    \n",
    "    # Remove any strings with numbers\n",
    "    data_emergencies['concat_data'] = data_emergencies[\"text\"].str.replace(r'\\w*\\d\\w*','')\n",
    "    data_emergencies['concat_data_2'] = data_emergencies[\"concat_data\"].str.replace(r'\\d\\S+','')\n",
    "    \n",
    "    # Remove words starting with http\n",
    "    data_emergencies['concat_data_3'] = data_emergencies[\"concat_data_2\"].str.replace(r'http\\S+','')\n",
    "    \n",
    "    # Expand contractions\n",
    "    data_emergencies[\"Tweets with expanded contractions\"] = data_emergencies[\"concat_data_3\"].apply(lambda x: ' '.join([contractions.fix(word) for word in x.split()]))\n",
    "    data_emergencies.head() \n",
    "    \n",
    "    # Remove punctuation\n",
    "    data_emergencies[\"Tweets without punctuation\"] = data_emergencies[\"Tweets with expanded contractions\"].apply(lambda x: ''.join([i for i in x if i not in string.punctuation]))\n",
    "    data_emergencies.head()\n",
    "    \n",
    "    # Remove short words\n",
    "    data_emergencies[\"Short Words Removed\"] = data_emergencies[\"Tweets without punctuation\"].apply(lambda x: ' '.join([w.strip() for w in x.split() if len(w.strip()) > 2]))\n",
    "    data_emergencies.head() \n",
    "    \n",
    "    # Remove capital letters\n",
    "    data_emergencies[\"Capital letters removed\"] = data_emergencies[\"Short Words Removed\"].str.lower()\n",
    "    data_emergencies.head() \n",
    "    \n",
    "    # Tokenization\n",
    "    tokenized_tweets = []\n",
    "    tokenizer = nltk.tokenize.RegexpTokenizer(r'\\w+')\n",
    "\n",
    "    for row in data_emergencies['Capital letters removed'].values:\n",
    "        final_tokenized_tweet = []\n",
    "        tweets = nltk.sent_tokenize(row)\n",
    "        for tweet in tweets:\n",
    "            tokens = tokenizer.tokenize(tweet)\n",
    "            final_tokenized_tweet.extend(tokens)\n",
    "        tokenized_tweets.append(final_tokenized_tweet)\n",
    "        \n",
    "    data_emergencies['Tokenized tweets'] = tokenized_tweets \n",
    "\n",
    "    data_emergencies.head()\n",
    "    \n",
    "    # Lemmatization\n",
    "    lemmatized_tweets = []\n",
    "    lemmatizer = WordNetLemmatizer()\n",
    "\n",
    "    for tweet in data_emergencies[\"Tokenized tweets\"]:\n",
    "            lem_list = []\n",
    "            for i in range(len(tweet)):\n",
    "                    lem = lemmatizer.lemmatize(tweet[i])\n",
    "                    lem_list.append(lem)\n",
    "            lemmatized_tweets.append(lem_list)\n",
    "    data_emergencies[\"Lemmatized tweets\"] = lemmatized_tweets\n",
    "\n",
    "    data_emergencies.head()\n",
    "    \n",
    "    # Removing stopwords\n",
    "    stop_words = set(stopwords.words('english'))\n",
    "    stopwords_removed_tweets = []\n",
    "    for tweet in lemmatized_tweets:\n",
    "            stop_m = [i for i in tweet if str(i).lower() not in stop_words]\n",
    "            stopwords_removed_tweets.append(stop_m)\n",
    "    data_emergencies['Stopwords removed'] = stopwords_removed_tweets\n",
    "\n",
    "    data_emergencies.head()\n",
    "    \n",
    "    return data_emergencies"
   ]
  },
  {
   "cell_type": "code",
   "execution_count": 5,
   "metadata": {},
   "outputs": [
    {
     "name": "stderr",
     "output_type": "stream",
     "text": [
      "/opt/anaconda3/lib/python3.8/site-packages/ipykernel/ipkernel.py:287: DeprecationWarning: `should_run_async` will not call `transform_cell` automatically in the future. Please pass the result to `transformed_cell` argument and any exception that happen during thetransform in `preprocessing_exc_tuple` in IPython 7.17 and above.\n",
      "  and should_run_async(code)\n",
      "<ipython-input-4-55f3a995d8d5>:17: FutureWarning: The default value of regex will change from True to False in a future version.\n",
      "  data_emergencies['concat_data'] = data_emergencies[\"text\"].str.replace(r'\\w*\\d\\w*','')\n",
      "<ipython-input-4-55f3a995d8d5>:17: SettingWithCopyWarning: \n",
      "A value is trying to be set on a copy of a slice from a DataFrame.\n",
      "Try using .loc[row_indexer,col_indexer] = value instead\n",
      "\n",
      "See the caveats in the documentation: https://pandas.pydata.org/pandas-docs/stable/user_guide/indexing.html#returning-a-view-versus-a-copy\n",
      "  data_emergencies['concat_data'] = data_emergencies[\"text\"].str.replace(r'\\w*\\d\\w*','')\n",
      "<ipython-input-4-55f3a995d8d5>:18: FutureWarning: The default value of regex will change from True to False in a future version.\n",
      "  data_emergencies['concat_data_2'] = data_emergencies[\"concat_data\"].str.replace(r'\\d\\S+','')\n",
      "<ipython-input-4-55f3a995d8d5>:18: SettingWithCopyWarning: \n",
      "A value is trying to be set on a copy of a slice from a DataFrame.\n",
      "Try using .loc[row_indexer,col_indexer] = value instead\n",
      "\n",
      "See the caveats in the documentation: https://pandas.pydata.org/pandas-docs/stable/user_guide/indexing.html#returning-a-view-versus-a-copy\n",
      "  data_emergencies['concat_data_2'] = data_emergencies[\"concat_data\"].str.replace(r'\\d\\S+','')\n",
      "<ipython-input-4-55f3a995d8d5>:21: FutureWarning: The default value of regex will change from True to False in a future version.\n",
      "  data_emergencies['concat_data_3'] = data_emergencies[\"concat_data_2\"].str.replace(r'http\\S+','')\n",
      "<ipython-input-4-55f3a995d8d5>:21: SettingWithCopyWarning: \n",
      "A value is trying to be set on a copy of a slice from a DataFrame.\n",
      "Try using .loc[row_indexer,col_indexer] = value instead\n",
      "\n",
      "See the caveats in the documentation: https://pandas.pydata.org/pandas-docs/stable/user_guide/indexing.html#returning-a-view-versus-a-copy\n",
      "  data_emergencies['concat_data_3'] = data_emergencies[\"concat_data_2\"].str.replace(r'http\\S+','')\n",
      "<ipython-input-4-55f3a995d8d5>:24: SettingWithCopyWarning: \n",
      "A value is trying to be set on a copy of a slice from a DataFrame.\n",
      "Try using .loc[row_indexer,col_indexer] = value instead\n",
      "\n",
      "See the caveats in the documentation: https://pandas.pydata.org/pandas-docs/stable/user_guide/indexing.html#returning-a-view-versus-a-copy\n",
      "  data_emergencies[\"Tweets with expanded contractions\"] = data_emergencies[\"concat_data_3\"].apply(lambda x: ' '.join([contractions.fix(word) for word in x.split()]))\n",
      "<ipython-input-4-55f3a995d8d5>:29: SettingWithCopyWarning: \n",
      "A value is trying to be set on a copy of a slice from a DataFrame.\n",
      "Try using .loc[row_indexer,col_indexer] = value instead\n",
      "\n",
      "See the caveats in the documentation: https://pandas.pydata.org/pandas-docs/stable/user_guide/indexing.html#returning-a-view-versus-a-copy\n",
      "  data_emergencies[\"Tweets without punctuation\"] = data_emergencies[\"Tweets with expanded contractions\"].apply(lambda x: ''.join([i for i in x if i not in string.punctuation]))\n",
      "<ipython-input-4-55f3a995d8d5>:34: SettingWithCopyWarning: \n",
      "A value is trying to be set on a copy of a slice from a DataFrame.\n",
      "Try using .loc[row_indexer,col_indexer] = value instead\n",
      "\n",
      "See the caveats in the documentation: https://pandas.pydata.org/pandas-docs/stable/user_guide/indexing.html#returning-a-view-versus-a-copy\n",
      "  data_emergencies[\"Short Words Removed\"] = data_emergencies[\"Tweets without punctuation\"].apply(lambda x: ' '.join([w.strip() for w in x.split() if len(w.strip()) > 2]))\n",
      "<ipython-input-4-55f3a995d8d5>:38: SettingWithCopyWarning: \n",
      "A value is trying to be set on a copy of a slice from a DataFrame.\n",
      "Try using .loc[row_indexer,col_indexer] = value instead\n",
      "\n",
      "See the caveats in the documentation: https://pandas.pydata.org/pandas-docs/stable/user_guide/indexing.html#returning-a-view-versus-a-copy\n",
      "  data_emergencies[\"Capital letters removed\"] = data_emergencies[\"Short Words Removed\"].str.lower()\n",
      "<ipython-input-4-55f3a995d8d5>:53: SettingWithCopyWarning: \n",
      "A value is trying to be set on a copy of a slice from a DataFrame.\n",
      "Try using .loc[row_indexer,col_indexer] = value instead\n",
      "\n",
      "See the caveats in the documentation: https://pandas.pydata.org/pandas-docs/stable/user_guide/indexing.html#returning-a-view-versus-a-copy\n",
      "  data_emergencies['Tokenized tweets'] = tokenized_tweets\n",
      "<ipython-input-4-55f3a995d8d5>:68: SettingWithCopyWarning: \n",
      "A value is trying to be set on a copy of a slice from a DataFrame.\n",
      "Try using .loc[row_indexer,col_indexer] = value instead\n",
      "\n",
      "See the caveats in the documentation: https://pandas.pydata.org/pandas-docs/stable/user_guide/indexing.html#returning-a-view-versus-a-copy\n",
      "  data_emergencies[\"Lemmatized tweets\"] = lemmatized_tweets\n",
      "<ipython-input-4-55f3a995d8d5>:79: SettingWithCopyWarning: \n",
      "A value is trying to be set on a copy of a slice from a DataFrame.\n",
      "Try using .loc[row_indexer,col_indexer] = value instead\n",
      "\n",
      "See the caveats in the documentation: https://pandas.pydata.org/pandas-docs/stable/user_guide/indexing.html#returning-a-view-versus-a-copy\n",
      "  data_emergencies['Stopwords removed'] = stopwords_removed_tweets\n"
     ]
    },
    {
     "data": {
      "text/html": [
       "<div>\n",
       "<style scoped>\n",
       "    .dataframe tbody tr th:only-of-type {\n",
       "        vertical-align: middle;\n",
       "    }\n",
       "\n",
       "    .dataframe tbody tr th {\n",
       "        vertical-align: top;\n",
       "    }\n",
       "\n",
       "    .dataframe thead th {\n",
       "        text-align: right;\n",
       "    }\n",
       "</style>\n",
       "<table border=\"1\" class=\"dataframe\">\n",
       "  <thead>\n",
       "    <tr style=\"text-align: right;\">\n",
       "      <th></th>\n",
       "      <th>choose_one</th>\n",
       "      <th>keyword</th>\n",
       "      <th>location</th>\n",
       "      <th>text</th>\n",
       "      <th>tweetid</th>\n",
       "      <th>userid</th>\n",
       "      <th>target</th>\n",
       "      <th>concat_data</th>\n",
       "      <th>concat_data_2</th>\n",
       "      <th>concat_data_3</th>\n",
       "      <th>Tweets with expanded contractions</th>\n",
       "      <th>Tweets without punctuation</th>\n",
       "      <th>Short Words Removed</th>\n",
       "      <th>Capital letters removed</th>\n",
       "      <th>Tokenized tweets</th>\n",
       "      <th>Lemmatized tweets</th>\n",
       "      <th>Stopwords removed</th>\n",
       "    </tr>\n",
       "  </thead>\n",
       "  <tbody>\n",
       "    <tr>\n",
       "      <th>0</th>\n",
       "      <td>Relevant</td>\n",
       "      <td>NaN</td>\n",
       "      <td>NaN</td>\n",
       "      <td>Just happened a terrible car crash</td>\n",
       "      <td>1.0</td>\n",
       "      <td>NaN</td>\n",
       "      <td>1</td>\n",
       "      <td>Just happened a terrible car crash</td>\n",
       "      <td>Just happened a terrible car crash</td>\n",
       "      <td>Just happened a terrible car crash</td>\n",
       "      <td>Just happened a terrible car crash</td>\n",
       "      <td>Just happened a terrible car crash</td>\n",
       "      <td>Just happened terrible car crash</td>\n",
       "      <td>just happened terrible car crash</td>\n",
       "      <td>[just, happened, terrible, car, crash]</td>\n",
       "      <td>[just, happened, terrible, car, crash]</td>\n",
       "      <td>[happened, terrible, car, crash]</td>\n",
       "    </tr>\n",
       "    <tr>\n",
       "      <th>1</th>\n",
       "      <td>Relevant</td>\n",
       "      <td>NaN</td>\n",
       "      <td>NaN</td>\n",
       "      <td>Our Deeds are the Reason of this #earthquake M...</td>\n",
       "      <td>13.0</td>\n",
       "      <td>NaN</td>\n",
       "      <td>1</td>\n",
       "      <td>Our Deeds are the Reason of this #earthquake M...</td>\n",
       "      <td>Our Deeds are the Reason of this #earthquake M...</td>\n",
       "      <td>Our Deeds are the Reason of this #earthquake M...</td>\n",
       "      <td>Our Deeds are the Reason of this #earthquake M...</td>\n",
       "      <td>Our Deeds are the Reason of this earthquake Ma...</td>\n",
       "      <td>Our Deeds are the Reason this earthquake May A...</td>\n",
       "      <td>our deeds are the reason this earthquake may a...</td>\n",
       "      <td>[our, deeds, are, the, reason, this, earthquak...</td>\n",
       "      <td>[our, deed, are, the, reason, this, earthquake...</td>\n",
       "      <td>[deed, reason, earthquake, may, allah, forgive]</td>\n",
       "    </tr>\n",
       "    <tr>\n",
       "      <th>2</th>\n",
       "      <td>Relevant</td>\n",
       "      <td>NaN</td>\n",
       "      <td>NaN</td>\n",
       "      <td>Heard about #earthquake is different cities, s...</td>\n",
       "      <td>14.0</td>\n",
       "      <td>NaN</td>\n",
       "      <td>1</td>\n",
       "      <td>Heard about #earthquake is different cities, s...</td>\n",
       "      <td>Heard about #earthquake is different cities, s...</td>\n",
       "      <td>Heard about #earthquake is different cities, s...</td>\n",
       "      <td>Heard about #earthquake is different cities, s...</td>\n",
       "      <td>Heard about earthquake is different cities sta...</td>\n",
       "      <td>Heard about earthquake different cities stay s...</td>\n",
       "      <td>heard about earthquake different cities stay s...</td>\n",
       "      <td>[heard, about, earthquake, different, cities, ...</td>\n",
       "      <td>[heard, about, earthquake, different, city, st...</td>\n",
       "      <td>[heard, earthquake, different, city, stay, saf...</td>\n",
       "    </tr>\n",
       "    <tr>\n",
       "      <th>3</th>\n",
       "      <td>Relevant</td>\n",
       "      <td>NaN</td>\n",
       "      <td>NaN</td>\n",
       "      <td>there is a forest fire at spot pond, geese are...</td>\n",
       "      <td>15.0</td>\n",
       "      <td>NaN</td>\n",
       "      <td>1</td>\n",
       "      <td>there is a forest fire at spot pond, geese are...</td>\n",
       "      <td>there is a forest fire at spot pond, geese are...</td>\n",
       "      <td>there is a forest fire at spot pond, geese are...</td>\n",
       "      <td>there is a forest fire at spot pond, geese are...</td>\n",
       "      <td>there is a forest fire at spot pond geese are ...</td>\n",
       "      <td>there forest fire spot pond geese are fleeing ...</td>\n",
       "      <td>there forest fire spot pond geese are fleeing ...</td>\n",
       "      <td>[there, forest, fire, spot, pond, geese, are, ...</td>\n",
       "      <td>[there, forest, fire, spot, pond, goose, are, ...</td>\n",
       "      <td>[forest, fire, spot, pond, goose, fleeing, acr...</td>\n",
       "    </tr>\n",
       "    <tr>\n",
       "      <th>4</th>\n",
       "      <td>Relevant</td>\n",
       "      <td>NaN</td>\n",
       "      <td>NaN</td>\n",
       "      <td>Forest fire near La Ronge Sask. Canada</td>\n",
       "      <td>16.0</td>\n",
       "      <td>NaN</td>\n",
       "      <td>1</td>\n",
       "      <td>Forest fire near La Ronge Sask. Canada</td>\n",
       "      <td>Forest fire near La Ronge Sask. Canada</td>\n",
       "      <td>Forest fire near La Ronge Sask. Canada</td>\n",
       "      <td>Forest fire near La Ronge Sask. Canada</td>\n",
       "      <td>Forest fire near La Ronge Sask Canada</td>\n",
       "      <td>Forest fire near Ronge Sask Canada</td>\n",
       "      <td>forest fire near ronge sask canada</td>\n",
       "      <td>[forest, fire, near, ronge, sask, canada]</td>\n",
       "      <td>[forest, fire, near, ronge, sask, canada]</td>\n",
       "      <td>[forest, fire, near, ronge, sask, canada]</td>\n",
       "    </tr>\n",
       "  </tbody>\n",
       "</table>\n",
       "</div>"
      ],
      "text/plain": [
       "  choose_one keyword location  \\\n",
       "0   Relevant     NaN      NaN   \n",
       "1   Relevant     NaN      NaN   \n",
       "2   Relevant     NaN      NaN   \n",
       "3   Relevant     NaN      NaN   \n",
       "4   Relevant     NaN      NaN   \n",
       "\n",
       "                                                text  tweetid  userid  target  \\\n",
       "0                 Just happened a terrible car crash      1.0     NaN       1   \n",
       "1  Our Deeds are the Reason of this #earthquake M...     13.0     NaN       1   \n",
       "2  Heard about #earthquake is different cities, s...     14.0     NaN       1   \n",
       "3  there is a forest fire at spot pond, geese are...     15.0     NaN       1   \n",
       "4             Forest fire near La Ronge Sask. Canada     16.0     NaN       1   \n",
       "\n",
       "                                         concat_data  \\\n",
       "0                 Just happened a terrible car crash   \n",
       "1  Our Deeds are the Reason of this #earthquake M...   \n",
       "2  Heard about #earthquake is different cities, s...   \n",
       "3  there is a forest fire at spot pond, geese are...   \n",
       "4             Forest fire near La Ronge Sask. Canada   \n",
       "\n",
       "                                       concat_data_2  \\\n",
       "0                 Just happened a terrible car crash   \n",
       "1  Our Deeds are the Reason of this #earthquake M...   \n",
       "2  Heard about #earthquake is different cities, s...   \n",
       "3  there is a forest fire at spot pond, geese are...   \n",
       "4             Forest fire near La Ronge Sask. Canada   \n",
       "\n",
       "                                       concat_data_3  \\\n",
       "0                 Just happened a terrible car crash   \n",
       "1  Our Deeds are the Reason of this #earthquake M...   \n",
       "2  Heard about #earthquake is different cities, s...   \n",
       "3  there is a forest fire at spot pond, geese are...   \n",
       "4             Forest fire near La Ronge Sask. Canada   \n",
       "\n",
       "                   Tweets with expanded contractions  \\\n",
       "0                 Just happened a terrible car crash   \n",
       "1  Our Deeds are the Reason of this #earthquake M...   \n",
       "2  Heard about #earthquake is different cities, s...   \n",
       "3  there is a forest fire at spot pond, geese are...   \n",
       "4             Forest fire near La Ronge Sask. Canada   \n",
       "\n",
       "                          Tweets without punctuation  \\\n",
       "0                 Just happened a terrible car crash   \n",
       "1  Our Deeds are the Reason of this earthquake Ma...   \n",
       "2  Heard about earthquake is different cities sta...   \n",
       "3  there is a forest fire at spot pond geese are ...   \n",
       "4              Forest fire near La Ronge Sask Canada   \n",
       "\n",
       "                                 Short Words Removed  \\\n",
       "0                   Just happened terrible car crash   \n",
       "1  Our Deeds are the Reason this earthquake May A...   \n",
       "2  Heard about earthquake different cities stay s...   \n",
       "3  there forest fire spot pond geese are fleeing ...   \n",
       "4                 Forest fire near Ronge Sask Canada   \n",
       "\n",
       "                             Capital letters removed  \\\n",
       "0                   just happened terrible car crash   \n",
       "1  our deeds are the reason this earthquake may a...   \n",
       "2  heard about earthquake different cities stay s...   \n",
       "3  there forest fire spot pond geese are fleeing ...   \n",
       "4                 forest fire near ronge sask canada   \n",
       "\n",
       "                                    Tokenized tweets  \\\n",
       "0             [just, happened, terrible, car, crash]   \n",
       "1  [our, deeds, are, the, reason, this, earthquak...   \n",
       "2  [heard, about, earthquake, different, cities, ...   \n",
       "3  [there, forest, fire, spot, pond, geese, are, ...   \n",
       "4          [forest, fire, near, ronge, sask, canada]   \n",
       "\n",
       "                                   Lemmatized tweets  \\\n",
       "0             [just, happened, terrible, car, crash]   \n",
       "1  [our, deed, are, the, reason, this, earthquake...   \n",
       "2  [heard, about, earthquake, different, city, st...   \n",
       "3  [there, forest, fire, spot, pond, goose, are, ...   \n",
       "4          [forest, fire, near, ronge, sask, canada]   \n",
       "\n",
       "                                   Stopwords removed  \n",
       "0                   [happened, terrible, car, crash]  \n",
       "1    [deed, reason, earthquake, may, allah, forgive]  \n",
       "2  [heard, earthquake, different, city, stay, saf...  \n",
       "3  [forest, fire, spot, pond, goose, fleeing, acr...  \n",
       "4          [forest, fire, near, ronge, sask, canada]  "
      ]
     },
     "execution_count": 5,
     "metadata": {},
     "output_type": "execute_result"
    }
   ],
   "source": [
    "# Put our emergencies dataset in the function and preprocess it\n",
    "data_preprocessed = preprocess_topic_modelling(data_emergencies)\n",
    "data_preprocessed.head()"
   ]
  },
  {
   "cell_type": "markdown",
   "metadata": {},
   "source": [
    "### LDA"
   ]
  },
  {
   "cell_type": "markdown",
   "metadata": {},
   "source": [
    "LDA requires input in the form of a document-term matrix. For this paper, the document-term matrix will have all tweets as rows, and all words as columns. The values within this matrix represent the count of a word within a specific tweet. To generate this matrix, first a dictionary which assigns a unique ID to each word created. Since in the end each topic will consist of a set of words where the order does not matter, we use the bag of words format while generating the document-term matrix. "
   ]
  },
  {
   "cell_type": "code",
   "execution_count": 32,
   "metadata": {},
   "outputs": [
    {
     "name": "stdout",
     "output_type": "stream",
     "text": [
      "Number of unique words:  9655\n"
     ]
    },
    {
     "name": "stderr",
     "output_type": "stream",
     "text": [
      "/opt/anaconda3/lib/python3.8/site-packages/ipykernel/ipkernel.py:287: DeprecationWarning: `should_run_async` will not call `transform_cell` automatically in the future. Please pass the result to `transformed_cell` argument and any exception that happen during thetransform in `preprocessing_exc_tuple` in IPython 7.17 and above.\n",
      "  and should_run_async(code)\n"
     ]
    }
   ],
   "source": [
    "# We make a dictionary which assigns an index to each unique word\n",
    "dictionary = corpora.Dictionary(data_preprocessed[\"Stopwords removed\"])\n",
    "print(\"Number of unique words: \", len(dictionary))"
   ]
  },
  {
   "cell_type": "code",
   "execution_count": 28,
   "metadata": {},
   "outputs": [
    {
     "name": "stderr",
     "output_type": "stream",
     "text": [
      "/opt/anaconda3/lib/python3.8/site-packages/ipykernel/ipkernel.py:287: DeprecationWarning: `should_run_async` will not call `transform_cell` automatically in the future. Please pass the result to `transformed_cell` argument and any exception that happen during thetransform in `preprocessing_exc_tuple` in IPython 7.17 and above.\n",
      "  and should_run_async(code)\n"
     ]
    },
    {
     "data": {
      "text/plain": [
       "[[(0, 1), (1, 1), (2, 1), (3, 1)],\n",
       " [(4, 1), (5, 1), (6, 1), (7, 1), (8, 1), (9, 1)],\n",
       " [(6, 1), (10, 1), (11, 1), (12, 1), (13, 1), (14, 1), (15, 1)]]"
      ]
     },
     "execution_count": 28,
     "metadata": {},
     "output_type": "execute_result"
    }
   ],
   "source": [
    "# Now we convert the list of our tweets into a document-term matrix using our previously defined dictionary\n",
    "# We use the bag of words as the order does not matter\n",
    "document_term_matrix = [dictionary.doc2bow(i) for i in data_preprocessed[\"Stopwords removed\"]]\n",
    "document_term_matrix[:3]\n",
    "\n",
    "# The output of the basically says: the 0th word in the dictionary is repeated once, the first word in the dictionary is repeated once, etc.\n",
    "# It basically shows us the index of the word and its frequency."
   ]
  },
  {
   "cell_type": "markdown",
   "metadata": {},
   "source": [
    "With the input ready, several hyperparameters need to be specified in the LDA model. One of these is the number of topics that the dataset should be divided into. Literature shows that the best way to determine this is by evaluating the model’s coherence score for varying number of topics, since it leads to the better human interpretability (Röder, Both & Hinneburg, 2015). The coherence score is based on the degree of semantic similarity between high scoring words within a topic, and this way the coherence between the different topics inferred by the LDA model is evaluated (Kapadia, 2019). After plotting the coherence score for different values for the number of topics, we find that the best number of topics is 8."
   ]
  },
  {
   "cell_type": "code",
   "execution_count": 33,
   "metadata": {},
   "outputs": [
    {
     "name": "stderr",
     "output_type": "stream",
     "text": [
      "/opt/anaconda3/lib/python3.8/site-packages/ipykernel/ipkernel.py:287: DeprecationWarning: `should_run_async` will not call `transform_cell` automatically in the future. Please pass the result to `transformed_cell` argument and any exception that happen during thetransform in `preprocessing_exc_tuple` in IPython 7.17 and above.\n",
      "  and should_run_async(code)\n"
     ]
    }
   ],
   "source": [
    "# A function which computes the coherence score for various number of topics.\n",
    "LDA = gensim.models.ldamodel.LdaModel\n",
    "def compute_coherence_values(dictionary, texts, limit, start=2, step=3):\n",
    "    \"\"\"\n",
    "    Compute c_v coherence for various number of topics\n",
    "\n",
    "    \"\"\"\n",
    "    coherence_values = []\n",
    "    model_list = []\n",
    "    for num_topics in range(start, limit, step):\n",
    "        model=LDA(corpus=document_term_matrix, id2word=dictionary, num_topics=num_topics, passes=40,iterations=200, chunksize = 10000)\n",
    "        model_list.append(model)\n",
    "        coherencemodel = CoherenceModel(model=model, texts=texts, dictionary=dictionary, coherence='c_v')\n",
    "        coherence_values.append(coherencemodel.get_coherence())\n",
    "\n",
    "    return model_list, coherence_values"
   ]
  },
  {
   "cell_type": "code",
   "execution_count": 31,
   "metadata": {},
   "outputs": [
    {
     "name": "stderr",
     "output_type": "stream",
     "text": [
      "/opt/anaconda3/lib/python3.8/site-packages/ipykernel/ipkernel.py:287: DeprecationWarning: `should_run_async` will not call `transform_cell` automatically in the future. Please pass the result to `transformed_cell` argument and any exception that happen during thetransform in `preprocessing_exc_tuple` in IPython 7.17 and above.\n",
      "  and should_run_async(code)\n"
     ]
    },
    {
     "data": {
      "image/png": "[encoded data removed]",
      "text/plain": [
       "<Figure size 432x288 with 1 Axes>"
      ]
     },
     "metadata": {
      "needs_background": "light"
     },
     "output_type": "display_data"
    }
   ],
   "source": [
    "# In this cell we plot the coherence score of the model to find the optimal number of topics\n",
    "model_list, coherence_values = compute_coherence_values(dictionary=dictionary, corpus=document_term_matrix, texts=data_preprocessed[\"Stopwords removed\"], start=2, limit=20, step=6)\n",
    "\n",
    "# Show graph\n",
    "import matplotlib.pyplot as plt\n",
    "limit=20; start=2; step=6;\n",
    "x = range(start, limit, step)\n",
    "plt.plot(x, coherence_values)\n",
    "plt.xlabel(\"Num Topics\")\n",
    "plt.ylabel(\"Coherence score\")\n",
    "plt.legend((\"coherence_values\"), loc='best')\n",
    "plt.show()"
   ]
  },
  {
   "cell_type": "code",
   "execution_count": 50,
   "metadata": {},
   "outputs": [
    {
     "name": "stderr",
     "output_type": "stream",
     "text": [
      "/opt/anaconda3/lib/python3.8/site-packages/ipykernel/ipkernel.py:287: DeprecationWarning: `should_run_async` will not call `transform_cell` automatically in the future. Please pass the result to `transformed_cell` argument and any exception that happen during thetransform in `preprocessing_exc_tuple` in IPython 7.17 and above.\n",
      "  and should_run_async(code)\n"
     ]
    },
    {
     "name": "stdout",
     "output_type": "stream",
     "text": [
      "[(0, '0.010*\"get\" + 0.009*\"latest\" + 0.009*\"california\" + 0.009*\"wildfire\" + 0.008*\"amp\" + 0.008*\"home\" + 0.008*\"news\" + 0.008*\"watch\" + 0.007*\"nuclear\" + 0.007*\"weather\"'), (1, '0.020*\"hiroshima\" + 0.011*\"fire\" + 0.009*\"bombing\" + 0.008*\"mass\" + 0.007*\"atomic\" + 0.007*\"japan\" + 0.006*\"murder\" + 0.006*\"school\" + 0.005*\"year\" + 0.005*\"wa\"'), (2, '0.013*\"fire\" + 0.013*\"crash\" + 0.012*\"disaster\" + 0.009*\"obama\" + 0.009*\"wa\" + 0.007*\"via\" + 0.006*\"plan\" + 0.006*\"ha\" + 0.006*\"emergency\" + 0.005*\"say\"'), (3, '0.026*\"fire\" + 0.012*\"building\" + 0.009*\"burning\" + 0.008*\"california\" + 0.008*\"migrant\" + 0.008*\"attack\" + 0.008*\"news\" + 0.008*\"video\" + 0.007*\"rescuer\" + 0.007*\"police\"'), (4, '0.012*\"train\" + 0.006*\"û\" + 0.005*\"people\" + 0.005*\"flood\" + 0.005*\"home\" + 0.005*\"two\" + 0.005*\"fedex\" + 0.005*\"refugee\" + 0.005*\"life\" + 0.005*\"like\"'), (5, '0.009*\"oil\" + 0.008*\"spill\" + 0.007*\"û\" + 0.006*\"possible\" + 0.006*\"may\" + 0.006*\"wa\" + 0.005*\"county\" + 0.005*\"projected\" + 0.005*\"bigger\" + 0.005*\"severe\"'), (6, '0.016*\"family\" + 0.014*\"legionnaire\" + 0.011*\"fatal\" + 0.010*\"wa\" + 0.009*\"outbreak\" + 0.008*\"charged\" + 0.008*\"affected\" + 0.007*\"boy\" + 0.007*\"accident\" + 0.006*\"airplane\"'), (7, '0.018*\"suicide\" + 0.012*\"bomber\" + 0.011*\"bomb\" + 0.007*\"saudi\" + 0.007*\"kill\" + 0.007*\"killed\" + 0.007*\"people\" + 0.007*\"dead\" + 0.007*\"mosque\" + 0.006*\"old\"')]\n"
     ]
    }
   ],
   "source": [
    "# Set up the model with the correct number of topics\n",
    "model_2=LDA(corpus=document_term_matrix, id2word=dictionary, num_topics=8, passes=40,iterations=200, chunksize = 10000)\n",
    "\n",
    "# Extracting the topics from the corpus\n",
    "print(model_2.print_topics(num_topics=8, num_words=10))\n",
    "\n",
    "# num_topics: how many topics want to extract \n",
    "# num_words: the number of words that want per topic\n",
    "\n",
    "# This returns the following six topics (indexed from 0,1,2,3,4,5) with the five words in each of the topics along with their respective weights."
   ]
  },
  {
   "cell_type": "markdown",
   "metadata": {},
   "source": [
    "The results above of the LDA model show the 8 different topics, each defined by a combination of keywords where each keyword contributes a certain weight to the topic. "
   ]
  },
  {
   "cell_type": "markdown",
   "metadata": {},
   "source": [
    "We visualized these results using the pyLDAvis library, which (1) plots a circle for each topic in a 2D space and (2) lists the most relevant words for each topic (Figure 3). The goal of this plot is to show whether the model has found distinct topics or rather topics which overlap (Ruchirawat, 2020). The distance between the circles is an indicator of topic relatedness: larger distances indicate distinct topics, and smaller distances or even overlap indicate related topics. The size of the circles indicates topic prevalence among the tweets, meaning that the bigger the circle, the higher the number of tweets that have been classified to this topic.  "
   ]
  },
  {
   "cell_type": "code",
   "execution_count": 52,
   "metadata": {},
   "outputs": [
    {
     "name": "stderr",
     "output_type": "stream",
     "text": [
      "/opt/anaconda3/lib/python3.8/site-packages/ipykernel/ipkernel.py:287: DeprecationWarning: `should_run_async` will not call `transform_cell` automatically in the future. Please pass the result to `transformed_cell` argument and any exception that happen during thetransform in `preprocessing_exc_tuple` in IPython 7.17 and above.\n",
      "  and should_run_async(code)\n"
     ]
    },
    {
     "data": {
      "text/html": [
       "\n",
       "<link rel=\"stylesheet\" type=\"text/css\" href=\"https://cdn.jsdelivr.net/gh/bmabey/pyLDAvis@3.3.1/pyLDAvis/js/ldavis.v1.0.0.css\">\n",
       "\n",
       "\n",
       "<div id=\"ldavis_el225771403273850213448493948259\"></div>\n",
       "<script type=\"text/javascript\">\n",
       "\n",
       "var ldavis_el225771403273850213448493948259_data = {\"mdsDat\": {\"x\": [-0.1221266805091283, -0.00673809817036853, -0.09787548512732229, 0.17122517548383828, 0.10928501943314761, 0.007332785178557981, -0.019114396241590684, -0.041988320047134195], \"y\": [0.15219519560600644, -0.10515101229689194, -0.03522104843319744, -0.009716600391211389, 0.14174914992672835, -0.09190006680554814, -0.03950693699650108, -0.012448680609385051], \"topics\": [1, 2, 3, 4, 5, 6, 7, 8], \"cluster\": [1, 1, 1, 1, 1, 1, 1, 1], \"Freq\": [15.495859966622778, 13.844799781349298, 12.944961907184926, 12.729709182581189, 12.247570898308688, 11.914972315305345, 10.464713882986814, 10.357412065660961]}, \"tinfo\": {\"Term\": [\"hiroshima\", \"fire\", \"suicide\", \"family\", \"bomber\", \"legionnaire\", \"crash\", \"obama\", \"train\", \"building\", \"bomb\", \"fatal\", \"disaster\", \"california\", \"outbreak\", \"wildfire\", \"latest\", \"saudi\", \"mass\", \"migrant\", \"burning\", \"mosque\", \"oil\", \"atomic\", \"rescuer\", \"charged\", \"bombing\", \"spill\", \"get\", \"body\", \"bomber\", \"pkk\", \"mosque\", \"detonated\", \"turkey\", \"saudi\", \"trench\", \"conclusively\", \"struggle\", \"ave\", \"exchanging\", \"richmond\", \"wrought\", \"order\", \"modified\", \"specially\", \"georgia\", \"swallow\", \"arabia\", \"pic\", \"exchange\", \"wmata\", \"faan\", \"kaduna\", \"green\", \"old\", \"aim\", \"security\", \"stadium\", \"mma\", \"suicide\", \"line\", \"officer\", \"wounded\", \"bomb\", \"kill\", \"dead\", \"released\", \"army\", \"site\", \"confirmed\", \"derailed\", \"wreckage\", \"evacuation\", \"suspect\", \"killed\", \"least\", \"people\", \"war\", \"police\", \"malaysia\", \"one\", \"like\", \"obama\", \"structural\", \"saipan\", \"declares\", \"typhoondevastated\", \"virgin\", \"galactic\", \"flag\", \"declaration\", \"geller\", \"pamela\", \"waving\", \"marians\", \"twelve\", \"spaceship\", \"hawaii\", \"jonathan\", \"bayelsa\", \"municipal\", \"apc\", \"mount\", \"pdp\", \"tension\", \"activates\", \"parley\", \"gem\", \"copilot\", \"freakiest\", \"anchorage\", \"unlocked\", \"plan\", \"muslim\", \"sign\", \"failure\", \"christian\", \"crash\", \"temple\", \"volcano\", \"attacked\", \"helicopter\", \"disaster\", \"israeli\", \"ambulance\", \"city\", \"fire\", \"earthquake\", \"wa\", \"emergency\", \"ha\", \"say\", \"via\", \"caused\", \"killed\", \"\\u00fb\", \"northern\", \"year\", \"amp\", \"hiroshima\", \"mark\", \"nagasaki\", \"taiwan\", \"parole\", \"governor\", \"allows\", \"italian\", \"alp\", \"knock\", \"felt\", \"ignition\", \"rome\", \"remember\", \"tonto\", \"calling\", \"data\", \"school\", \"funtenna\", \"hat\", \"sensorsenso\", \"afghan\", \"murder\", \"warfighting\", \"robot\", \"waimate\", \"experiment\", \"landfall\", \"tracking\", \"apollo\", \"mass\", \"salt\", \"account\", \"brown\", \"annihilation\", \"soudelor\", \"wave\", \"typhoon\", \"atomic\", \"hijacker\", \"huge\", \"bombing\", \"change\", \"civilian\", \"japan\", \"bus\", \"heat\", \"national\", \"anniversary\", \"going\", \"landslide\", \"area\", \"three\", \"fire\", \"today\", \"tornado\", \"year\", \"still\", \"casualty\", \"wa\", \"like\", \"people\", \"via\", \"forest\", \"new\", \"bomb\", \"california\", \"rescuer\", \"body\", \"militant\", \"searching\", \"picking\", \"spos\", \"mediterranean\", \"mediterran\", \"med\", \"bicyclist\", \"acre\", \"manchester\", \"broadway\", \"yazidis\", \"laden\", \"portland\", \"microlight\", \"avoiding\", \"cree\", \"drawn\", \"haunting\", \"gabon\", \"exploration\", \"somalia\", \"price\", \"bag\", \"offroad\", \"parker\", \"aba\", \"intensity\", \"udhampur\", \"baby\", \"denver\", \"trent\", \"migrant\", \"burning\", \"alarm\", \"boat\", \"collision\", \"building\", \"bin\", \"fight\", \"landing\", \"fire\", \"injured\", \"video\", \"hundred\", \"survivor\", \"attack\", \"breaking\", \"california\", \"wildfire\", \"police\", \"water\", \"woman\", \"news\", \"post\", \"one\", \"forest\", \"\\u00fb\", \"two\", \"people\", \"via\", \"fedex\", \"bioterror\", \"lab\", \"wake\", \"longer\", \"anthrax\", \"mishap\", \"madhya\", \"pradesh\", \"nigerian\", \"giant\", \"recount\", \"crane\", \"germ\", \"\\u00fb\\u00efwhen\", \"plunging\", \"repatriated\", \"holding\", \"hollywood\", \"transport\", \"tram\", \"notice\", \"nyt\", \"drowned\", \"chile\", \"grief\", \"pathogen\", \"powerlines\", \"usatoday\", \"saw\", \"cameroon\", \"village\", \"tragedy\", \"saved\", \"horror\", \"youth\", \"train\", \"refugee\", \"really\", \"coach\", \"live\", \"life\", \"two\", \"flood\", \"home\", \"\\u00fb\", \"people\", \"like\", \"collapse\", \"water\", \"wa\", \"via\", \"razed\", \"sandstorm\", \"abc\", \"swallowed\", \"bestnaijamade\", \"amid\", \"outrage\", \"crematorium\", \"provoke\", \"airline\", \"confirms\", \"hwo\", \"outlook\", \"minute\", \"prosecuted\", \"executive\", \"usagov\", \"statement\", \"wht\", \"blk\", \"wbioterrorismampuse\", \"colluded\", \"lglorg\", \"hostageamp\", \"idis\", \"offensive\", \"airport\", \"russian\", \"leveled\", \"oak\", \"latest\", \"weather\", \"fukushima\", \"aircraft\", \"famine\", \"mph\", \"reddit\", \"crisis\", \"missing\", \"watch\", \"memory\", \"get\", \"food\", \"debris\", \"wildfire\", \"northern\", \"nuclear\", \"california\", \"home\", \"amp\", \"malaysia\", \"news\", \"found\", \"disaster\", \"\\u00fb\", \"severe\", \"thunderstorm\", \"possible\", \"projected\", \"bigger\", \"refugio\", \"costlier\", \"theater\", \"ebola\", \"alabama\", \"record\", \"antioch\", \"boston\", \"pickens\", \"plain\", \"pipeline\", \"murderous\", \"relative\", \"nashville\", \"quarantined\", \"correction\", \"copycat\", \"crossborder\", \"redhanded\", \"yobe\", \"stockton\", \"washed\", \"oil\", \"ebike\", \"desire\", \"bethlehem\", \"tire\", \"parent\", \"spill\", \"colorado\", \"oklahoma\", \"shooting\", \"county\", \"hailstorm\", \"may\", \"drought\", \"rain\", \"hurricane\", \"case\", \"cyclone\", \"severe\", \"thunderstorm\", \"please\", \"\\u00fb\", \"official\", \"flooding\", \"warning\", \"first\", \"time\", \"wa\", \"collapse\", \"home\", \"would\", \"legionnaire\", \"outbreak\", \"charged\", \"yearold\", \"sue\", \"manslaughter\", \"disea\", \"disease\", \"affected\", \"examining\", \"threatens\", \"begin\", \"eruption\", \"toddler\", \"croatian\", \"france\", \"court\", \"viralspell\", \"triggered\", \"edinburgh\", \"streak\", \"prabhu\", \"malaysian\", \"wedn\", \"bigamist\", \"pregnant\", \"tripledigit\", \"longest\", \"dallas\", \"sanction\", \"airplane\", \"fatal\", \"boy\", \"expert\", \"family\", \"french\", \"thought\", \"horrible\", \"survive\", \"deadly\", \"accident\", \"man\", \"island\", \"wa\", \"second\", \"found\", \"reunion\", \"debris\", \"report\", \"hostage\", \"ha\", \"storm\", \"\\u00fb\", \"death\", \"new\", \"news\", \"attack\"], \"Freq\": [114.0, 319.0, 136.0, 116.0, 80.0, 63.0, 96.0, 56.0, 109.0, 104.0, 104.0, 62.0, 135.0, 122.0, 42.0, 90.0, 56.0, 50.0, 57.0, 59.0, 72.0, 48.0, 47.0, 62.0, 41.0, 36.0, 90.0, 48.0, 96.0, 39.0, 79.50197077990666, 39.38854965180381, 47.589432933241014, 38.55221117596954, 36.88130006909947, 49.97225765351729, 29.3588512338451, 29.35784798396845, 13.47733067710093, 13.476283671777944, 12.641763391008292, 11.805950761877282, 11.805527271664552, 22.6660666061646, 10.134151263177184, 10.134151263177184, 9.29824877911174, 9.297995622600808, 8.428710858371737, 27.59505356518653, 7.626519601664678, 7.625346018086226, 6.79064290205868, 6.787991790819208, 14.269704305536854, 43.28468461203404, 5.952722198031091, 23.464473798111044, 10.970268617738018, 5.118858639630074, 118.7976494968671, 26.507177529935625, 31.5459297141693, 34.54946919613615, 74.39609149021896, 49.93269335386451, 47.678053339011974, 28.501653911665727, 36.569176843455715, 22.637352094508074, 33.144125520010725, 22.602371177858753, 29.048134433262074, 30.865107470772248, 27.786689918572257, 49.55615898582845, 21.65643624782002, 49.31605409946102, 32.80897755342835, 40.34318722757942, 27.153432970729014, 30.181459875697648, 26.803551920288253, 56.20143912398702, 29.80246514642377, 28.977762573329123, 28.977455411132873, 26.502998643898643, 23.2012968382999, 21.55264982425862, 21.550677005243614, 20.72789698825913, 17.4278119727661, 17.4278119727661, 17.4278119727661, 16.602779898406386, 13.302736768667389, 13.30276469250341, 11.651968939280184, 10.827614017944018, 10.827420645379561, 10.001323276675578, 9.177366968098637, 18.977942297127466, 8.352133842119557, 8.352133842119557, 7.527271405063678, 7.527391477558576, 6.702456438529039, 5.877496268047081, 5.877193294426235, 5.8769252256004165, 5.8772114449196495, 37.330630812336075, 25.577943388905588, 27.591221249923187, 29.796025909836935, 19.0784527486994, 76.0844613600087, 18.25393866149791, 23.64206202419213, 24.027006065683167, 21.499027681944213, 71.66789900501155, 24.026587208142825, 20.119840100754857, 29.03180357318387, 77.05954495962004, 27.331758550367393, 51.718189063800445, 34.69509260462126, 37.04127564631797, 31.20554855028956, 39.935045112419985, 22.050428502350215, 26.861557452731823, 26.955456936125383, 22.852377337661757, 23.211991667496598, 21.607563443989076, 112.17714864010848, 25.541367049674683, 18.985569833929187, 14.877408361667618, 13.23902562164588, 12.417973989933728, 9.954791680414305, 9.1336323493405, 8.312710609585736, 8.312095091415802, 6.670570140927407, 6.670500299523183, 6.668380906630529, 13.985410917732374, 5.849511981981215, 5.849479345811018, 5.8492678634281345, 32.83103685385279, 5.028398015183986, 5.028398015183986, 5.02829814850318, 5.0076753525551005, 36.179599297438116, 4.207283069301649, 4.207283069301649, 4.207233462322948, 4.207184834429354, 4.207164600003831, 4.206229900089362, 4.206389817323332, 46.8043358361013, 8.312875095883534, 7.491440968256662, 7.490374418214594, 10.702751345351148, 20.198054469208213, 27.144463562478407, 26.842471941509203, 41.08351023138078, 14.882350783282394, 12.387597548160292, 52.588227576112324, 16.44582045823178, 14.467881865343003, 38.60375135829442, 25.68492442424777, 25.034840633734557, 18.578872240837327, 24.147773862392818, 25.57221997953301, 17.653127691470605, 23.208136748096234, 18.824276659023727, 64.22441124708202, 25.341456147297407, 16.772196520126077, 30.40892129001684, 24.005558487138266, 19.34990959444454, 28.918192416651433, 23.920926370580965, 24.446862169661213, 24.782980781083005, 19.60805647892302, 18.84003079110168, 19.17714545843791, 18.99705254405163, 41.046046248390105, 38.58680199790795, 27.132482748511848, 24.674160222951414, 19.7605152709142, 12.388302599082502, 11.566957115805351, 9.931141215850339, 9.93043387541598, 9.926936969166992, 9.11175215148782, 9.111085890715712, 8.29283036828339, 8.292755911395563, 8.292596085834624, 8.291515819091407, 7.4735850827387456, 7.4735850827387456, 5.835462944870256, 5.835430209514401, 5.835430209514401, 5.835258188428732, 5.835151638054771, 5.835145861227268, 5.831817766715336, 5.829338223976745, 5.01641118304699, 5.016403159675457, 5.016156039832238, 5.0162391619613205, 15.65102781472106, 13.207259043251955, 12.376424157995169, 8.292820098367828, 44.41079152148586, 51.48530501595318, 13.862899438930167, 27.863467095973988, 21.146924345827742, 65.08493773692072, 8.256097447795662, 16.245110336518387, 13.67092904228045, 142.63000457862776, 30.544479903110098, 41.92465549710362, 27.332440571990205, 23.81901516381904, 43.782247014279534, 16.373708935451017, 45.542674860319806, 36.842477379469486, 40.259750703187905, 26.843328140895366, 20.307632185105337, 42.222005497338884, 21.440557920368864, 28.250060094967402, 25.33438998714656, 29.89801182576853, 22.061958417562114, 23.63344805952246, 20.653856713501945, 26.268183117848995, 24.632267176554706, 22.996926800135853, 20.54007748951433, 19.72639673166468, 18.90877841840111, 18.091065001070135, 18.090111490160616, 18.090111490160616, 17.270565158076113, 17.267676217639114, 16.455692511589564, 16.45546524992201, 15.63805937691289, 14.820290379282788, 14.820290379282788, 12.3670809606954, 10.731513322608993, 9.914067308272726, 18.086214693632726, 8.278392832500213, 7.459916729953403, 7.45859330127523, 17.054850606446152, 6.6431975824179785, 6.643130268500143, 6.6430654248178245, 6.642931414541033, 6.641387517342979, 21.351710422120487, 13.99779705622664, 23.439593004762102, 24.616465079953176, 18.79276010199721, 22.98601576985776, 14.760719414675288, 64.85475391388451, 26.265063210391165, 22.939261622229633, 15.544208954037542, 20.008282717203265, 25.597820484218122, 27.195218043097583, 28.216504804493013, 27.472687247531976, 33.4694087562085, 28.636657282618348, 25.029550214264695, 21.598570938265123, 19.188847545717024, 20.7878198797385, 19.287650790803735, 32.706528991215364, 31.075148519021237, 31.02346150245506, 28.630918337677283, 26.18471997395618, 22.10755448037168, 16.40361896378787, 14.773741663848815, 13.95859093561948, 13.143285204016118, 9.881996791681093, 8.252575490040039, 8.252575490040039, 33.475694183574234, 6.62230887930111, 6.62230887930111, 6.622094998676486, 5.8072098188631145, 5.80716536053103, 5.806907021574323, 4.9920374622560075, 4.9920374622560075, 4.9920374622560075, 4.9920374622560075, 4.9920374622560075, 4.991428262948795, 32.70696396192387, 13.942416513776505, 4.1768819277205, 4.176659035271806, 47.785406211808535, 37.336770554850084, 20.731518636140304, 18.013845680945558, 19.44511679727408, 15.587378405634192, 7.437358675100848, 16.202529121463314, 26.9186549420794, 40.00437621865838, 18.813569367941557, 52.32587558877568, 21.74300817304386, 33.26768686509263, 44.06659410005013, 36.96030460821744, 38.095188846609915, 45.32029503330336, 40.534723266824514, 42.859831552865835, 25.07630406364906, 40.495489389548176, 22.312041179582803, 30.12512683174246, 31.878748491944393, 21.626022680834375, 20.200606846999044, 27.263188387367567, 23.26964234081223, 22.470709402840107, 21.67174691579955, 21.67174691579955, 18.474237998509118, 16.877415837875166, 14.480993774581425, 11.284485304322494, 9.664414358768754, 6.490652866928052, 6.4902887801919045, 6.489865067656939, 6.489258256430027, 5.692005394063549, 5.69161334124477, 4.89268620755395, 14.447621267748993, 4.094105747755375, 4.0941126073605485, 4.094095722178582, 4.094095722178582, 4.093970402468677, 4.093917108613096, 4.091056125593688, 39.12838675922578, 3.295174656600032, 3.295152758629669, 3.294997626020354, 3.295007915428115, 6.49065761588548, 35.083007425329534, 8.079021355678211, 9.469289195966702, 20.703554803149935, 23.612073831087898, 15.861561077830302, 25.76815960154106, 20.020245259339493, 21.88886924940814, 18.310852756508133, 14.918069875749573, 13.403387793438219, 22.200337537253183, 19.67589096896742, 12.59922467035205, 31.986744169756516, 14.677094056642026, 14.069203233407743, 16.49444513634626, 17.486395755346273, 17.47054901207094, 25.220448622158386, 16.40276809618435, 16.867851437615155, 14.992994704753215, 62.63475823233242, 41.788673392835676, 36.174729231212716, 28.15974233683158, 27.358765272152027, 24.151848845022414, 20.143128106900114, 13.728482629368647, 33.893534852572635, 10.52226079668125, 10.521987136916046, 14.247991225010466, 7.3151276351956085, 13.710808595448789, 5.711223941135157, 11.323857251592733, 5.668355452266958, 4.9099324810764955, 4.9045266562108125, 4.108274922744155, 4.108237320639013, 4.108217475083521, 8.71244431910069, 3.3065630502599426, 3.3065536497336567, 3.3065536497336567, 3.306467217116975, 3.306467217116975, 3.306448938315864, 3.3062006077464865, 28.768474460958835, 47.82498946748837, 30.495100458923474, 17.600308725708288, 73.6210530300383, 8.919251719372312, 8.872592729405172, 11.269338377147909, 8.643563007245842, 6.49898021009693, 30.268332607838754, 23.582057878781814, 19.29662742692814, 45.32218081517392, 11.911682605260804, 16.678739620831156, 13.916280076484934, 16.745206564184983, 16.425846662695815, 16.018622131020944, 19.95506326703615, 18.50431346947223, 21.739450276511224, 16.215067017817066, 15.563490428388786, 14.159029866758106, 13.745666791418733], \"Total\": [114.0, 319.0, 136.0, 116.0, 80.0, 63.0, 96.0, 56.0, 109.0, 104.0, 104.0, 62.0, 135.0, 122.0, 42.0, 90.0, 56.0, 50.0, 57.0, 59.0, 72.0, 48.0, 47.0, 62.0, 41.0, 36.0, 90.0, 48.0, 96.0, 39.0, 80.22448082064717, 40.102241252792155, 48.4571130300904, 39.26634507755533, 37.594476790601824, 50.96162108532431, 30.071626632305378, 30.071558825566708, 14.1899089898039, 14.189560088120793, 13.354180438062684, 12.518335340479553, 12.518010188723524, 24.20059722426806, 10.846543687568541, 10.84654369972143, 10.010617767887299, 10.010427012621951, 9.173506467752555, 30.047920785917434, 8.338888924953286, 8.338301096244873, 7.502997371028921, 7.502520280612074, 15.847552000697616, 48.29994042045745, 6.665472096985723, 26.65846047719257, 12.480347092190486, 5.831213108600314, 136.53776760698366, 31.571763312177485, 38.247154370377, 44.029656429043634, 104.49773130318722, 70.49461748961308, 68.70203439728323, 38.229333662163235, 51.49838831076413, 29.91865281035892, 47.98968152970311, 30.74075237692831, 42.97527727809625, 48.10587144952967, 42.226551905839806, 99.26889477100711, 29.928869059442068, 133.59041631466357, 67.5771470910264, 123.2183110620257, 52.84041857207443, 83.26389483437171, 111.63727431176817, 56.91729464785488, 30.516860242311335, 29.691857560430694, 29.691668394385555, 27.21688177815918, 23.916616123061797, 22.266698193771493, 22.266128778856004, 21.441723199173776, 18.141619973263992, 18.14162037229392, 18.141621102422736, 17.316583464895952, 14.01645699596092, 14.016491468716103, 12.36610591633225, 11.54135451489136, 11.54120478873882, 10.71601183975329, 9.891145218828536, 20.58977089541166, 9.065956211940929, 9.065956232338536, 8.24104894572208, 8.241199277910168, 7.4161805224841, 6.591223019230301, 6.590983278066559, 6.590766924470709, 6.591135305332253, 42.04617511817411, 28.792928954207557, 31.34183739732036, 34.639883443790644, 22.21459203630056, 96.89823340988242, 21.411070558635213, 29.556122600806745, 32.14526722541993, 28.764998719189673, 135.84331528893546, 33.750858832745735, 27.145979233081242, 54.15646549863971, 319.5294394056137, 54.07400918571685, 205.4513600730154, 94.650517151963, 117.00491562007247, 79.54291105277254, 149.96885176444462, 36.166971610178095, 99.26889477100711, 209.69904526331266, 73.69946033794677, 100.120414314093, 138.1224347877181, 114.98137222748691, 26.269186730347688, 19.700545440711718, 15.59506520458363, 13.95337834839516, 13.132283709036397, 10.669075610312799, 9.847953280500645, 9.026951805544575, 9.026549806078084, 7.384781483003154, 7.384715427255929, 7.383084543308105, 15.590232082302087, 6.5637157913806865, 6.563690997601593, 6.563572997355251, 36.851247835414306, 5.742609418922701, 5.742609418922701, 5.742514588548544, 5.740651469750135, 41.744115428015384, 4.921494721092224, 4.921494731121437, 4.921452911897393, 4.921423275149313, 4.9214288900301835, 4.920657742051266, 4.921008493774713, 57.23541474851645, 9.841074742159323, 9.003708382503401, 9.003089147676155, 13.120820101187462, 26.16697971768695, 38.31763359408414, 38.46343262451994, 62.767784764368805, 19.7326666199911, 16.383139641437968, 90.24906315572653, 22.93577221011794, 19.693941787860584, 66.01899498603106, 40.35371947624067, 39.87776513521243, 27.880722583847874, 40.50407727475898, 47.58355574022687, 28.62522979579954, 44.05469284491481, 32.775729247267165, 319.5294394056137, 64.03823021497585, 29.53566780792452, 100.120414314093, 73.25160715708938, 43.119087593398596, 205.4513600730154, 111.63727431176817, 133.59041631466357, 149.96885176444462, 65.80433237074908, 75.85616946842086, 104.49773130318722, 122.7032234926636, 41.77189046882408, 39.31410969392972, 27.847113890583, 25.38934960631087, 20.475131519320467, 13.10291290660252, 12.283294450760453, 10.645620610226672, 10.645361729575157, 10.645259079534966, 9.82633015181384, 9.825828594683731, 9.007340562798742, 9.007267900597943, 9.007213303659558, 9.006523047802165, 8.18817004648946, 8.188170085181328, 6.549926919732467, 6.549909505238907, 6.549909505238907, 6.549835645343393, 6.54974939346455, 6.549816549410325, 6.549538684035105, 6.549198354616146, 5.730860199544862, 5.73085217617333, 5.730654402357598, 5.730753379516254, 18.013861880038057, 15.551100115392293, 14.732140018679985, 9.80523261123984, 59.766754459052095, 72.90919847328142, 17.21602201659968, 38.47792881455949, 28.570045094457114, 104.935771177528, 9.83065423855886, 22.03025453521555, 18.06597655343534, 319.5294394056137, 51.581742472495876, 78.45381476911014, 44.949977030981096, 38.420015774273004, 102.29421315941013, 24.602805630219112, 122.7032234926636, 90.64476385705548, 123.2183110620257, 62.12530305880321, 39.230211872452145, 170.14234659409652, 44.20251395720084, 83.26389483437171, 65.80433237074908, 209.69904526331266, 78.84696759131215, 133.59041631466357, 149.96885176444462, 26.982889300115982, 25.347238947669126, 23.711936494729375, 21.25820104391571, 20.441107104426713, 19.62346792954928, 18.805747889789824, 18.80568539134571, 18.80568594757527, 17.986979077024408, 17.98769415556929, 17.1704063032204, 17.170256235555577, 16.352700053584506, 15.534987560357214, 15.53498759601763, 13.081761618917659, 11.446247560554962, 10.628693041113044, 19.606444833986263, 8.993091169624998, 8.174772072158508, 8.173950057792226, 18.805931092257996, 7.357823336364848, 7.357783619030297, 7.357736074720016, 7.357623252337428, 7.35731209536285, 23.678384144130664, 15.534574760591108, 27.00541954668058, 28.54139494496497, 22.08602034480268, 29.339925523007647, 18.00051416009379, 109.08831631035915, 39.32445296832192, 36.56323443020811, 21.273020843035777, 36.037608784520486, 64.70721121551186, 78.84696759131215, 97.53194342482674, 108.31778103684137, 209.69904526331266, 133.59041631466357, 111.63727431176817, 66.6574431582225, 62.12530305880321, 205.4513600730154, 149.96885176444462, 33.421940533011266, 31.791272173324515, 31.789724156022586, 29.34610632873975, 26.899906857513944, 22.824197252072903, 17.11874085340577, 15.488769616628355, 14.673619924030067, 13.858338352714588, 10.597448538073056, 8.96754352959097, 8.96754354179952, 36.69902791096505, 7.337278830913559, 7.337278843122111, 7.337128335554843, 6.522164166347269, 6.522138579710506, 6.5219513180034525, 5.7070066623363624, 5.70700667324411, 5.70700667324411, 5.7070066841518585, 5.7070066841518585, 5.7066842500997135, 37.545376489279725, 16.314785048343413, 4.891842733652772, 4.891659746952979, 56.31303879273991, 46.297035211641, 25.366753383307383, 23.76373044676217, 26.005855361021936, 20.40806393302741, 8.972235921193752, 21.951945168267738, 39.97282812817825, 64.47400235635885, 26.935485083282618, 96.32431536802646, 32.675861195713985, 56.85495399093123, 90.64476385705548, 73.69946033794677, 83.02115263792047, 122.7032234926636, 108.31778103684137, 138.1224347877181, 52.84041857207443, 170.14234659409652, 48.7507967789827, 135.84331528893546, 209.69904526331266, 58.36052678853487, 56.83712357538685, 27.981277485614477, 23.98683447521479, 23.187846967042667, 22.38887999920019, 22.388880001947754, 19.192097178737104, 17.594561999466784, 15.197967669569831, 12.001594153227273, 10.403437962647923, 7.207786493202582, 7.207519840735465, 7.207786269423398, 7.207412538020875, 6.409041120590568, 6.408684715005385, 5.609759292260354, 16.800496768374323, 4.811072300044913, 4.8111060116712885, 4.811098209116604, 4.811098209116604, 4.810981458371876, 4.810928449147558, 4.808871263984684, 47.32795545124863, 4.012156365034516, 4.012134537093639, 4.012008647237438, 4.012021896737151, 8.007073915142044, 48.240394839027644, 10.438153241802222, 12.867775214526763, 31.21007556907641, 38.84993021947486, 26.824501575242902, 51.58912139971821, 37.90933877492571, 43.963206180717165, 34.70609121880394, 27.403039749154843, 25.06103628082128, 58.36052678853487, 56.83712357538685, 28.347433987601846, 209.69904526331266, 40.5141284753077, 37.608929252347785, 55.25508837236481, 66.53049397871516, 66.79598179513708, 205.4513600730154, 66.6574431582225, 108.31778103684137, 58.51093652387222, 63.35199414231604, 42.50634779080414, 36.894164380106325, 28.8768436915572, 28.075497917999783, 24.868504690734596, 20.859818992727966, 14.445497916767268, 36.1271249363908, 11.238913327042276, 11.238720974279804, 15.253378763520253, 8.031813468589405, 15.262749471192084, 6.4281043164965315, 12.838481512015614, 6.429128636738938, 5.626598898715767, 5.622302841476047, 4.824920052647901, 4.824879040370725, 4.824862419519205, 10.431808401835056, 4.023185089850368, 4.023175689324082, 4.023175689324082, 4.023112498566757, 4.023112499709356, 4.023103023283211, 4.022902803201689, 35.428204023778484, 62.11049928991763, 39.51838894999102, 22.565899848359212, 116.88464127361976, 12.08494697375054, 12.047310198675365, 16.1589141517903, 12.04674915323609, 8.877761101788556, 76.51229438829468, 54.06553632084588, 42.76449871237192, 205.4513600730154, 23.494367324078482, 48.7507967789827, 33.173250587155195, 56.85495399093123, 57.82426267504533, 57.380168583009535, 117.00491562007247, 109.52759685914421, 209.69904526331266, 74.34780830219671, 75.85616946842086, 170.14234659409652, 102.29421315941013], \"Category\": [\"Default\", \"Default\", \"Default\", \"Default\", \"Default\", \"Default\", \"Default\", \"Default\", \"Default\", \"Default\", \"Default\", \"Default\", \"Default\", \"Default\", \"Default\", \"Default\", \"Default\", \"Default\", \"Default\", \"Default\", \"Default\", \"Default\", \"Default\", \"Default\", \"Default\", \"Default\", \"Default\", \"Default\", \"Default\", \"Default\", \"Topic1\", \"Topic1\", \"Topic1\", \"Topic1\", \"Topic1\", \"Topic1\", \"Topic1\", \"Topic1\", \"Topic1\", \"Topic1\", \"Topic1\", \"Topic1\", \"Topic1\", \"Topic1\", \"Topic1\", \"Topic1\", \"Topic1\", \"Topic1\", \"Topic1\", \"Topic1\", \"Topic1\", \"Topic1\", \"Topic1\", \"Topic1\", \"Topic1\", \"Topic1\", \"Topic1\", \"Topic1\", \"Topic1\", \"Topic1\", \"Topic1\", \"Topic1\", \"Topic1\", \"Topic1\", \"Topic1\", \"Topic1\", \"Topic1\", \"Topic1\", \"Topic1\", \"Topic1\", \"Topic1\", \"Topic1\", \"Topic1\", \"Topic1\", \"Topic1\", \"Topic1\", \"Topic1\", \"Topic1\", \"Topic1\", \"Topic1\", \"Topic1\", \"Topic1\", \"Topic1\", \"Topic2\", \"Topic2\", \"Topic2\", \"Topic2\", \"Topic2\", \"Topic2\", \"Topic2\", \"Topic2\", \"Topic2\", \"Topic2\", \"Topic2\", \"Topic2\", \"Topic2\", \"Topic2\", \"Topic2\", \"Topic2\", \"Topic2\", \"Topic2\", \"Topic2\", \"Topic2\", \"Topic2\", \"Topic2\", \"Topic2\", \"Topic2\", \"Topic2\", \"Topic2\", \"Topic2\", \"Topic2\", \"Topic2\", \"Topic2\", \"Topic2\", \"Topic2\", \"Topic2\", \"Topic2\", \"Topic2\", \"Topic2\", \"Topic2\", \"Topic2\", \"Topic2\", \"Topic2\", \"Topic2\", \"Topic2\", \"Topic2\", \"Topic2\", \"Topic2\", \"Topic2\", \"Topic2\", \"Topic2\", \"Topic2\", \"Topic2\", \"Topic2\", \"Topic2\", \"Topic2\", \"Topic2\", \"Topic2\", \"Topic2\", \"Topic2\", \"Topic3\", \"Topic3\", \"Topic3\", \"Topic3\", \"Topic3\", \"Topic3\", \"Topic3\", \"Topic3\", \"Topic3\", \"Topic3\", \"Topic3\", \"Topic3\", \"Topic3\", \"Topic3\", \"Topic3\", \"Topic3\", \"Topic3\", \"Topic3\", \"Topic3\", \"Topic3\", \"Topic3\", \"Topic3\", \"Topic3\", \"Topic3\", \"Topic3\", \"Topic3\", \"Topic3\", \"Topic3\", \"Topic3\", \"Topic3\", \"Topic3\", \"Topic3\", \"Topic3\", \"Topic3\", \"Topic3\", \"Topic3\", \"Topic3\", \"Topic3\", \"Topic3\", \"Topic3\", \"Topic3\", \"Topic3\", \"Topic3\", \"Topic3\", \"Topic3\", \"Topic3\", \"Topic3\", \"Topic3\", \"Topic3\", \"Topic3\", \"Topic3\", \"Topic3\", \"Topic3\", \"Topic3\", \"Topic3\", \"Topic3\", \"Topic3\", \"Topic3\", \"Topic3\", \"Topic3\", \"Topic3\", \"Topic3\", \"Topic3\", \"Topic3\", \"Topic3\", \"Topic3\", \"Topic3\", \"Topic4\", \"Topic4\", \"Topic4\", \"Topic4\", \"Topic4\", \"Topic4\", \"Topic4\", \"Topic4\", \"Topic4\", \"Topic4\", \"Topic4\", \"Topic4\", \"Topic4\", \"Topic4\", \"Topic4\", \"Topic4\", \"Topic4\", \"Topic4\", \"Topic4\", \"Topic4\", \"Topic4\", \"Topic4\", \"Topic4\", \"Topic4\", \"Topic4\", \"Topic4\", \"Topic4\", \"Topic4\", \"Topic4\", \"Topic4\", \"Topic4\", \"Topic4\", \"Topic4\", \"Topic4\", \"Topic4\", \"Topic4\", \"Topic4\", \"Topic4\", \"Topic4\", \"Topic4\", \"Topic4\", \"Topic4\", \"Topic4\", \"Topic4\", \"Topic4\", \"Topic4\", \"Topic4\", \"Topic4\", \"Topic4\", \"Topic4\", \"Topic4\", \"Topic4\", \"Topic4\", \"Topic4\", \"Topic4\", \"Topic4\", \"Topic4\", \"Topic4\", \"Topic4\", \"Topic4\", \"Topic4\", \"Topic4\", \"Topic4\", \"Topic5\", \"Topic5\", \"Topic5\", \"Topic5\", \"Topic5\", \"Topic5\", \"Topic5\", \"Topic5\", \"Topic5\", \"Topic5\", \"Topic5\", \"Topic5\", \"Topic5\", \"Topic5\", \"Topic5\", \"Topic5\", \"Topic5\", \"Topic5\", \"Topic5\", \"Topic5\", \"Topic5\", \"Topic5\", \"Topic5\", \"Topic5\", \"Topic5\", \"Topic5\", \"Topic5\", \"Topic5\", \"Topic5\", \"Topic5\", \"Topic5\", \"Topic5\", \"Topic5\", \"Topic5\", \"Topic5\", \"Topic5\", \"Topic5\", \"Topic5\", \"Topic5\", \"Topic5\", \"Topic5\", \"Topic5\", \"Topic5\", \"Topic5\", \"Topic5\", \"Topic5\", \"Topic5\", \"Topic5\", \"Topic5\", \"Topic5\", \"Topic5\", \"Topic5\", \"Topic6\", \"Topic6\", \"Topic6\", \"Topic6\", \"Topic6\", \"Topic6\", \"Topic6\", \"Topic6\", \"Topic6\", \"Topic6\", \"Topic6\", \"Topic6\", \"Topic6\", \"Topic6\", \"Topic6\", \"Topic6\", \"Topic6\", \"Topic6\", \"Topic6\", \"Topic6\", \"Topic6\", \"Topic6\", \"Topic6\", \"Topic6\", \"Topic6\", \"Topic6\", \"Topic6\", \"Topic6\", \"Topic6\", \"Topic6\", \"Topic6\", \"Topic6\", \"Topic6\", \"Topic6\", \"Topic6\", \"Topic6\", \"Topic6\", \"Topic6\", \"Topic6\", \"Topic6\", \"Topic6\", \"Topic6\", \"Topic6\", \"Topic6\", \"Topic6\", \"Topic6\", \"Topic6\", \"Topic6\", \"Topic6\", \"Topic6\", \"Topic6\", \"Topic6\", \"Topic6\", \"Topic6\", \"Topic6\", \"Topic6\", \"Topic6\", \"Topic7\", \"Topic7\", \"Topic7\", \"Topic7\", \"Topic7\", \"Topic7\", \"Topic7\", \"Topic7\", \"Topic7\", \"Topic7\", \"Topic7\", \"Topic7\", \"Topic7\", \"Topic7\", \"Topic7\", \"Topic7\", \"Topic7\", \"Topic7\", \"Topic7\", \"Topic7\", \"Topic7\", \"Topic7\", \"Topic7\", \"Topic7\", \"Topic7\", \"Topic7\", \"Topic7\", \"Topic7\", \"Topic7\", \"Topic7\", \"Topic7\", \"Topic7\", \"Topic7\", \"Topic7\", \"Topic7\", \"Topic7\", \"Topic7\", \"Topic7\", \"Topic7\", \"Topic7\", \"Topic7\", \"Topic7\", \"Topic7\", \"Topic7\", \"Topic7\", \"Topic7\", \"Topic7\", \"Topic7\", \"Topic7\", \"Topic7\", \"Topic7\", \"Topic7\", \"Topic7\", \"Topic7\", \"Topic7\", \"Topic7\", \"Topic8\", \"Topic8\", \"Topic8\", \"Topic8\", \"Topic8\", \"Topic8\", \"Topic8\", \"Topic8\", \"Topic8\", \"Topic8\", \"Topic8\", \"Topic8\", \"Topic8\", \"Topic8\", \"Topic8\", \"Topic8\", \"Topic8\", \"Topic8\", \"Topic8\", \"Topic8\", \"Topic8\", \"Topic8\", \"Topic8\", \"Topic8\", \"Topic8\", \"Topic8\", \"Topic8\", \"Topic8\", \"Topic8\", \"Topic8\", \"Topic8\", \"Topic8\", \"Topic8\", \"Topic8\", \"Topic8\", \"Topic8\", \"Topic8\", \"Topic8\", \"Topic8\", \"Topic8\", \"Topic8\", \"Topic8\", \"Topic8\", \"Topic8\", \"Topic8\", \"Topic8\", \"Topic8\", \"Topic8\", \"Topic8\", \"Topic8\", \"Topic8\", \"Topic8\", \"Topic8\", \"Topic8\", \"Topic8\", \"Topic8\", \"Topic8\"], \"logprob\": [30.0, 29.0, 28.0, 27.0, 26.0, 25.0, 24.0, 23.0, 22.0, 21.0, 20.0, 19.0, 18.0, 17.0, 16.0, 15.0, 14.0, 13.0, 12.0, 11.0, 10.0, 9.0, 8.0, 7.0, 6.0, 5.0, 4.0, 3.0, 2.0, 1.0, -4.4358, -5.1381, -4.949, -5.1596, -5.2039, -4.9001, -5.432, -5.4321, -6.2106, -6.2107, -6.2746, -6.343, -6.343, -5.6907, -6.4957, -6.4957, -6.5818, -6.5818, -6.68, -5.494, -6.78, -6.7801, -6.8961, -6.8965, -6.1535, -5.0438, -7.0278, -5.6561, -6.4164, -7.1787, -4.0342, -5.5342, -5.3602, -5.2692, -4.5022, -4.9009, -4.9471, -5.4616, -5.2124, -5.692, -5.3107, -5.6936, -5.4427, -5.382, -5.4871, -4.9085, -5.7363, -4.9134, -5.3209, -5.1142, -5.5101, -5.4044, -5.5231, -4.67, -5.3044, -5.3324, -5.3324, -5.4217, -5.5547, -5.6284, -5.6285, -5.6675, -5.8409, -5.8409, -5.8409, -5.8894, -6.111, -6.111, -6.2435, -6.3168, -6.3169, -6.3962, -6.4822, -5.7557, -6.5764, -6.5764, -6.6804, -6.6804, -6.7965, -6.9278, -6.9279, -6.9279, -6.9279, -5.0791, -5.4572, -5.3814, -5.3046, -5.7504, -4.3671, -5.7946, -5.5359, -5.5198, -5.6309, -4.4269, -5.5198, -5.6972, -5.3306, -4.3544, -5.3909, -4.7531, -5.1523, -5.0869, -5.2584, -5.0117, -5.6056, -5.4083, -5.4048, -5.5699, -5.5543, -5.6259, -3.9117, -5.3914, -5.6881, -5.9319, -6.0486, -6.1126, -6.3337, -6.4198, -6.514, -6.514, -6.734, -6.734, -6.7344, -5.9937, -6.8654, -6.8654, -6.8654, -5.1404, -7.0166, -7.0166, -7.0167, -7.0208, -5.0432, -7.1949, -7.1949, -7.1949, -7.195, -7.195, -7.1952, -7.1951, -4.7858, -6.5139, -6.618, -6.6181, -6.2612, -5.6262, -5.3306, -5.3418, -4.9161, -5.9316, -6.115, -4.6693, -5.8317, -5.9598, -4.9784, -5.3858, -5.4115, -5.7097, -5.4476, -5.3902, -5.7608, -5.4872, -5.6966, -4.4694, -5.3993, -5.812, -5.217, -5.4535, -5.6691, -5.2673, -5.457, -5.4352, -5.4216, -5.6558, -5.6958, -5.678, -5.6875, -4.9003, -4.9621, -5.3142, -5.4092, -5.6313, -6.0982, -6.1668, -6.3193, -6.3194, -6.3197, -6.4054, -6.4055, -6.4996, -6.4996, -6.4996, -6.4997, -6.6036, -6.6036, -6.851, -6.851, -6.851, -6.8511, -6.8511, -6.8511, -6.8516, -6.8521, -7.0023, -7.0023, -7.0023, -7.0023, -5.8644, -6.0342, -6.0992, -6.4996, -4.8215, -4.6737, -5.9858, -5.2877, -5.5635, -4.4393, -6.504, -5.8272, -5.9997, -3.6547, -5.1958, -4.8791, -5.3069, -5.4445, -4.8357, -5.8193, -4.7963, -5.0083, -4.9196, -5.325, -5.604, -4.872, -5.5497, -5.2739, -5.3828, -5.2172, -5.5211, -5.4523, -5.5871, -5.308, -5.3723, -5.441, -5.554, -5.5944, -5.6367, -5.6809, -5.681, -5.681, -5.7274, -5.7275, -5.7757, -5.7757, -5.8267, -5.8804, -5.8804, -6.0613, -6.2032, -6.2824, -5.6812, -6.4627, -6.5668, -6.567, -5.7399, -6.6828, -6.6828, -6.6828, -6.6828, -6.683, -5.5152, -5.9375, -5.4219, -5.373, -5.6429, -5.4415, -5.8844, -4.4042, -5.3081, -5.4435, -5.8327, -5.5802, -5.3339, -5.2733, -5.2365, -5.2632, -5.0657, -5.2217, -5.3563, -5.5037, -5.622, -5.542, -5.6169, -5.0613, -5.1124, -5.1141, -5.1943, -5.2837, -5.4529, -5.7513, -5.856, -5.9127, -5.9729, -6.2581, -6.4383, -6.4383, -5.038, -6.6584, -6.6584, -6.6584, -6.7897, -6.7897, -6.7898, -6.941, -6.941, -6.941, -6.941, -6.941, -6.9411, -5.0612, -5.9139, -7.1193, -7.1193, -4.6821, -4.9289, -5.5172, -5.6577, -5.5812, -5.8024, -6.5423, -5.7637, -5.256, -4.8598, -5.6143, -4.5913, -5.4695, -5.0442, -4.7631, -4.939, -4.9087, -4.7351, -4.8467, -4.7909, -5.3269, -4.8476, -5.4437, -5.1435, -5.0869, -5.4749, -5.5431, -5.1135, -5.2719, -5.3068, -5.343, -5.343, -5.5027, -5.5931, -5.7462, -5.9956, -6.1506, -6.5487, -6.5487, -6.5488, -6.5489, -6.68, -6.6801, -6.8313, -5.7485, -7.0095, -7.0095, -7.0095, -7.0095, -7.0095, -7.0095, -7.0102, -4.7522, -7.2266, -7.2266, -7.2266, -7.2266, -6.5487, -4.8613, -6.3298, -6.171, -5.3887, -5.2573, -5.6551, -5.1699, -5.4223, -5.3331, -5.5116, -5.7165, -5.8235, -5.3189, -5.4397, -5.8854, -4.9537, -5.7328, -5.7751, -5.616, -5.5576, -5.5585, -5.1914, -5.6216, -5.5936, -5.7115, -4.2714, -4.6761, -4.8204, -5.0708, -5.0997, -5.2244, -5.4059, -5.7893, -4.8855, -6.0552, -6.0553, -5.7521, -6.4188, -5.7906, -6.6663, -5.9818, -6.6738, -6.8175, -6.8186, -6.9957, -6.9957, -6.9958, -6.244, -7.2128, -7.2128, -7.2128, -7.2129, -7.2129, -7.2129, -7.2129, -5.0495, -4.5412, -4.9912, -5.5408, -4.1098, -6.2205, -6.2258, -5.9867, -6.2519, -6.5371, -4.9986, -5.2483, -5.4488, -4.5949, -5.9312, -5.5946, -5.7757, -5.5906, -5.6099, -5.635, -5.4153, -5.4907, -5.3296, -5.6228, -5.6638, -5.7584, -5.788], \"loglift\": [30.0, 29.0, 28.0, 27.0, 26.0, 25.0, 24.0, 23.0, 22.0, 21.0, 20.0, 19.0, 18.0, 17.0, 16.0, 15.0, 14.0, 13.0, 12.0, 11.0, 10.0, 9.0, 8.0, 7.0, 6.0, 5.0, 4.0, 3.0, 2.0, 1.0, 1.8556, 1.8466, 1.8465, 1.8462, 1.8454, 1.845, 1.8406, 1.8406, 1.8131, 1.813, 1.8098, 1.806, 1.806, 1.7991, 1.7967, 1.7967, 1.7908, 1.7908, 1.7799, 1.7794, 1.7753, 1.7752, 1.7648, 1.7645, 1.7597, 1.755, 1.7515, 1.737, 1.7356, 1.7343, 1.7254, 1.6897, 1.672, 1.6221, 1.5248, 1.5197, 1.4993, 1.571, 1.5223, 1.5857, 1.4945, 1.5571, 1.4729, 1.4208, 1.4461, 1.1699, 1.5411, 0.8681, 1.142, 0.7481, 1.1988, 0.8498, 0.4379, 1.9646, 1.9536, 1.9529, 1.9529, 1.9507, 1.9469, 1.9447, 1.9446, 1.9434, 1.9371, 1.9371, 1.9371, 1.9352, 1.925, 1.925, 1.9178, 1.9134, 1.9134, 1.9082, 1.9024, 1.8957, 1.8953, 1.8953, 1.8867, 1.8867, 1.8761, 1.8627, 1.8626, 1.8626, 1.8626, 1.8583, 1.8589, 1.8498, 1.8266, 1.8251, 1.7354, 1.8177, 1.754, 1.6862, 1.6861, 1.3378, 1.6374, 1.6777, 1.3538, 0.555, 1.295, 0.5979, 0.9737, 0.8271, 1.0416, 0.6541, 1.4824, 0.6701, -0.0742, 0.8063, 0.5156, 0.1222, 2.0198, 2.0164, 2.0075, 1.9974, 1.9919, 1.9885, 1.9752, 1.9692, 1.962, 1.962, 1.9427, 1.9427, 1.9426, 1.9358, 1.9293, 1.9293, 1.9292, 1.9289, 1.9117, 1.9117, 1.9116, 1.9079, 1.9014, 1.8877, 1.8877, 1.8877, 1.8877, 1.8877, 1.8876, 1.8876, 1.8433, 1.8757, 1.8606, 1.8605, 1.8408, 1.7856, 1.6997, 1.6847, 1.6206, 1.7624, 1.7649, 1.5044, 1.7118, 1.7361, 1.5079, 1.5927, 1.5789, 1.6386, 1.5273, 1.4235, 1.5611, 1.4035, 1.4899, 0.44, 1.1174, 1.4786, 0.8528, 0.9288, 1.2432, 0.0837, 0.504, 0.3462, 0.2442, 0.8337, 0.6516, 0.349, 0.179, 2.0437, 2.0426, 2.0352, 2.0327, 2.0257, 2.0051, 2.0011, 1.9918, 1.9917, 1.9914, 1.9857, 1.9857, 1.9786, 1.9786, 1.9786, 1.9785, 1.9699, 1.9699, 1.9457, 1.9457, 1.9457, 1.9457, 1.9457, 1.9457, 1.9452, 1.9448, 1.9281, 1.9281, 1.9281, 1.9281, 1.9206, 1.8979, 1.887, 1.8937, 1.7643, 1.7133, 1.8446, 1.7385, 1.7604, 1.5836, 1.8867, 1.7566, 1.7825, 1.2546, 1.5372, 1.4346, 1.5638, 1.5831, 1.2126, 1.654, 1.0701, 1.1609, 0.9426, 1.2221, 1.4028, 0.6675, 1.3377, 0.9803, 1.1067, 0.1134, 0.7876, 0.3291, 0.0787, 2.073, 2.0712, 2.0692, 2.0655, 2.0643, 2.0627, 2.0611, 2.061, 2.061, 2.0592, 2.059, 2.0573, 2.0573, 2.0552, 2.0527, 2.0527, 2.0437, 2.0354, 2.0302, 2.0191, 2.017, 2.0083, 2.0083, 2.0021, 1.9977, 1.9977, 1.9977, 1.9977, 1.9975, 1.9964, 1.9957, 1.9582, 1.9519, 1.9384, 1.8558, 1.9014, 1.5798, 1.6962, 1.6336, 1.7861, 1.5114, 1.1725, 1.0354, 0.8596, 0.728, 0.2648, 0.5598, 0.6046, 0.9729, 0.925, -0.191, 0.0489, 2.1057, 2.1046, 2.103, 2.1027, 2.1004, 2.0955, 2.0847, 2.0801, 2.0774, 2.0744, 2.0575, 2.0443, 2.0443, 2.0354, 2.0249, 2.0249, 2.0248, 2.0113, 2.0113, 2.0112, 1.9935, 1.9935, 1.9935, 1.9935, 1.9935, 1.9935, 1.9894, 1.9702, 1.9694, 1.9694, 1.9632, 1.9123, 1.9256, 1.8504, 1.8366, 1.8579, 1.9398, 1.8237, 1.732, 1.6501, 1.7685, 1.5171, 1.72, 1.5915, 1.4061, 1.4372, 1.3484, 1.1314, 1.1445, 0.9572, 1.382, 0.6919, 1.3458, 0.6212, 0.2436, 1.1346, 1.0929, 2.2312, 2.2268, 2.2257, 2.2246, 2.2246, 2.219, 2.2155, 2.2088, 2.1956, 2.1835, 2.1524, 2.1523, 2.1522, 2.1522, 2.1385, 2.1385, 2.1204, 2.1063, 2.0958, 2.0958, 2.0958, 2.0958, 2.0958, 2.0958, 2.0955, 2.0669, 2.0603, 2.0603, 2.0603, 2.0603, 2.0472, 1.9387, 2.001, 1.9505, 1.8467, 1.7592, 1.7317, 1.563, 1.6187, 1.5598, 1.6177, 1.6491, 1.6314, 1.2906, 1.1964, 1.4463, 0.3768, 1.2418, 1.2739, 1.0482, 0.9209, 0.916, 0.1596, 0.855, 0.3975, 0.8955, 2.2561, 2.2504, 2.2478, 2.2423, 2.2416, 2.2382, 2.2325, 2.2166, 2.2036, 2.2016, 2.2016, 2.1993, 2.174, 2.1602, 2.1492, 2.1419, 2.1415, 2.1312, 2.1309, 2.1067, 2.1067, 2.1067, 2.0874, 2.0713, 2.0713, 2.0713, 2.0713, 2.0713, 2.0713, 2.0713, 2.0592, 2.0061, 2.0083, 2.0189, 1.8052, 1.9637, 1.9616, 1.9071, 1.9355, 1.9556, 1.3401, 1.4378, 1.4717, 0.7561, 1.5882, 1.1949, 1.3988, 1.0451, 1.0089, 0.9915, 0.4987, 0.4893, 0.0009, 0.7447, 0.6836, -0.2188, 0.2603]}, \"token.table\": {\"Topic\": [4, 6, 1, 2, 4, 5, 6, 7, 8, 3, 7, 4, 2, 3, 8, 3, 1, 1, 6, 6, 2, 5, 8, 2, 6, 7, 2, 4, 3, 3, 2, 4, 5, 7, 6, 1, 2, 3, 4, 5, 6, 7, 8, 2, 1, 3, 7, 1, 3, 5, 7, 2, 3, 1, 1, 3, 4, 5, 6, 7, 8, 1, 2, 5, 6, 1, 3, 1, 3, 4, 5, 6, 7, 8, 1, 2, 4, 1, 4, 4, 6, 4, 2, 8, 6, 7, 4, 8, 7, 2, 4, 5, 6, 4, 5, 4, 1, 3, 7, 8, 1, 1, 3, 6, 7, 8, 7, 1, 5, 8, 2, 3, 4, 4, 3, 7, 2, 3, 4, 5, 2, 3, 4, 5, 1, 3, 6, 8, 2, 3, 4, 5, 6, 3, 4, 5, 3, 4, 6, 7, 8, 1, 3, 6, 7, 8, 1, 2, 3, 5, 6, 8, 2, 3, 7, 8, 8, 5, 2, 6, 8, 2, 3, 4, 5, 7, 1, 2, 3, 5, 8, 2, 5, 7, 2, 3, 4, 5, 7, 8, 4, 5, 6, 7, 8, 6, 4, 6, 7, 1, 1, 4, 6, 7, 6, 2, 7, 7, 7, 1, 2, 4, 6, 7, 8, 5, 2, 5, 7, 8, 4, 6, 3, 5, 6, 7, 8, 7, 1, 2, 3, 4, 6, 7, 8, 8, 3, 1, 3, 6, 7, 8, 2, 8, 1, 2, 3, 4, 5, 6, 7, 8, 2, 6, 8, 2, 2, 4, 6, 1, 5, 7, 1, 1, 2, 3, 5, 6, 7, 8, 8, 8, 4, 1, 4, 6, 7, 8, 4, 5, 2, 3, 4, 5, 7, 7, 7, 8, 1, 2, 3, 5, 6, 7, 8, 8, 1, 2, 3, 6, 8, 8, 1, 1, 6, 3, 2, 5, 8, 4, 1, 1, 2, 5, 1, 2, 4, 8, 2, 6, 7, 8, 2, 3, 8, 5, 3, 3, 4, 5, 7, 1, 2, 3, 4, 6, 7, 1, 2, 3, 5, 6, 7, 8, 2, 1, 2, 3, 4, 5, 6, 7, 8, 1, 3, 4, 5, 7, 1, 2, 4, 5, 6, 8, 1, 2, 3, 4, 1, 3, 4, 6, 7, 8, 7, 8, 2, 3, 6, 8, 1, 6, 3, 4, 2, 2, 2, 1, 5, 2, 3, 4, 6, 7, 8, 5, 1, 3, 4, 5, 6, 7, 8, 3, 1, 2, 5, 1, 2, 3, 4, 5, 6, 7, 8, 1, 7, 3, 4, 2, 3, 7, 8, 2, 5, 7, 1, 3, 5, 6, 1, 3, 5, 5, 2, 3, 4, 5, 6, 7, 2, 4, 8, 5, 6, 7, 8, 1, 3, 4, 5, 6, 8, 6, 3, 4, 7, 4, 5, 8, 3, 5, 7, 8, 6, 6, 3, 1, 2, 3, 4, 6, 7, 4, 4, 6, 7, 8, 2, 4, 3, 1, 3, 5, 6, 2, 1, 1, 2, 3, 4, 8, 1, 2, 3, 7, 8, 3, 5, 4, 3, 1, 2, 4, 2, 3, 4, 5, 7, 8, 2, 3, 6, 1, 2, 4, 8, 6, 6, 1, 3, 4, 5, 6, 7, 8, 1, 2, 3, 4, 5, 7, 8, 1, 3, 7, 8, 3, 4, 5, 5, 8, 5, 1, 6, 7, 8, 3, 4, 6, 7, 8, 4, 8, 2, 3, 3, 8, 1, 2, 5, 7, 8, 4, 4, 4, 4, 6, 4, 4, 5, 4, 3, 6, 5, 2, 4, 6, 7, 1, 1, 1, 2, 8, 3, 6, 2, 3, 7, 8, 7, 2, 8, 3, 7, 3, 4, 5, 1, 2, 3, 4, 5, 6, 7, 8, 1, 2, 3, 4, 5, 6, 7, 8, 5, 2, 4, 6, 5, 1, 3, 5, 6, 8, 5, 6, 2, 6, 1, 4, 7, 2, 3, 4, 5, 7, 8, 4, 5, 7, 3, 5, 7, 1, 6, 7, 1, 2, 3, 4, 5, 7, 8, 1, 5, 8, 6, 6, 2, 7, 8, 4, 2, 3, 5, 2, 1, 2, 3, 4, 5, 7, 1, 2, 7, 4, 7, 1, 7, 2, 3, 1, 3, 4, 6, 7, 8, 5, 1, 2, 4, 5, 6, 7, 8, 4, 7, 1, 2, 4, 5, 6, 8, 5, 8, 5, 8, 4, 7, 6, 6, 7, 8, 1, 2, 3, 5, 6, 7, 6, 3, 5, 7, 8, 7, 5, 3, 6, 7, 1, 5, 8, 7, 7, 1, 5, 3, 5, 5, 1, 2, 3, 4, 5, 6, 7, 8, 4, 6, 7, 8, 1, 3, 3, 3, 6, 2, 3, 6, 8, 6, 1, 3, 5, 5, 8, 1, 2, 3, 4, 5, 6, 7, 8, 3, 7, 4, 2, 4, 5, 7, 8, 1, 3, 7, 3, 2, 3, 6, 7, 7, 8, 1, 2, 4, 8, 1, 2, 3, 6, 4, 3, 6, 7, 2, 1, 5, 7, 4, 1, 7, 6, 1, 2, 3, 4, 5, 6, 8, 7, 1, 2, 3, 4, 5, 6, 7, 8, 8, 2, 1, 8, 1, 6, 8, 5, 7, 8, 1, 3, 4, 6, 7, 8, 1, 4, 7, 1, 6, 3, 2, 6, 2, 7, 6, 7, 8, 8, 1, 3, 4, 5, 6, 8, 2, 3, 6, 7, 1, 2, 3, 4, 5, 6, 7, 8, 7, 1, 2, 3, 4, 5, 6, 7, 8, 5, 8, 3, 1, 2, 3, 5, 8, 3, 5, 7, 1, 2, 3, 5, 8, 5, 5, 8, 1, 4, 7, 8, 8, 1, 2, 1, 4, 5, 6, 7, 8, 2, 3, 7, 2, 4, 5, 2, 6, 5, 1, 2, 3, 4, 5, 6, 7, 8, 2, 4, 5, 8, 2, 5, 8, 2, 2, 5, 8, 1, 2, 3, 4, 5, 6, 7, 8, 3, 5, 1, 3, 5, 6, 7, 8, 3, 2, 3, 5, 6, 7, 8, 7, 2, 3, 5, 6, 7, 1, 2, 3, 4, 5, 6, 7, 3, 7, 8, 2, 6, 6, 7, 8, 6, 3, 4, 5, 6, 7, 1, 3, 4, 6, 8, 1, 2, 3, 4, 5, 6, 7, 8, 1, 4, 6, 7, 1, 6, 7, 1, 4, 1, 2, 3, 4, 6, 7, 8, 8, 7, 2, 3, 5, 1, 2, 3, 4, 5, 6, 7, 8, 5], \"Freq\": [0.8725007039236207, 0.9751578795667853, 0.1306979496556551, 0.22218651441461368, 0.06534897482782755, 0.07841876979339306, 0.03920938489669653, 0.06534897482782755, 0.3920938489669653, 0.7774574322734464, 0.1110653474676352, 0.9159065348866475, 0.9707502106455504, 0.055360065422349815, 0.9411211121799469, 0.8709812860695456, 0.9001612958087899, 0.2104046757810811, 0.7574568328118919, 0.9380634004691871, 0.08467829749389719, 0.11290439665852958, 0.8185568757743396, 0.10653775175598822, 0.8789364519869028, 0.9211757982635754, 0.17425628272939017, 0.8131959860704875, 0.9372883242418804, 0.886234929833812, 0.7367573602070376, 0.14735147204140753, 0.03683786801035188, 0.03683786801035188, 0.9638893213649365, 0.09411939501341576, 0.15927897617654976, 0.07963948808827488, 0.11583925540112709, 0.07963948808827488, 0.3113179988905291, 0.07239953462570443, 0.09411939501341576, 0.9103644642208081, 0.07621474818555724, 0.8383622300411295, 0.07621474818555724, 0.39502196017117414, 0.5925329402567612, 0.9682284532077811, 0.9612207076068113, 0.9099047482254963, 0.8128415151203603, 0.8720765639749906, 0.06809717208926783, 0.5220783193510533, 0.022699057363089276, 0.04539811472617855, 0.0907962294523571, 0.22699057363089276, 0.022699057363089276, 0.7184690863862686, 0.0582542502475353, 0.1747627507426059, 0.0582542502475353, 0.33456653088577704, 0.6532013222055647, 0.17596303294253518, 0.048878620261815324, 0.4301318583039749, 0.10753296457599372, 0.048878620261815324, 0.048878620261815324, 0.13686013673308292, 0.062217557128236727, 0.7466106855388407, 0.18665267138471017, 0.9161665280154339, 0.854891865603569, 0.835953720543073, 0.12860826469893433, 0.9161426597762079, 0.9531067337729858, 0.9178294341895047, 0.9665460976396439, 0.7477551181415624, 0.939385309956857, 0.7456795903695714, 0.9487728649955739, 0.10172262961682563, 0.813781036934605, 0.986300719049281, 0.9199700683808176, 0.7276898955487752, 0.25988924841027683, 0.9920102554432709, 0.7081493452264352, 0.1818221291797604, 0.047847928731515894, 0.047847928731515894, 0.9972018414036355, 0.1551262640349266, 0.5872637138465079, 0.16620671146599278, 0.011080447431066186, 0.08864357944852949, 0.8324330924144875, 0.07591402584240929, 0.15182805168481858, 0.7591402584240928, 0.16258308341414865, 0.16258308341414865, 0.6503323336565946, 0.88816448586843, 0.7775109059990609, 0.11107298657129441, 0.09529638833150826, 0.16200386016356405, 0.6194265241548037, 0.11435566599780991, 0.027431380976337676, 0.1097255239053507, 0.6995002148966107, 0.15087259536985723, 0.27258949466793375, 0.6443024419423888, 0.04956172630326068, 0.04956172630326068, 0.0325989805821129, 0.15484515776503627, 0.37488827669429836, 0.0651979611642258, 0.3667385315487701, 0.9141198149322434, 0.06437253773671683, 0.9012155283140357, 0.109476905754316, 0.18246150959052668, 0.07298460383621067, 0.5473845287715801, 0.109476905754316, 0.06957475604050795, 0.44064012158988364, 0.06957475604050795, 0.1159579267341799, 0.2782990241620318, 0.08294860936478689, 0.6082898020084371, 0.08294860936478689, 0.08294860936478689, 0.05529907290985792, 0.08294860936478689, 0.130800043378377, 0.697600231351344, 0.087200028918918, 0.043600014459459, 0.9757640701414431, 0.9513683164154861, 0.855293672238156, 0.045015456433587155, 0.045015456433587155, 0.5354854629633911, 0.2031151756068035, 0.05539504789276459, 0.12925511174978405, 0.09232507982127432, 0.050777036449676294, 0.10155407289935259, 0.7108785102954681, 0.050777036449676294, 0.050777036449676294, 0.18803159313922704, 0.7521263725569082, 0.04700789828480676, 0.07501037788280703, 0.09001245345936844, 0.18002490691873688, 0.3300456626843509, 0.24003320922498247, 0.07501037788280703, 0.7350355916684996, 0.07000338968271425, 0.07000338968271425, 0.07000338968271425, 0.07000338968271425, 0.8761160247877866, 0.09580238734139745, 0.09580238734139745, 0.7664190987311796, 0.9643663691735304, 0.6876478223672878, 0.04167562559801744, 0.14586468959306106, 0.12502687679405233, 0.9436233602902977, 0.9103014694685081, 0.8314096572173587, 0.8314154829813426, 0.9826306629936861, 0.15444043183872425, 0.12870035986560355, 0.05148014394624142, 0.05148014394624142, 0.617761727354897, 0.933252441973753, 0.9318439853487888, 0.7843280246247394, 0.08256084469734098, 0.051600527935838116, 0.08256084469734098, 0.9160407548860211, 0.9684436124543021, 0.04555404964501884, 0.04555404964501884, 0.7288647943203015, 0.13666214893505652, 0.9334011560145529, 0.8314110055829571, 0.03990257979735979, 0.11970773939207938, 0.03990257979735979, 0.11970773939207938, 0.11970773939207938, 0.5187335373656773, 0.03990257979735979, 0.7456930589740982, 0.9141362490243746, 0.6986692667997343, 0.02911121944998893, 0.14555609724994464, 0.04366682917498339, 0.07277804862497232, 0.2252820251715346, 0.6758460755146037, 0.26900591230217974, 0.17485384299641685, 0.06725147807554493, 0.05380118246043595, 0.013450295615108987, 0.013450295615108987, 0.17485384299641685, 0.2152047298417438, 0.10553170091311731, 0.5804243550221452, 0.29900648592049905, 0.9793988946191229, 0.9767049670231281, 0.8145456114851135, 0.1357576019141856, 0.748192487873591, 0.26024086534733604, 0.747731655622191, 0.9932169628461913, 0.16195128890373833, 0.5300224000485981, 0.007361422222897197, 0.05889137778317757, 0.2208426666869159, 0.014722844445794393, 0.014722844445794393, 0.9587810904290344, 0.9691600857696869, 0.9160431903984223, 0.05275744881424457, 0.07913617322136686, 0.2110297952569783, 0.5275744881424457, 0.10551489762848915, 0.05317471360998865, 0.9039701313698071, 0.49931566766704255, 0.14794538301245705, 0.14794538301245705, 0.0554795186296714, 0.14794538301245705, 0.7477275876246143, 0.9662076271358843, 0.8290292805587136, 0.1690429221248916, 0.36978139214820044, 0.19017328739050307, 0.1690429221248916, 0.0422607305312229, 0.02113036526561145, 0.03169554789841718, 0.8715341843252968, 0.6444119826937068, 0.04157496662540044, 0.16629986650160175, 0.12472489987620132, 0.02078748331270022, 0.9787423107474795, 0.9593604222333271, 0.9734779352648866, 0.9540321622861215, 0.8127730082063795, 0.13294395615329885, 0.08862930410219923, 0.797663736919793, 0.9160655835148289, 0.932960476173012, 0.057736914826672404, 0.866053722400086, 0.08660537224000861, 0.21388609938474754, 0.03422177590155961, 0.11977621565545862, 0.6331028541788527, 0.03845287863512533, 0.7306046940673813, 0.03845287863512533, 0.15381151454050132, 0.16100337486134644, 0.06440134994453858, 0.772816199334463, 0.9635736081046088, 0.9478953461400627, 0.04539212192948072, 0.7262739508716916, 0.04539212192948072, 0.13617636578844217, 0.04694403128520142, 0.24097936059736727, 0.20029453348352605, 0.4475330982522535, 0.0594624396279218, 0.0031296020856800945, 0.015030701565509586, 0.19539912035162463, 0.13527631408958626, 0.07515350782754793, 0.09018420939305752, 0.25552192661366296, 0.19539912035162463, 0.9880478200095241, 0.20506102203751436, 0.08202440881500575, 0.041012204407502875, 0.12303661322250863, 0.28708543085252014, 0.10253051101875718, 0.05126525550937859, 0.09227745991688147, 0.3988414532983176, 0.05317886043977568, 0.05317886043977568, 0.10635772087955137, 0.37225202307842975, 0.06120726208318988, 0.09181089312478481, 0.09181089312478481, 0.03060363104159494, 0.6732798829150887, 0.06120726208318988, 0.10637597476958212, 0.19755538171493822, 0.30393135648452035, 0.37991419560565043, 0.10256242626490948, 0.04102497050596379, 0.04102497050596379, 0.4512746755656017, 0.020512485252981896, 0.3487122493006922, 0.07789083148689305, 0.8567991463558235, 0.9103345808760842, 0.08274757035939662, 0.16549514071879323, 0.7447281332345695, 0.15768671455733882, 0.8278552514260288, 0.8706843240155426, 0.9160535202537031, 0.9880225531665896, 0.937071773361671, 0.9438820938591854, 0.8990454144469262, 0.9784316930886777, 0.16610551488343078, 0.16610551488343078, 0.031144784040643272, 0.53984292337115, 0.07267116276150097, 0.020763189360428848, 0.9450905631913091, 0.16812530874477807, 0.5464072534205288, 0.1050783179654863, 0.06304699077929178, 0.02101566359309726, 0.08406265437238904, 0.04203132718619452, 0.9137786135204141, 0.8834171990338768, 0.06310122850241978, 0.95137345190406, 0.162386339918359, 0.31622603036733066, 0.051279896816323896, 0.06837319575509852, 0.09401314416326047, 0.04273324734693658, 0.10255979363264779, 0.17093298938774631, 0.3727935064124094, 0.596469610259855, 0.8706843240155426, 0.9160431903984223, 0.9703944055784995, 0.6269157741220752, 0.05015326192976602, 0.3009195715785961, 0.7300539174364886, 0.17382236129440207, 0.06952894451776083, 0.15203216360837465, 0.7601608180418732, 0.05067738786945821, 0.05067738786945821, 0.01739412185865259, 0.974070824084545, 0.961013637159764, 0.9408494498165311, 0.04616047293564281, 0.03692837834851425, 0.12924932421979987, 0.24926655385247118, 0.37851587807227105, 0.15694560798118556, 0.18565603924986632, 0.061885346416622106, 0.6807388105828431, 0.7839147370010864, 0.06816649886965968, 0.10224974830448952, 0.06816649886965968, 0.3485524789120621, 0.05228287183680932, 0.19170386340163417, 0.10456574367361864, 0.017427623945603106, 0.2788419831296497, 0.8761160231132742, 0.7324603380446281, 0.122076723007438, 0.061038361503719, 0.60066771516681, 0.31145733379019774, 0.06674085724075665, 0.17288031550926047, 0.20169370142747056, 0.5186409465277815, 0.08644015775463024, 0.8921060682450792, 0.8761160231132742, 0.947903824995612, 0.07754681808457435, 0.038773409042287175, 0.09693352260571794, 0.6009878401554513, 0.09693352260571794, 0.07754681808457435, 0.8724856347634456, 0.11691941097285638, 0.25722270414028403, 0.16368717536199895, 0.44429376169685425, 0.7110930160009657, 0.26665988100036214, 0.9138954809849039, 0.3180902709052657, 0.5907390745383506, 0.015147155757393607, 0.06058862302957443, 0.953094369106081, 0.9330198037703835, 0.7092740095705488, 0.028370960382821952, 0.14185480191410976, 0.014185480191410976, 0.09929836133987682, 0.5036824487201121, 0.27198852230886056, 0.12088378769282691, 0.03022094692320673, 0.07051554282081571, 0.8862743985097329, 0.9699756072268656, 0.8881770343719588, 0.8127720809099139, 0.11070533575001731, 0.11070533575001731, 0.7749373502501212, 0.03493421737165372, 0.628815912689767, 0.06986843474330744, 0.1746710868582686, 0.06986843474330744, 0.03493421737165372, 0.05327363012750026, 0.08878938354583378, 0.8523780820400042, 0.7350762221019962, 0.06682511110018148, 0.20047533330054443, 0.9944438348455882, 0.8176877748915639, 0.8761160247877866, 0.2009049649304557, 0.03090845614314703, 0.16999650878730865, 0.4018099298609114, 0.07727114035786757, 0.04636268421472055, 0.07727114035786757, 0.24185470459084663, 0.08061823486361554, 0.21498195963630812, 0.09853339816664122, 0.22393954128782095, 0.0716606532121027, 0.0716606532121027, 0.8551945525825566, 0.03167387231787247, 0.06334774463574494, 0.06334774463574494, 0.41623183407338243, 0.027748788938225494, 0.5549757787645099, 0.9784205864108414, 0.7456913024969426, 0.9571573503129813, 0.5109724852609173, 0.4731226715378864, 0.09586065631957832, 0.862745906876205, 0.07398428411516067, 0.14796856823032134, 0.12947249720153117, 0.20345678131669184, 0.443905704690964, 0.9159532871222131, 0.9650761193109378, 0.9817179026372189, 0.9897527573612811, 0.8211699033982846, 0.17471700072303925, 0.058151794769980066, 0.11630358953996013, 0.058151794769980066, 0.5039822213398272, 0.2519911106699136, 0.9393762517451897, 0.9393534079538342, 0.9769366067144215, 0.2598802278242435, 0.705389189808661, 0.8548918696432216, 0.7361952376073165, 0.2509756491843124, 0.9695798317229037, 0.08174603445296301, 0.899206378982593, 0.9571541693256832, 0.02501699396383377, 0.25016993963833767, 0.6754588370235117, 0.05003398792766754, 0.8574545136458179, 0.9219526780186408, 0.9905666474639844, 0.922788315446194, 0.04856780607611547, 0.1960009539918481, 0.7840038159673924, 0.9331829928465463, 0.8623970020895356, 0.04791094456052976, 0.07186641684079463, 0.9361774853844476, 0.9029994843994702, 0.10419224819993887, 0.9644403022840159, 0.8913038402375617, 0.6814744468282634, 0.14346830459542387, 0.17933538074427985, 0.09227990352075609, 0.13182843360108012, 0.2504740238420522, 0.06591421680054006, 0.06591421680054006, 0.09227990352075609, 0.09227990352075609, 0.2109254937617282, 0.1528132209321611, 0.08228404204039444, 0.023509726297255555, 0.24685212612118332, 0.09991633676333611, 0.23509726297255554, 0.07640661046608055, 0.08228404204039444, 0.9451281355919782, 0.3120782688846588, 0.17639206502176366, 0.502038954292712, 0.8562929875244443, 0.2890829534091272, 0.15658659976327724, 0.09636098446970907, 0.45771467623111806, 0.012045123058713634, 0.85637910074174, 0.8177183628709264, 0.9838837271952199, 0.8761655246499112, 0.8366635512310031, 0.10458294390387539, 0.052291471951937694, 0.1974619793407574, 0.04936549483518935, 0.12341373708797337, 0.12341373708797337, 0.3702412112639201, 0.14809648450556806, 0.8724693721192316, 0.16903328960070133, 0.8240372868034189, 0.1554270234486338, 0.0777135117243169, 0.6994216055188521, 0.8902702493145797, 0.041407918572771145, 0.041407918572771145, 0.3603002244811621, 0.08407005237893782, 0.07206004489623241, 0.33628020951575127, 0.08407005237893782, 0.012010007482705403, 0.04804002993082161, 0.9503897687671892, 0.04132129429422562, 0.9880877135505468, 0.8921060670305524, 0.9346481810206737, 0.9370717527505197, 0.7493374063468429, 0.12488956772447381, 0.8724705936035253, 0.9707325026641836, 0.9316740129457743, 0.9513795995008385, 0.8824220868685712, 0.3667927786420223, 0.02245670073318504, 0.17965360586548032, 0.17965360586548032, 0.2170814404207887, 0.0374278345553084, 0.9318448420937919, 0.06656034586384228, 0.8324638894629462, 0.976794702448083, 0.8324762830417329, 0.9725142231865804, 0.8324331182589273, 0.8799849188661885, 0.09513350474229065, 0.10582968466606511, 0.21165936933213023, 0.07055312311071008, 0.07055312311071008, 0.4585953002196155, 0.10582968466606511, 0.965562405974835, 0.32462707575877076, 0.05680973825778488, 0.32462707575877076, 0.09738812272763123, 0.032462707575877076, 0.11361947651556976, 0.040578384469846344, 0.8882451038586101, 0.964930926183804, 0.1357388859332641, 0.045246295311088036, 0.4750861007664244, 0.06786944296663205, 0.09049259062217607, 0.1357388859332641, 0.9513941880316018, 0.8290391833387444, 0.9571573220024366, 0.7456795903695714, 0.9160950548510174, 0.9588593285940057, 0.9540321638735427, 0.9540931326068408, 0.8333086927735346, 0.1190440989676478, 0.3184481118699796, 0.06823888111499564, 0.06823888111499564, 0.022746293704998546, 0.022746293704998546, 0.500418461509968, 0.9873753430745738, 0.05469975594794818, 0.6290471934014041, 0.16409926784384454, 0.13674938986987045, 0.9165449072481808, 0.9318358411238712, 0.1114549381874647, 0.7801845673122528, 0.8314110055829571, 0.20343576060535296, 0.6611662219673972, 0.1271473503783456, 0.9826306631142746, 0.9362295489356054, 0.758579792582213, 0.23542131493930749, 0.8979981777110742, 0.06414272697936244, 0.9173076493495101, 0.08646889331038202, 0.19023156528284044, 0.05188133598622921, 0.10376267197245842, 0.03458755732415281, 0.19023156528284044, 0.06917511464830561, 0.27670045859322245, 0.9815212943402651, 0.5426058550611156, 0.030144769725617533, 0.4220267761586455, 0.95859390834471, 0.8127612074245865, 0.9481132118884746, 0.12258819188077982, 0.8581173431654587, 0.9766987444614207, 0.8129193415966928, 0.1016149176995866, 0.7457301721563852, 0.9751103960542838, 0.9811304847678554, 0.13583252904618306, 0.8602726839591593, 0.8868848428242695, 0.08446522312612091, 0.1382901361593628, 0.3897267473582043, 0.0502873222397683, 0.06285915279971037, 0.12571830559942074, 0.07543098335965244, 0.11314647503947867, 0.0502873222397683, 0.8954920644040382, 0.0814083694912762, 0.9846648452068228, 0.1702535737534227, 0.12769018031506701, 0.12769018031506701, 0.042563393438355676, 0.5107607212602681, 0.8627655006438749, 0.07502308701251086, 0.03751154350625543, 0.8706987022672555, 0.06853947728219982, 0.17134869320549956, 0.37696712505209906, 0.37696712505209906, 0.6728596332143212, 0.3204093491496768, 0.06381246812833616, 0.8933745537967063, 0.03190623406416808, 0.03190623406416808, 0.7687511916324176, 0.03342396485358337, 0.03342396485358337, 0.16711982426791686, 0.9160561909997579, 0.7643220660457605, 0.07643220660457604, 0.11464830990686407, 0.9274788936314879, 0.9219526769856492, 0.24875418288018883, 0.7255330334005508, 0.9158268917404797, 0.8813857434208054, 0.08012597667461868, 0.9199400455079764, 0.25937997454791895, 0.08190946564671124, 0.32763786258684496, 0.06825788803892603, 0.08190946564671124, 0.13651577607785206, 0.04095473282335562, 0.8314403430191848, 0.1734722621955686, 0.1734722621955686, 0.10043130969217129, 0.0730409525033973, 0.1460819050067946, 0.05478071437754798, 0.10956142875509596, 0.1734722621955686, 0.8290363274459738, 0.983063125164013, 0.9161440012998742, 0.9616926502553581, 0.8715537252852621, 0.08788777061700122, 0.03661990442375051, 0.08300994627512205, 0.1660198925502441, 0.7470895164760984, 0.05205619934542686, 0.15616859803628058, 0.6246743921451223, 0.05205619934542686, 0.10411239869085372, 0.02602809967271343, 0.6630898980915295, 0.23681782074697486, 0.09472712829878993, 0.8990625463481304, 0.9882060562017116, 0.96184272417093, 0.8406865948484996, 0.14011443247474994, 0.8824220848831987, 0.9378860388400999, 0.0830060804867424, 0.1660121609734848, 0.7470547243806817, 0.9787590621009166, 0.030510381400083716, 0.5796972466015906, 0.24408305120066973, 0.030510381400083716, 0.06102076280016743, 0.06102076280016743, 0.2111296146801589, 0.08797067278339954, 0.35188269113359816, 0.35188269113359816, 0.10479672297457895, 0.2395353667990376, 0.0598838416997594, 0.1197676833995188, 0.01497096042493985, 0.07485480212469926, 0.2545063272239775, 0.1197676833995188, 0.7477526487180451, 0.1561567202346173, 0.1561567202346173, 0.3903918005865432, 0.07807836011730865, 0.031231344046923456, 0.07807836011730865, 0.031231344046923456, 0.07807836011730865, 0.06551899458793226, 0.9172659242310516, 0.914116361936185, 0.10157210663085431, 0.10157210663085431, 0.5755752709081744, 0.13542947550780574, 0.10157210663085431, 0.8128994556594638, 0.875920747679163, 0.10511048972149956, 0.2108383443609524, 0.07333507629946169, 0.009166884537432711, 0.5958474949331263, 0.11000261444919254, 0.8895717667158478, 0.9180654704313546, 0.05100363724618637, 0.9643641946806379, 0.8158908938916469, 0.10198636173645587, 0.8893153109993855, 0.7456913027087253, 0.9841871242439943, 0.927481174718131, 0.2282903268176334, 0.2790215105548853, 0.3424354902264501, 0.10146236747450374, 0.012682795934312967, 0.025365591868625935, 0.15599231765328916, 0.7019654294398012, 0.12999359804440763, 0.9920313509855041, 0.8882048783626066, 0.11102560979532583, 0.9103135836319394, 0.9540517324848797, 0.9514344245926367, 0.08668466716287886, 0.266722052808858, 0.16670128300553627, 0.14002907772465045, 0.12669297508420757, 0.08668466716287886, 0.046676359241550155, 0.08001661584265742, 0.17844893892288158, 0.5353468167686447, 0.12746352780205827, 0.1529562333624699, 0.11108881292565403, 0.851680899096681, 0.8886362952122313, 0.9616745061949653, 0.8120144960876875, 0.03383393733698698, 0.13533574934794793, 0.06814264940871911, 0.2531012692323853, 0.14115263091806102, 0.06327531730809632, 0.10221397411307867, 0.029203992603736764, 0.12168330251556984, 0.2190299445280257, 0.8127681137271838, 0.9878540501436451, 0.4883307659547836, 0.16277692198492785, 0.029595803997259612, 0.19237272598218746, 0.029595803997259612, 0.10358531399040864, 0.8127612090808628, 0.1447830459719454, 0.25337033045090446, 0.018097880746493177, 0.25337033045090446, 0.2895660919438908, 0.03619576149298635, 0.8317960245593174, 0.10857089282762068, 0.10857089282762068, 0.10857089282762068, 0.6204051018721182, 0.04653038264040886, 0.04828950286424232, 0.04828950286424232, 0.03219300190949488, 0.4346055257781809, 0.3058335181402014, 0.01609650095474744, 0.11267550668323209, 0.704636415860726, 0.10439058012751497, 0.15658587019127246, 0.9370717150370714, 0.8761160264622988, 0.7991872445148854, 0.17279724205727254, 0.7456778480235363, 0.9199436544732722, 0.04412830735935172, 0.4081868430740034, 0.02206415367967586, 0.4854113809528689, 0.03309623051951379, 0.959428054667248, 0.20392446581757265, 0.5098111645439316, 0.20392446581757265, 0.07647167468158975, 0.017090821979784995, 0.11963575385849497, 0.18799904177763496, 0.03418164395956999, 0.17090821979784995, 0.08545410989892498, 0.2563623296967749, 0.11963575385849497, 0.7949187624574029, 0.11355982320820042, 0.045423929283280165, 0.045423929283280165, 0.6748065826856409, 0.16288434754480985, 0.13961515503840846, 0.9586188075489699, 0.8881716507476061, 0.1697955418629053, 0.2297233801674601, 0.2996391915227741, 0.04993986525379567, 0.09987973050759134, 0.11985567660910962, 0.01997594610151827, 0.9696350577326577, 0.8314311818931168, 0.05555396868701386, 0.11110793737402772, 0.8333095303052079, 0.10968099530982416, 0.12875595101588053, 0.05245612819165504, 0.14306216779542283, 0.1573683845749651, 0.15259964564845102, 0.15259964564845102, 0.10491225638331007, 0.9655624081912743], \"Term\": [\"aba\", \"abc\", \"accident\", \"accident\", \"accident\", \"accident\", \"accident\", \"accident\", \"accident\", \"account\", \"account\", \"acre\", \"activates\", \"affected\", \"affected\", \"afghan\", \"aim\", \"aircraft\", \"aircraft\", \"airline\", \"airplane\", \"airplane\", \"airplane\", \"airport\", \"airport\", \"alabama\", \"alarm\", \"alarm\", \"allows\", \"alp\", \"ambulance\", \"ambulance\", \"ambulance\", \"ambulance\", \"amid\", \"amp\", \"amp\", \"amp\", \"amp\", \"amp\", \"amp\", \"amp\", \"amp\", \"anchorage\", \"annihilation\", \"annihilation\", \"annihilation\", \"anniversary\", \"anniversary\", \"anthrax\", \"antioch\", \"apc\", \"apollo\", \"arabia\", \"area\", \"area\", \"area\", \"area\", \"area\", \"area\", \"area\", \"army\", \"army\", \"army\", \"army\", \"atomic\", \"atomic\", \"attack\", \"attack\", \"attack\", \"attack\", \"attack\", \"attack\", \"attack\", \"attacked\", \"attacked\", \"attacked\", \"ave\", \"avoiding\", \"baby\", \"baby\", \"bag\", \"bayelsa\", \"begin\", \"bestnaijamade\", \"bethlehem\", \"bicyclist\", \"bigamist\", \"bigger\", \"bin\", \"bin\", \"bioterror\", \"blk\", \"boat\", \"boat\", \"body\", \"bomb\", \"bomb\", \"bomb\", \"bomb\", \"bomber\", \"bombing\", \"bombing\", \"bombing\", \"bombing\", \"bombing\", \"boston\", \"boy\", \"boy\", \"boy\", \"breaking\", \"breaking\", \"breaking\", \"broadway\", \"brown\", \"brown\", \"building\", \"building\", \"building\", \"building\", \"burning\", \"burning\", \"burning\", \"burning\", \"bus\", \"bus\", \"bus\", \"bus\", \"california\", \"california\", \"california\", \"california\", \"california\", \"calling\", \"cameroon\", \"cameroon\", \"case\", \"case\", \"case\", \"case\", \"case\", \"casualty\", \"casualty\", \"casualty\", \"casualty\", \"casualty\", \"caused\", \"caused\", \"caused\", \"caused\", \"caused\", \"caused\", \"change\", \"change\", \"change\", \"change\", \"charged\", \"chile\", \"christian\", \"christian\", \"christian\", \"city\", \"city\", \"city\", \"city\", \"city\", \"civilian\", \"civilian\", \"civilian\", \"civilian\", \"civilian\", \"coach\", \"coach\", \"coach\", \"collapse\", \"collapse\", \"collapse\", \"collapse\", \"collapse\", \"collapse\", \"collision\", \"collision\", \"collision\", \"collision\", \"collision\", \"colluded\", \"colorado\", \"colorado\", \"colorado\", \"conclusively\", \"confirmed\", \"confirmed\", \"confirmed\", \"confirmed\", \"confirms\", \"copilot\", \"copycat\", \"correction\", \"costlier\", \"county\", \"county\", \"county\", \"county\", \"county\", \"court\", \"crane\", \"crash\", \"crash\", \"crash\", \"crash\", \"cree\", \"crematorium\", \"crisis\", \"crisis\", \"crisis\", \"crisis\", \"croatian\", \"crossborder\", \"cyclone\", \"cyclone\", \"cyclone\", \"cyclone\", \"cyclone\", \"cyclone\", \"cyclone\", \"dallas\", \"data\", \"dead\", \"dead\", \"dead\", \"dead\", \"dead\", \"deadly\", \"deadly\", \"death\", \"death\", \"death\", \"death\", \"death\", \"death\", \"death\", \"death\", \"debris\", \"debris\", \"debris\", \"declaration\", \"declares\", \"denver\", \"denver\", \"derailed\", \"derailed\", \"desire\", \"detonated\", \"disaster\", \"disaster\", \"disaster\", \"disaster\", \"disaster\", \"disaster\", \"disaster\", \"disea\", \"disease\", \"drawn\", \"drought\", \"drought\", \"drought\", \"drought\", \"drought\", \"drowned\", \"drowned\", \"earthquake\", \"earthquake\", \"earthquake\", \"earthquake\", \"earthquake\", \"ebike\", \"ebola\", \"edinburgh\", \"emergency\", \"emergency\", \"emergency\", \"emergency\", \"emergency\", \"emergency\", \"emergency\", \"eruption\", \"evacuation\", \"evacuation\", \"evacuation\", \"evacuation\", \"evacuation\", \"examining\", \"exchange\", \"exchanging\", \"executive\", \"experiment\", \"expert\", \"expert\", \"expert\", \"exploration\", \"faan\", \"failure\", \"failure\", \"failure\", \"family\", \"family\", \"family\", \"family\", \"famine\", \"famine\", \"famine\", \"famine\", \"fatal\", \"fatal\", \"fatal\", \"fedex\", \"felt\", \"fight\", \"fight\", \"fight\", \"fight\", \"fire\", \"fire\", \"fire\", \"fire\", \"fire\", \"fire\", \"first\", \"first\", \"first\", \"first\", \"first\", \"first\", \"first\", \"flag\", \"flood\", \"flood\", \"flood\", \"flood\", \"flood\", \"flood\", \"flood\", \"flood\", \"flooding\", \"flooding\", \"flooding\", \"flooding\", \"flooding\", \"food\", \"food\", \"food\", \"food\", \"food\", \"food\", \"forest\", \"forest\", \"forest\", \"forest\", \"found\", \"found\", \"found\", \"found\", \"found\", \"found\", \"france\", \"france\", \"freakiest\", \"french\", \"french\", \"french\", \"fukushima\", \"fukushima\", \"funtenna\", \"gabon\", \"galactic\", \"geller\", \"gem\", \"georgia\", \"germ\", \"get\", \"get\", \"get\", \"get\", \"get\", \"get\", \"giant\", \"going\", \"going\", \"going\", \"going\", \"going\", \"going\", \"going\", \"governor\", \"green\", \"green\", \"grief\", \"ha\", \"ha\", \"ha\", \"ha\", \"ha\", \"ha\", \"ha\", \"ha\", \"hailstorm\", \"hailstorm\", \"hat\", \"haunting\", \"hawaii\", \"heat\", \"heat\", \"heat\", \"helicopter\", \"helicopter\", \"helicopter\", \"hijacker\", \"hijacker\", \"hijacker\", \"hijacker\", \"hiroshima\", \"hiroshima\", \"holding\", \"hollywood\", \"home\", \"home\", \"home\", \"home\", \"home\", \"home\", \"horrible\", \"horrible\", \"horrible\", \"horror\", \"horror\", \"horror\", \"horror\", \"hostage\", \"hostage\", \"hostage\", \"hostage\", \"hostage\", \"hostage\", \"hostageamp\", \"huge\", \"huge\", \"huge\", \"hundred\", \"hundred\", \"hundred\", \"hurricane\", \"hurricane\", \"hurricane\", \"hurricane\", \"hwo\", \"idis\", \"ignition\", \"injured\", \"injured\", \"injured\", \"injured\", \"injured\", \"injured\", \"intensity\", \"island\", \"island\", \"island\", \"island\", \"israeli\", \"israeli\", \"italian\", \"japan\", \"japan\", \"japan\", \"japan\", \"jonathan\", \"kaduna\", \"kill\", \"kill\", \"kill\", \"kill\", \"kill\", \"killed\", \"killed\", \"killed\", \"killed\", \"killed\", \"knock\", \"lab\", \"laden\", \"landfall\", \"landing\", \"landing\", \"landing\", \"landslide\", \"landslide\", \"landslide\", \"landslide\", \"landslide\", \"landslide\", \"latest\", \"latest\", \"latest\", \"least\", \"least\", \"least\", \"legionnaire\", \"leveled\", \"lglorg\", \"life\", \"life\", \"life\", \"life\", \"life\", \"life\", \"life\", \"like\", \"like\", \"like\", \"like\", \"like\", \"like\", \"like\", \"line\", \"line\", \"line\", \"line\", \"live\", \"live\", \"live\", \"longer\", \"longest\", \"madhya\", \"malaysia\", \"malaysia\", \"malaysian\", \"malaysian\", \"man\", \"man\", \"man\", \"man\", \"man\", \"manchester\", \"manslaughter\", \"marians\", \"mark\", \"mass\", \"mass\", \"may\", \"may\", \"may\", \"may\", \"may\", \"med\", \"mediterran\", \"mediterranean\", \"memory\", \"memory\", \"microlight\", \"migrant\", \"migrant\", \"militant\", \"minute\", \"minute\", \"mishap\", \"missing\", \"missing\", \"missing\", \"missing\", \"mma\", \"modified\", \"mosque\", \"mount\", \"mount\", \"mph\", \"mph\", \"municipal\", \"murder\", \"murder\", \"murder\", \"murderous\", \"muslim\", \"muslim\", \"nagasaki\", \"nashville\", \"national\", \"national\", \"national\", \"new\", \"new\", \"new\", \"new\", \"new\", \"new\", \"new\", \"new\", \"news\", \"news\", \"news\", \"news\", \"news\", \"news\", \"news\", \"news\", \"nigerian\", \"northern\", \"northern\", \"northern\", \"notice\", \"nuclear\", \"nuclear\", \"nuclear\", \"nuclear\", \"nuclear\", \"nyt\", \"oak\", \"obama\", \"offensive\", \"officer\", \"officer\", \"officer\", \"official\", \"official\", \"official\", \"official\", \"official\", \"official\", \"offroad\", \"oil\", \"oil\", \"oklahoma\", \"oklahoma\", \"oklahoma\", \"old\", \"old\", \"old\", \"one\", \"one\", \"one\", \"one\", \"one\", \"one\", \"one\", \"order\", \"order\", \"outbreak\", \"outlook\", \"outrage\", \"pamela\", \"parent\", \"parent\", \"parker\", \"parley\", \"parole\", \"pathogen\", \"pdp\", \"people\", \"people\", \"people\", \"people\", \"people\", \"people\", \"pic\", \"pic\", \"pickens\", \"picking\", \"pipeline\", \"pkk\", \"plain\", \"plan\", \"plan\", \"please\", \"please\", \"please\", \"please\", \"please\", \"please\", \"plunging\", \"police\", \"police\", \"police\", \"police\", \"police\", \"police\", \"police\", \"portland\", \"possible\", \"post\", \"post\", \"post\", \"post\", \"post\", \"post\", \"powerlines\", \"prabhu\", \"pradesh\", \"pregnant\", \"price\", \"projected\", \"prosecuted\", \"provoke\", \"quarantined\", \"quarantined\", \"rain\", \"rain\", \"rain\", \"rain\", \"rain\", \"rain\", \"razed\", \"really\", \"really\", \"really\", \"really\", \"record\", \"recount\", \"reddit\", \"reddit\", \"redhanded\", \"refugee\", \"refugee\", \"refugee\", \"refugio\", \"relative\", \"released\", \"released\", \"remember\", \"remember\", \"repatriated\", \"report\", \"report\", \"report\", \"report\", \"report\", \"report\", \"report\", \"report\", \"rescuer\", \"reunion\", \"reunion\", \"reunion\", \"richmond\", \"robot\", \"rome\", \"russian\", \"russian\", \"saipan\", \"salt\", \"salt\", \"sanction\", \"sandstorm\", \"saudi\", \"saved\", \"saved\", \"saw\", \"saw\", \"say\", \"say\", \"say\", \"say\", \"say\", \"say\", \"say\", \"say\", \"school\", \"school\", \"searching\", \"second\", \"second\", \"second\", \"second\", \"second\", \"security\", \"security\", \"security\", \"sensorsenso\", \"severe\", \"severe\", \"severe\", \"severe\", \"shooting\", \"shooting\", \"sign\", \"sign\", \"sign\", \"sign\", \"site\", \"site\", \"site\", \"site\", \"somalia\", \"soudelor\", \"soudelor\", \"soudelor\", \"spaceship\", \"specially\", \"spill\", \"spill\", \"spos\", \"stadium\", \"stadium\", \"statement\", \"still\", \"still\", \"still\", \"still\", \"still\", \"still\", \"still\", \"stockton\", \"storm\", \"storm\", \"storm\", \"storm\", \"storm\", \"storm\", \"storm\", \"storm\", \"streak\", \"structural\", \"struggle\", \"sue\", \"suicide\", \"suicide\", \"suicide\", \"survive\", \"survive\", \"survive\", \"survivor\", \"survivor\", \"survivor\", \"survivor\", \"survivor\", \"survivor\", \"suspect\", \"suspect\", \"suspect\", \"swallow\", \"swallowed\", \"taiwan\", \"temple\", \"temple\", \"tension\", \"theater\", \"thought\", \"thought\", \"thought\", \"threatens\", \"three\", \"three\", \"three\", \"three\", \"three\", \"three\", \"thunderstorm\", \"thunderstorm\", \"thunderstorm\", \"thunderstorm\", \"time\", \"time\", \"time\", \"time\", \"time\", \"time\", \"time\", \"time\", \"tire\", \"today\", \"today\", \"today\", \"today\", \"today\", \"today\", \"today\", \"today\", \"toddler\", \"toddler\", \"tonto\", \"tornado\", \"tornado\", \"tornado\", \"tornado\", \"tornado\", \"tracking\", \"tragedy\", \"tragedy\", \"train\", \"train\", \"train\", \"train\", \"train\", \"tram\", \"transport\", \"transport\", \"trench\", \"trent\", \"trent\", \"triggered\", \"tripledigit\", \"turkey\", \"twelve\", \"two\", \"two\", \"two\", \"two\", \"two\", \"two\", \"typhoon\", \"typhoon\", \"typhoon\", \"typhoondevastated\", \"udhampur\", \"udhampur\", \"unlocked\", \"usagov\", \"usatoday\", \"via\", \"via\", \"via\", \"via\", \"via\", \"via\", \"via\", \"via\", \"video\", \"video\", \"video\", \"video\", \"village\", \"village\", \"viralspell\", \"virgin\", \"volcano\", \"volcano\", \"volcano\", \"wa\", \"wa\", \"wa\", \"wa\", \"wa\", \"wa\", \"wa\", \"wa\", \"waimate\", \"wake\", \"war\", \"war\", \"war\", \"war\", \"war\", \"war\", \"warfighting\", \"warning\", \"warning\", \"warning\", \"warning\", \"warning\", \"warning\", \"washed\", \"watch\", \"watch\", \"watch\", \"watch\", \"watch\", \"water\", \"water\", \"water\", \"water\", \"water\", \"water\", \"water\", \"wave\", \"wave\", \"wave\", \"waving\", \"wbioterrorismampuse\", \"weather\", \"weather\", \"wedn\", \"wht\", \"wildfire\", \"wildfire\", \"wildfire\", \"wildfire\", \"wildfire\", \"wmata\", \"woman\", \"woman\", \"woman\", \"woman\", \"would\", \"would\", \"would\", \"would\", \"would\", \"would\", \"would\", \"would\", \"wounded\", \"wounded\", \"wounded\", \"wounded\", \"wreckage\", \"wreckage\", \"wreckage\", \"wrought\", \"yazidis\", \"year\", \"year\", \"year\", \"year\", \"year\", \"year\", \"year\", \"yearold\", \"yobe\", \"youth\", \"youth\", \"youth\", \"\\u00fb\", \"\\u00fb\", \"\\u00fb\", \"\\u00fb\", \"\\u00fb\", \"\\u00fb\", \"\\u00fb\", \"\\u00fb\", \"\\u00fb\\u00efwhen\"]}, \"R\": 30, \"lambda.step\": 0.01, \"plot.opts\": {\"xlab\": \"PC1\", \"ylab\": \"PC2\"}, \"topic.order\": [8, 3, 2, 4, 5, 1, 6, 7]};\n",
       "\n",
       "function LDAvis_load_lib(url, callback){\n",
       "  var s = document.createElement('script');\n",
       "  s.src = url;\n",
       "  s.async = true;\n",
       "  s.onreadystatechange = s.onload = callback;\n",
       "  s.onerror = function(){console.warn(\"failed to load library \" + url);};\n",
       "  document.getElementsByTagName(\"head\")[0].appendChild(s);\n",
       "}\n",
       "\n",
       "if(typeof(LDAvis) !== \"undefined\"){\n",
       "   // already loaded: just create the visualization\n",
       "   !function(LDAvis){\n",
       "       new LDAvis(\"#\" + \"ldavis_el225771403273850213448493948259\", ldavis_el225771403273850213448493948259_data);\n",
       "   }(LDAvis);\n",
       "}else if(typeof define === \"function\" && define.amd){\n",
       "   // require.js is available: use it to load d3/LDAvis\n",
       "   require.config({paths: {d3: \"https://d3js.org/d3.v5\"}});\n",
       "   require([\"d3\"], function(d3){\n",
       "      window.d3 = d3;\n",
       "      LDAvis_load_lib(\"https://cdn.jsdelivr.net/gh/bmabey/pyLDAvis@3.3.1/pyLDAvis/js/ldavis.v3.0.0.js\", function(){\n",
       "        new LDAvis(\"#\" + \"ldavis_el225771403273850213448493948259\", ldavis_el225771403273850213448493948259_data);\n",
       "      });\n",
       "    });\n",
       "}else{\n",
       "    // require.js not available: dynamically load d3 & LDAvis\n",
       "    LDAvis_load_lib(\"https://d3js.org/d3.v5.js\", function(){\n",
       "         LDAvis_load_lib(\"https://cdn.jsdelivr.net/gh/bmabey/pyLDAvis@3.3.1/pyLDAvis/js/ldavis.v3.0.0.js\", function(){\n",
       "                 new LDAvis(\"#\" + \"ldavis_el225771403273850213448493948259\", ldavis_el225771403273850213448493948259_data);\n",
       "            })\n",
       "         });\n",
       "}\n",
       "</script>"
      ],
      "text/plain": [
       "<IPython.core.display.HTML object>"
      ]
     },
     "execution_count": 52,
     "metadata": {},
     "output_type": "execute_result"
    }
   ],
   "source": [
    "#Plotting the topics\n",
    "import pyLDAvis\n",
    "import pyLDAvis.gensim_models\n",
    "import gensim\n",
    "\n",
    "vis = pyLDAvis.gensim_models.prepare(model_2, document_term_matrix, dictionary)\n",
    "pyLDAvis.enable_notebook()\n",
    "pyLDAvis.display(vis)"
   ]
  },
  {
   "cell_type": "markdown",
   "metadata": {},
   "source": [
    "### Top2Vec"
   ]
  },
  {
   "cell_type": "markdown",
   "metadata": {},
   "source": [
    "The second topic modelling technique we employed isTop2Vec. This technique performs topic modelling using embedded vectors, dimensionality reduction and clustering to derive the topics in a dataset and does not assume that the number of topics is known in advance (Figure 5). In contrast to LDA, Top2Vec requires a list of strings as input after which it can perform the steps described below. "
   ]
  },
  {
   "cell_type": "code",
   "execution_count": 6,
   "metadata": {},
   "outputs": [
    {
     "name": "stderr",
     "output_type": "stream",
     "text": [
      "/opt/anaconda3/lib/python3.8/site-packages/ipykernel/ipkernel.py:287: DeprecationWarning: `should_run_async` will not call `transform_cell` automatically in the future. Please pass the result to `transformed_cell` argument and any exception that happen during thetransform in `preprocessing_exc_tuple` in IPython 7.17 and above.\n",
      "  and should_run_async(code)\n"
     ]
    },
    {
     "data": {
      "text/plain": [
       "4673"
      ]
     },
     "execution_count": 6,
     "metadata": {},
     "output_type": "execute_result"
    }
   ],
   "source": [
    "# Pip install and import the needed models\n",
    "\n",
    "!pip install top2vec\n",
    "!pip install torch sentence_transformers\n",
    "!pip install -U sentence-transformers\n",
    "from top2vec import Top2Vec\n",
    "from sentence_transformers import SentenceTransformer\n",
    "\n",
    "data_top2vec = list(data_emergencies.loc[:, \"Stopwords removed\"].values)\n",
    "\n",
    "list_top2vec = [' '.join(ele) for ele in data_top2vec]\n",
    "\n",
    "len(list_top2vec)"
   ]
  },
  {
   "cell_type": "markdown",
   "metadata": {},
   "source": [
    "Step 1: Embedding\n",
    "There are many different methods available to perform embedding in the Top2Vec model. For this Top2Vec model the BERT sentence transformer with distilbert was utilized. This combination was chosen as it extracts different embeddings based on the context of the words and it gives a good balance between speed and performance (Grootendorst, 2020). \n"
   ]
  },
  {
   "cell_type": "code",
   "execution_count": 7,
   "metadata": {},
   "outputs": [
    {
     "name": "stderr",
     "output_type": "stream",
     "text": [
      "/opt/anaconda3/lib/python3.8/site-packages/ipykernel/ipkernel.py:287: DeprecationWarning: `should_run_async` will not call `transform_cell` automatically in the future. Please pass the result to `transformed_cell` argument and any exception that happen during thetransform in `preprocessing_exc_tuple` in IPython 7.17 and above.\n",
      "  and should_run_async(code)\n",
      "Batches: 100%|██████████| 147/147 [01:31<00:00,  1.60it/s]\n"
     ]
    }
   ],
   "source": [
    "# This cell is specifically for the embedding\n",
    "# We use BERT for this purpose as it extracts different embeddings based on the context of the word. (there are many other options, too many to try all)\n",
    "# We are using Distilbert as it gives a nice balance between speed and performance.\n",
    "\n",
    "#!pip install sentence-transformers\n",
    "from sentence_transformers import SentenceTransformer\n",
    "model_test = SentenceTransformer('distilbert-base-nli-mean-tokens')\n",
    "embeddings = model_test.encode(list_top2vec, show_progress_bar=True)"
   ]
  },
  {
   "cell_type": "markdown",
   "metadata": {},
   "source": [
    "Step 2: Dimensionality reduction\n",
    "For clustering to work, the dimensionality of the embeddings needs to be lowered. This Top2Vec model uses UMAP to reduce the dimensionality as this technique has shown to keep a significant portion of the high-dimensional local structure in the lower dimension (Grootendorst, 2020). The optimal values of UMAP’s most important parameters n_neighbours (number of neighbours) and n_components (dimensionality) are found by visualization of the data after the embedding. The optimal values of 15 and 2 for the respective topics result in the clustering results shown a few cells. \n"
   ]
  },
  {
   "cell_type": "code",
   "execution_count": 13,
   "metadata": {},
   "outputs": [
    {
     "name": "stderr",
     "output_type": "stream",
     "text": [
      "/opt/anaconda3/lib/python3.8/site-packages/ipykernel/ipkernel.py:287: DeprecationWarning: `should_run_async` will not call `transform_cell` automatically in the future. Please pass the result to `transformed_cell` argument and any exception that happen during thetransform in `preprocessing_exc_tuple` in IPython 7.17 and above.\n",
      "  and should_run_async(code)\n"
     ]
    }
   ],
   "source": [
    "# Dimensionality reduction: UMAP\n",
    "# We want to make sure that documents with similar topics are clustered together such that we can find the topics within these clusters. \n",
    "# Before doing so, we first need to lower the dimensionality of the embeddings as many clustering algorithms handle high dimensionality poorly.\n",
    "\n",
    "!pip install umap-learn\n",
    "\n",
    "import umap\n",
    "umap_embeddings = umap.UMAP(n_neighbors=15, \n",
    "                            n_components=2, \n",
    "                            metric='cosine').fit_transform(embeddings)\n"
   ]
  },
  {
   "cell_type": "markdown",
   "metadata": {},
   "source": [
    "Step 3: Clustering\n",
    "The chosen clustering method in this Top2Vec model is HDBSCAN as this has been shown together to work well together with UMAP (Grootendorst, 2020). Additionally, HDBSCAN does not force data points into clusters when they do not fit in one, but rather classifies it as an outlier. The optimal value of HDBSCAN’s most important parameter min_cluster_size (the smallest size grouping we wish to consider a cluster) is found by visualization of the data after the embedding. The optimal value of 10, in combination with the chosen hyperparameters for UMAP, results in the clustering results shown a few cells below\n"
   ]
  },
  {
   "cell_type": "code",
   "execution_count": 14,
   "metadata": {},
   "outputs": [
    {
     "name": "stderr",
     "output_type": "stream",
     "text": [
      "/opt/anaconda3/lib/python3.8/site-packages/ipykernel/ipkernel.py:287: DeprecationWarning: `should_run_async` will not call `transform_cell` automatically in the future. Please pass the result to `transformed_cell` argument and any exception that happen during thetransform in `preprocessing_exc_tuple` in IPython 7.17 and above.\n",
      "  and should_run_async(code)\n"
     ]
    }
   ],
   "source": [
    "# Clustering with HDBSCAN\n",
    "!pip install hdbscan\n",
    "import hdbscan\n",
    "cluster = hdbscan.HDBSCAN(min_cluster_size=20,\n",
    "                          metric='euclidean',                      \n",
    "                          cluster_selection_method='eom').fit(umap_embeddings)"
   ]
  },
  {
   "cell_type": "code",
   "execution_count": 15,
   "metadata": {},
   "outputs": [
    {
     "name": "stderr",
     "output_type": "stream",
     "text": [
      "/opt/anaconda3/lib/python3.8/site-packages/ipykernel/ipkernel.py:287: DeprecationWarning: `should_run_async` will not call `transform_cell` automatically in the future. Please pass the result to `transformed_cell` argument and any exception that happen during thetransform in `preprocessing_exc_tuple` in IPython 7.17 and above.\n",
      "  and should_run_async(code)\n"
     ]
    },
    {
     "data": {
      "text/plain": [
       "<matplotlib.colorbar.Colorbar at 0x7fac5da17b20>"
      ]
     },
     "execution_count": 15,
     "metadata": {},
     "output_type": "execute_result"
    },
    {
     "data": {
      "image/png": "[encoded data removed]",
      "text/plain": [
       "<Figure size 1440x720 with 2 Axes>"
      ]
     },
     "metadata": {
      "needs_background": "light"
     },
     "output_type": "display_data"
    }
   ],
   "source": [
    "# To visualize the resulting clusters we can further reduce the dimensionality to 2 and visualize the outliers as grey points\n",
    "import matplotlib.pyplot as plt\n",
    "\n",
    "# Prepare data\n",
    "umap_data = umap_embeddings\n",
    "result = pd.DataFrame(umap_data, columns=['x', 'y'])\n",
    "result['labels'] = cluster.labels_\n",
    "\n",
    "# Visualize clusters\n",
    "fig, ax = plt.subplots(figsize=(20, 10))\n",
    "outliers = result.loc[result.labels == -1, :]\n",
    "clustered = result.loc[result.labels != -1, :]\n",
    "plt.scatter(outliers.x, outliers.y, color='#BDBDBD', s=0.05)\n",
    "plt.scatter(clustered.x, clustered.y, c=clustered.labels, s=0.05, cmap='hsv_r')\n",
    "plt.colorbar()"
   ]
  },
  {
   "cell_type": "markdown",
   "metadata": {},
   "source": [
    "Step 4: Deriving topics\n",
    "Finally, the topics can be extracted from the model. This Top2Vec models employs a variation of the well-known TF-IDF method to find out what makes one topic different from another (Grootendorst, 2020). It views each tweet within a cluster as a separate cluster and computes the TF-IDF score for each word within the tweet (or cluster), which then allows us to find the most important words within this tweet (or cluster). Then taking the top 10 most important words in each one of these tweets (or clusters) would then form a good representation of the actual cluster, i.e., the topic. Deriving the top 10 words per topic based on their TF-IDF scores then helps us giving the topic a name. \n"
   ]
  },
  {
   "cell_type": "code",
   "execution_count": 16,
   "metadata": {},
   "outputs": [
    {
     "name": "stderr",
     "output_type": "stream",
     "text": [
      "/opt/anaconda3/lib/python3.8/site-packages/ipykernel/ipkernel.py:287: DeprecationWarning: `should_run_async` will not call `transform_cell` automatically in the future. Please pass the result to `transformed_cell` argument and any exception that happen during thetransform in `preprocessing_exc_tuple` in IPython 7.17 and above.\n",
      "  and should_run_async(code)\n"
     ]
    },
    {
     "data": {
      "text/html": [
       "<div>\n",
       "<style scoped>\n",
       "    .dataframe tbody tr th:only-of-type {\n",
       "        vertical-align: middle;\n",
       "    }\n",
       "\n",
       "    .dataframe tbody tr th {\n",
       "        vertical-align: top;\n",
       "    }\n",
       "\n",
       "    .dataframe thead th {\n",
       "        text-align: right;\n",
       "    }\n",
       "</style>\n",
       "<table border=\"1\" class=\"dataframe\">\n",
       "  <thead>\n",
       "    <tr style=\"text-align: right;\">\n",
       "      <th></th>\n",
       "      <th>Topic</th>\n",
       "      <th>Size</th>\n",
       "    </tr>\n",
       "  </thead>\n",
       "  <tbody>\n",
       "    <tr>\n",
       "      <th>0</th>\n",
       "      <td>-1</td>\n",
       "      <td>1874</td>\n",
       "    </tr>\n",
       "    <tr>\n",
       "      <th>36</th>\n",
       "      <td>35</td>\n",
       "      <td>505</td>\n",
       "    </tr>\n",
       "    <tr>\n",
       "      <th>9</th>\n",
       "      <td>8</td>\n",
       "      <td>277</td>\n",
       "    </tr>\n",
       "    <tr>\n",
       "      <th>40</th>\n",
       "      <td>39</td>\n",
       "      <td>229</td>\n",
       "    </tr>\n",
       "    <tr>\n",
       "      <th>34</th>\n",
       "      <td>33</td>\n",
       "      <td>144</td>\n",
       "    </tr>\n",
       "    <tr>\n",
       "      <th>33</th>\n",
       "      <td>32</td>\n",
       "      <td>135</td>\n",
       "    </tr>\n",
       "    <tr>\n",
       "      <th>37</th>\n",
       "      <td>36</td>\n",
       "      <td>129</td>\n",
       "    </tr>\n",
       "    <tr>\n",
       "      <th>35</th>\n",
       "      <td>34</td>\n",
       "      <td>81</td>\n",
       "    </tr>\n",
       "    <tr>\n",
       "      <th>30</th>\n",
       "      <td>29</td>\n",
       "      <td>76</td>\n",
       "    </tr>\n",
       "    <tr>\n",
       "      <th>28</th>\n",
       "      <td>27</td>\n",
       "      <td>75</td>\n",
       "    </tr>\n",
       "  </tbody>\n",
       "</table>\n",
       "</div>"
      ],
      "text/plain": [
       "    Topic  Size\n",
       "0      -1  1874\n",
       "36     35   505\n",
       "9       8   277\n",
       "40     39   229\n",
       "34     33   144\n",
       "33     32   135\n",
       "37     36   129\n",
       "35     34    81\n",
       "30     29    76\n",
       "28     27    75"
      ]
     },
     "execution_count": 16,
     "metadata": {},
     "output_type": "execute_result"
    }
   ],
   "source": [
    "# Create the needed data frame and features\n",
    "\n",
    "docs_df = pd.DataFrame(list_top2vec, columns=[\"Doc\"])\n",
    "docs_df['Topic'] = cluster.labels_\n",
    "docs_df['Doc_ID'] = range(len(docs_df))\n",
    "docs_per_topic = docs_df.groupby(['Topic'], as_index = False).agg({'Doc': ' '.join})\n",
    "\n",
    "# do calculations\n",
    "import numpy as np\n",
    "from sklearn.feature_extraction.text import CountVectorizer\n",
    "\n",
    "def c_tf_idf(documents, m, ngram_range=(1, 1)):\n",
    "    count = CountVectorizer(ngram_range=ngram_range, stop_words=\"english\").fit(documents)\n",
    "    t = count.transform(documents).toarray()\n",
    "    w = t.sum(axis=1)\n",
    "    tf = np.divide(t.T, w)\n",
    "    sum_t = t.sum(axis=0)\n",
    "    idf = np.log(np.divide(m, sum_t)).reshape(-1, 1)\n",
    "    tf_idf = np.multiply(tf, idf)\n",
    "\n",
    "    return tf_idf, count\n",
    "  \n",
    "tf_idf, count = c_tf_idf(docs_per_topic.Doc.values, m=len(data))\n",
    "\n",
    "# In order to create a topic representation, we take the top 10 words per topic based on their TF-IDF scores. \n",
    "# The higher the score, the more representative it should be of its topic as the score is a proxy of information density.\n",
    "\n",
    "def extract_top_n_words_per_topic(tf_idf, count, docs_per_topic, n=10):\n",
    "    words = count.get_feature_names()\n",
    "    labels = list(docs_per_topic.Topic)\n",
    "    tf_idf_transposed = tf_idf.T\n",
    "    indices = tf_idf_transposed.argsort()[:, -n:]\n",
    "    top_n_words = {label: [(words[j], tf_idf_transposed[i][j]) for j in indices[i]][::-1] for i, label in enumerate(labels)}\n",
    "    return top_n_words\n",
    "\n",
    "def extract_topic_sizes(df):\n",
    "    topic_sizes = (df.groupby(['Topic'])\n",
    "                     .Doc\n",
    "                     .count()\n",
    "                     .reset_index()\n",
    "                     .rename({\"Topic\": \"Topic\", \"Doc\": \"Size\"}, axis='columns')\n",
    "                     .sort_values(\"Size\", ascending=False))\n",
    "    return topic_sizes\n",
    "\n",
    "# Create new variables by putting the needed input in the previously defined functions\n",
    "top_n_words = extract_top_n_words_per_topic(tf_idf, count, docs_per_topic, n=10)\n",
    "topic_sizes = extract_topic_sizes(docs_df); topic_sizes.head(10)"
   ]
  },
  {
   "cell_type": "code",
   "execution_count": 17,
   "metadata": {},
   "outputs": [
    {
     "name": "stdout",
     "output_type": "stream",
     "text": [
      "42\n"
     ]
    },
    {
     "name": "stderr",
     "output_type": "stream",
     "text": [
      "/opt/anaconda3/lib/python3.8/site-packages/ipykernel/ipkernel.py:287: DeprecationWarning: `should_run_async` will not call `transform_cell` automatically in the future. Please pass the result to `transformed_cell` argument and any exception that happen during thetransform in `preprocessing_exc_tuple` in IPython 7.17 and above.\n",
      "  and should_run_async(code)\n"
     ]
    }
   ],
   "source": [
    "print(len(topic_sizes))"
   ]
  },
  {
   "cell_type": "markdown",
   "metadata": {},
   "source": [
    "Below the top 8 topics are printed with their top 10 key words and their weights"
   ]
  },
  {
   "cell_type": "code",
   "execution_count": 20,
   "metadata": {},
   "outputs": [
    {
     "name": "stdout",
     "output_type": "stream",
     "text": [
      "Top words for topic 35:  [('death', 0.041143505586888465), ('collapse', 0.04073365625730158), ('like', 0.03884105333906134), ('wa', 0.034363440457253855), ('closed', 0.02788319109194826), ('ha', 0.0232689018404457), ('bridge', 0.021570748885873032), ('palestinian', 0.021470811120327636), ('fatality', 0.021237379202028336), ('dead', 0.02097117536492618)]\n",
      "Top words for topic 8:  [('hiroshima', 0.20484760560477694), ('nuclear', 0.16340398674981205), ('atomic', 0.11691837961353291), ('japan', 0.10991282667864698), ('bombing', 0.0955196530723299), ('iran', 0.07343463761651077), ('anniversary', 0.07007154355124022), ('mark', 0.06424790322454269), ('bomb', 0.057704777705110406), ('nagasaki', 0.05546313647843926)]\n",
      "Top words for topic 39:  [('mass', 0.10807277102609378), ('attack', 0.0891833669132357), ('police', 0.07534105244084262), ('murder', 0.06897097845693109), ('hostage', 0.06484366261565627), ('militant', 0.06053713211878946), ('murderer', 0.059423016234988274), ('terrorist', 0.059422227187621926), ('udhampur', 0.05339166807048927), ('massacre', 0.049687878151327906)]\n",
      "Top words for topic 33:  [('forest', 0.20170099467380231), ('california', 0.18303615613510676), ('wildfire', 0.1646254304422506), ('wild', 0.09958810128168764), ('bush', 0.06068619087814901), ('service', 0.05565650164468599), ('firefighter', 0.050571825731790844), ('rocky', 0.0454283718507652), ('burning', 0.04521053490103729), ('contained', 0.04309224048507481)]\n",
      "Top words for topic 32:  [('building', 0.24441110479022782), ('burning', 0.13477552203564994), ('flame', 0.08325960665251944), ('truck', 0.07751604271543323), ('manchester', 0.057172381620343965), ('street', 0.052514786980937235), ('dutch', 0.04568955641469667), ('wa', 0.04296110832417239), ('damaged', 0.042879286215257974), ('ablaze', 0.040950861790570885)]\n",
      "Top words for topic 36:  [('youtube', 0.12166223070035691), ('video', 0.058523912520392844), ('liked', 0.05632610498742969), ('hijack', 0.05357529083672099), ('patience', 0.04153928671784459), ('jonathan', 0.04153928671784459), ('bayelsa', 0.04153928671784459), ('amp', 0.04045312882701951), ('love', 0.03953050646824812), ('reddit', 0.03699327361247786)]\n",
      "Top words for topic 34:  [('suicide', 0.43454106258057923), ('mosque', 0.3755692236569571), ('saudi', 0.37190073772374793), ('bomber', 0.28454729880604795), ('bombing', 0.1881161041542056), ('kill', 0.1801295187744092), ('security', 0.1496890575036326), ('site', 0.13193024699455053), ('claim', 0.11798504961347148), ('reuters', 0.08839775143503754)]\n",
      "Top words for topic 29:  [('train', 0.4650495689428277), ('derailed', 0.17558812915552166), ('derail', 0.14531821616150034), ('derailment', 0.132990031452278), ('metro', 0.1071856826317835), ('rail', 0.10097245289830148), ('india', 0.0993861372654637), ('passenger', 0.08729296186789395), ('freakiest', 0.07531306822383504), ('line', 0.07489101469688614)]\n"
     ]
    },
    {
     "name": "stderr",
     "output_type": "stream",
     "text": [
      "/opt/anaconda3/lib/python3.8/site-packages/ipykernel/ipkernel.py:287: DeprecationWarning: `should_run_async` will not call `transform_cell` automatically in the future. Please pass the result to `transformed_cell` argument and any exception that happen during thetransform in `preprocessing_exc_tuple` in IPython 7.17 and above.\n",
      "  and should_run_async(code)\n"
     ]
    }
   ],
   "source": [
    "print(\"Top words for topic 35: \" ,top_n_words[35][:10])\n",
    "print(\"Top words for topic 8: \" ,top_n_words[8][:10])\n",
    "print(\"Top words for topic 39: \" ,top_n_words[39][:10])\n",
    "print(\"Top words for topic 33: \" ,top_n_words[33][:10])\n",
    "print(\"Top words for topic 32: \" ,top_n_words[32][:10])\n",
    "print(\"Top words for topic 36: \" ,top_n_words[36][:10])\n",
    "print(\"Top words for topic 34: \" ,top_n_words[34][:10])\n",
    "print(\"Top words for topic 29: \" ,top_n_words[29][:10])\n"
   ]
  }
 ],
 "metadata": {
  "interpreter": {
   "hash": "40d3a090f54c6569ab1632332b64b2c03c39dcf918b08424e98f38b5ae0af88f"
  },
  "kernelspec": {
   "display_name": "Python 3.8.8 ('base')",
   "language": "python",
   "name": "python3"
  },
  "language_info": {
   "codemirror_mode": {
    "name": "ipython",
    "version": 3
   },
   "file_extension": ".py",
   "mimetype": "text/x-python",
   "name": "python",
   "nbconvert_exporter": "python",
   "pygments_lexer": "ipython3",
   "version": "3.8.8"
  },
  "orig_nbformat": 4
 },
 "nbformat": 4,
 "nbformat_minor": 2
}
